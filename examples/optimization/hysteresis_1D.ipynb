{
 "cells": [
  {
   "cell_type": "code",
   "execution_count": 1,
   "id": "31cb583d-fb4e-4474-a07c-62ba4cbee649",
   "metadata": {},
   "outputs": [],
   "source": [
    "from copy import deepcopy\n",
    "\n",
    "import matplotlib.pyplot as plt\n",
    "import torch\n",
    "from botorch.acquisition import UpperConfidenceBound\n",
    "from botorch.optim import optimize_acqf\n",
    "\n",
    "from hysteresis.base import BaseHysteresis\n",
    "from hysteresis.torch_accelerator.first_order import TorchDrift\n",
    "from hysteresis.torch_accelerator.hysteresis import HysteresisAccelerator, HysteresisQuad"
   ]
  },
  {
   "cell_type": "markdown",
   "id": "3528b000-c9f3-44bb-92af-73466901e2b1",
   "metadata": {},
   "source": [
    "# Generate optimization data without hysteresis 1D"
   ]
  },
  {
   "cell_type": "code",
   "execution_count": 13,
   "id": "96f24015-6a27-42db-b4f9-a9d0942e076c",
   "metadata": {},
   "outputs": [
    {
     "name": "stdout",
     "output_type": "stream",
     "text": [
      "tensor(0.)\n",
      "tensor(0.)\n",
      "tensor(0.1003, dtype=torch.float64)\n"
     ]
    },
    {
     "data": {
      "text/plain": "[<matplotlib.lines.Line2D at 0x1f775008940>]"
     },
     "execution_count": 13,
     "metadata": {},
     "output_type": "execute_result"
    },
    {
     "data": {
      "text/plain": "<Figure size 432x288 with 1 Axes>",
      "image/png": "[encoded data removed]"
     },
     "metadata": {
      "needs_background": "light"
     },
     "output_type": "display_data"
    }
   ],
   "source": [
    "fixed_domain = torch.tensor((-1.0, 1.0))\n",
    "H = BaseHysteresis(\n",
    "            trainable=False,\n",
    "            mesh_scale=0.5,\n",
    "            fixed_domain = torch.tensor((-1.0, 1.0))\n",
    "        )\n",
    "\n",
    "s = [0.0,0.235,0.940]\n",
    "scale = s[1]\n",
    "m_sat = 1.0\n",
    "H.scale = scale\n",
    "H.slope = (m_sat - H.scale) * 2.0\n",
    "H.offset = -H.slope / 2.0\n",
    "test_applied_fields = torch.cat(\n",
    "    (torch.linspace(-1,1,111) , torch.flipud(torch.linspace(-1,1,111)))\n",
    ")\n",
    "\n",
    "H.regression()\n",
    "M = H(test_applied_fields, return_real=True).detach()\n",
    "\n",
    "print(test_applied_fields[55])\n",
    "print(test_applied_fields[55+111])\n",
    "print(M[55+111] - M[55])\n",
    "\n",
    "fig, ax = plt.subplots()\n",
    "ax.plot(test_applied_fields, 400*M)"
   ]
  },
  {
   "cell_type": "code",
   "execution_count": 3,
   "id": "8d1df07f-6b86-4215-b1c9-28053d77ab16",
   "metadata": {},
   "outputs": [],
   "source": [
    "#create accelerator model using hysteresis models\n",
    "hmodels = [deepcopy(H)]\n",
    "\n",
    "# define quadrupoles\n",
    "q1 = HysteresisQuad(\"q1\", torch.tensor(0.01), hmodels[0])\n",
    "d1 = TorchDrift(\"d1\", torch.tensor(1.0))\n",
    "\n",
    "HA = HysteresisAccelerator([q1, d1])\n",
    "\n",
    "init_beam_matrix = torch.eye(6) * 1.0e-8\n",
    "\n",
    "# set x_rms beam size to 1 mm and rms divergence to 0.1 mrad\n",
    "init_beam_matrix[0, 0] = 5.0e-3 ** 2\n",
    "init_beam_matrix[1, 1] = 1.0e-4 ** 2\n",
    "init_beam_matrix[2, 2] = 5.0e-3 ** 2\n",
    "init_beam_matrix[3, 3] = 1.0e-4 ** 2\n",
    "R = init_beam_matrix\n"
   ]
  },
  {
   "cell_type": "code",
   "execution_count": 4,
   "id": "339899c6-869a-43a1-a392-02449ed2738e",
   "metadata": {},
   "outputs": [],
   "source": [
    "# create objective function - log(sqrt(RMS()))\n",
    "def objective(R):\n",
    "    return torch.abs(torch.sqrt(R[0,0]) - 8e-3)\n"
   ]
  },
  {
   "cell_type": "code",
   "execution_count": 5,
   "id": "13faeb28-c597-432c-a366-c77529956f44",
   "metadata": {},
   "outputs": [],
   "source": [
    "from botorch.models.transforms import Normalize\n",
    "# define function to create model\n",
    "from gpytorch.utils.errors import NotPSDError\n",
    "from botorch import fit_gpytorch_model\n",
    "from gpytorch import ExactMarginalLogLikelihood\n",
    "from botorch.models import SingleTaskGP\n",
    "from botorch.models.transforms import Standardize\n",
    "from tqdm.notebook import trange\n",
    "from gpytorch.likelihoods import GaussianLikelihood\n",
    "from hysteresis.hybrid import ExactHybridGP\n",
    "\n",
    "\n",
    "def get_model(train_X, train_Y, use_hybrid = False, h_models = None):\n",
    "    if use_hybrid:\n",
    "        gpmodel = ExactHybridGP(\n",
    "            train_X.clone().detach().double(),\n",
    "            train_Y.clone().detach().flatten().double(), \n",
    "            h_models,\n",
    "        )\n",
    "        \n",
    "        mll = ExactMarginalLogLikelihood(gpmodel.gp.likelihood, gpmodel)\n",
    "        fit_gpytorch_model(mll)\n",
    "        \n",
    "    else:\n",
    "        std_trans = Standardize(1)\n",
    "        gpmodel = SingleTaskGP(\n",
    "            train_X.clone().detach(),\n",
    "            train_Y.clone().detach(),\n",
    "            input_transform=None,#Normalize(train_X.shape[-1]),\n",
    "            outcome_transform=std_trans\n",
    "        )\n",
    "        mll = ExactMarginalLogLikelihood(gpmodel.likelihood, gpmodel)\n",
    "        fit_gpytorch_model(mll)\n",
    "    return gpmodel"
   ]
  },
  {
   "cell_type": "code",
   "execution_count": 6,
   "id": "9688fb13-db7d-4eca-8838-870b10782362",
   "metadata": {},
   "outputs": [],
   "source": [
    "# define optimizer function\n",
    "\n",
    "\n",
    "def optimize(\n",
    "        accelerator_model,\n",
    "        initial_beam_matrix,\n",
    "        h_models,\n",
    "        steps=50,\n",
    "        use_hybrid = False\n",
    "):\n",
    "    iterations = steps\n",
    "\n",
    "    accelerator_model.current()\n",
    "\n",
    "    # initialize with a couple of points\n",
    "    train_X = torch.ones((3, 1)) * 0.25\n",
    "    train_X[0] = train_X[0] * 0.0\n",
    "    train_X[2] = torch.tensor((0.3))\n",
    "    train_Y = torch.empty((3, 1))\n",
    "\n",
    "    for j in range(3):\n",
    "        accelerator_model.apply_fields({'q1': train_X[j, 0]})\n",
    "\n",
    "        train_Y[j] = objective(\n",
    "            accelerator_model.forward(initial_beam_matrix)\n",
    "        )\n",
    "\n",
    "    print(train_X)\n",
    "    print(train_Y)\n",
    "\n",
    "    gpmodel = get_model(train_X, train_Y, use_hybrid, h_models)\n",
    "\n",
    "    for i in trange(iterations):\n",
    "        UCB = UpperConfidenceBound(gpmodel, beta=0.1, maximize=False)\n",
    "        \n",
    "        if use_hybrid:\n",
    "            gpmodel.next()\n",
    "\n",
    "        bounds = torch.stack([-1.0 * torch.ones(1), 1.0*torch.ones(1)])\n",
    "        candidate, acq_value = optimize_acqf(\n",
    "            UCB,\n",
    "            bounds=bounds,\n",
    "            q=1,\n",
    "            num_restarts=5,\n",
    "            raw_samples=20,\n",
    "        )\n",
    "        train_X = torch.cat((train_X, candidate))\n",
    "\n",
    "        # apply candidate\n",
    "        accelerator_model.apply_fields({'q1': candidate[0,0]})\n",
    "\n",
    "        # make next measurement\n",
    "        bs = objective(\n",
    "            accelerator_model(initial_beam_matrix)\n",
    "        ).reshape(1, 1)\n",
    "        train_Y = torch.cat((train_Y.clone(), bs.clone()))\n",
    "\n",
    "        # train new model\n",
    "        try:\n",
    "            gpmodel = get_model(train_X, train_Y, use_hybrid, h_models)\n",
    "        except NotPSDError:\n",
    "            pass\n",
    "    \n",
    "    return train_X, train_Y"
   ]
  },
  {
   "cell_type": "markdown",
   "id": "a30eb8f0-c21c-4bdd-a0c9-6ae06402f04f",
   "metadata": {},
   "source": [
    "## Do optimization"
   ]
  },
  {
   "cell_type": "code",
   "execution_count": 7,
   "id": "7d37e951-8d96-479f-b4a3-1c143e4b7749",
   "metadata": {},
   "outputs": [
    {
     "name": "stdout",
     "output_type": "stream",
     "text": [
      "tensor([[0.0000],\n",
      "        [0.2500],\n",
      "        [0.3000]])\n",
      "tensor([[0.0030],\n",
      "        [0.0030],\n",
      "        [0.0030]])\n"
     ]
    },
    {
     "data": {
      "text/plain": "  0%|          | 0/10 [00:00<?, ?it/s]",
      "application/vnd.jupyter.widget-view+json": {
       "version_major": 2,
       "version_minor": 0,
       "model_id": "ffc7d6fb26ab4d788de6ab36032a1412"
      }
     },
     "metadata": {},
     "output_type": "display_data"
    },
    {
     "name": "stderr",
     "output_type": "stream",
     "text": [
      "C:\\ProgramData\\Miniconda3\\envs\\bayesian_hysteresis\\lib\\site-packages\\gpytorch\\distributions\\multivariate_normal.py:259: NumericalWarning: Negative variance values detected. This is likely due to numerical instabilities. Rounding negative variances up to 1e-06.\n",
      "  warnings.warn(\n",
      "C:\\ProgramData\\Miniconda3\\envs\\bayesian_hysteresis\\lib\\site-packages\\gpytorch\\distributions\\multivariate_normal.py:259: NumericalWarning: Negative variance values detected. This is likely due to numerical instabilities. Rounding negative variances up to 1e-06.\n",
      "  warnings.warn(\n",
      "C:\\ProgramData\\Miniconda3\\envs\\bayesian_hysteresis\\lib\\site-packages\\gpytorch\\distributions\\multivariate_normal.py:259: NumericalWarning: Negative variance values detected. This is likely due to numerical instabilities. Rounding negative variances up to 1e-06.\n",
      "  warnings.warn(\n",
      "C:\\ProgramData\\Miniconda3\\envs\\bayesian_hysteresis\\lib\\site-packages\\gpytorch\\distributions\\multivariate_normal.py:259: NumericalWarning: Negative variance values detected. This is likely due to numerical instabilities. Rounding negative variances up to 1e-06.\n",
      "  warnings.warn(\n",
      "C:\\ProgramData\\Miniconda3\\envs\\bayesian_hysteresis\\lib\\site-packages\\gpytorch\\distributions\\multivariate_normal.py:259: NumericalWarning: Negative variance values detected. This is likely due to numerical instabilities. Rounding negative variances up to 1e-06.\n",
      "  warnings.warn(\n",
      "C:\\ProgramData\\Miniconda3\\envs\\bayesian_hysteresis\\lib\\site-packages\\gpytorch\\distributions\\multivariate_normal.py:259: NumericalWarning: Negative variance values detected. This is likely due to numerical instabilities. Rounding negative variances up to 1e-06.\n",
      "  warnings.warn(\n",
      "C:\\ProgramData\\Miniconda3\\envs\\bayesian_hysteresis\\lib\\site-packages\\gpytorch\\distributions\\multivariate_normal.py:259: NumericalWarning: Negative variance values detected. This is likely due to numerical instabilities. Rounding negative variances up to 1e-06.\n",
      "  warnings.warn(\n",
      "C:\\ProgramData\\Miniconda3\\envs\\bayesian_hysteresis\\lib\\site-packages\\gpytorch\\distributions\\multivariate_normal.py:259: NumericalWarning: Negative variance values detected. This is likely due to numerical instabilities. Rounding negative variances up to 1e-06.\n",
      "  warnings.warn(\n",
      "C:\\ProgramData\\Miniconda3\\envs\\bayesian_hysteresis\\lib\\site-packages\\gpytorch\\distributions\\multivariate_normal.py:259: NumericalWarning: Negative variance values detected. This is likely due to numerical instabilities. Rounding negative variances up to 1e-06.\n",
      "  warnings.warn(\n",
      "C:\\ProgramData\\Miniconda3\\envs\\bayesian_hysteresis\\lib\\site-packages\\gpytorch\\distributions\\multivariate_normal.py:259: NumericalWarning: Negative variance values detected. This is likely due to numerical instabilities. Rounding negative variances up to 1e-06.\n",
      "  warnings.warn(\n"
     ]
    }
   ],
   "source": [
    "train_X, train_Y = optimize(\n",
    "    HA,\n",
    "    R,\n",
    "    hmodels,\n",
    "    steps=10,\n",
    "    use_hybrid=False\n",
    ")"
   ]
  },
  {
   "cell_type": "code",
   "execution_count": 8,
   "id": "145aa6da-7fe3-4268-802c-024f98c41d9a",
   "metadata": {},
   "outputs": [
    {
     "data": {
      "text/plain": "[<matplotlib.lines.Line2D at 0x1f76d9086a0>]"
     },
     "execution_count": 8,
     "metadata": {},
     "output_type": "execute_result"
    },
    {
     "data": {
      "text/plain": "<Figure size 432x288 with 1 Axes>",
      "image/png": "[encoded data removed]"
     },
     "metadata": {
      "needs_background": "light"
     },
     "output_type": "display_data"
    }
   ],
   "source": [
    "fig,ax = plt.subplots()\n",
    "ax.plot(train_Y.detach())"
   ]
  },
  {
   "cell_type": "code",
   "execution_count": 9,
   "id": "e2d354e2-5d85-4b4e-b0f9-c01a19e25aa0",
   "metadata": {},
   "outputs": [
    {
     "name": "stdout",
     "output_type": "stream",
     "text": [
      "{'q1': tensor(-1.)}\n",
      "tensor(0.0029, grad_fn=<AbsBackward0>)\n"
     ]
    },
    {
     "data": {
      "text/plain": "<Figure size 432x288 with 1 Axes>",
      "image/png": "[encoded data removed]"
     },
     "metadata": {
      "needs_background": "light"
     },
     "output_type": "display_data"
    }
   ],
   "source": [
    "best_settings = train_X[torch.argmin(train_Y)]\n",
    "\n",
    "# apply candidate\n",
    "print(dict(zip(['q1','q2','q3'], best_settings)))\n",
    "HA.apply_fields(dict(zip(['q1','q2','q3'], best_settings)))\n",
    "\n",
    "beam_matrix = HA(init_beam_matrix, full=False)\n",
    "fig,ax = plt.subplots()\n",
    "ax.plot(torch.sqrt(beam_matrix[:, 0, 0]).detach())\n",
    "ax.plot(torch.sqrt(beam_matrix[:, 2, 2]).detach())\n",
    "\n",
    "ax.axhline(2.0e-3)\n",
    "print(objective(beam_matrix[-1]))"
   ]
  },
  {
   "cell_type": "code",
   "execution_count": 10,
   "id": "18de8f25-208d-4249-857a-542d9e30498b",
   "metadata": {},
   "outputs": [
    {
     "data": {
      "text/plain": "<Figure size 432x288 with 1 Axes>",
      "image/png": "[encoded data removed]"
     },
     "metadata": {
      "needs_background": "light"
     },
     "output_type": "display_data"
    }
   ],
   "source": [
    "model = get_model(train_X, train_Y, use_hybrid = True, h_models = hmodels)\n",
    "\n",
    "model.next()\n",
    "test_x = torch.linspace(*fixed_domain, 100)\n",
    "with torch.no_grad():\n",
    "    post = model(test_x.unsqueeze(1), return_real=True, return_likelihood=True)\n",
    "    mean = post.mean.flatten()\n",
    "    var = post.variance.flatten()\n",
    "\n",
    "fig,ax = plt.subplots()\n",
    "l = mean - torch.sqrt(var)\n",
    "u = mean + torch.sqrt(var)\n",
    "ax.plot(test_x, mean*1e3)\n",
    "ax.fill_between(test_x, l*1e3, u*1e3, alpha=0.25)\n",
    "ax.plot(train_X, train_Y.detach()*1e3, 'o',ms=4)\n",
    "ax.set_xlabel('Quad strength')\n",
    "ax.set_ylabel('$\\Delta_x$ (mm)')\n",
    "fig.savefig('1d_joint_model.png', dpi=300)\n"
   ]
  },
  {
   "cell_type": "code",
   "execution_count": 11,
   "id": "00721bcb-d409-41a0-b6d7-73d09e765e85",
   "metadata": {},
   "outputs": [
    {
     "name": "stdout",
     "output_type": "stream",
     "text": [
      "tensor([[-1.]])\n"
     ]
    }
   ],
   "source": [
    "# optimize model to find the best point\n",
    "UCB = UpperConfidenceBound(model, beta=0.0000001, maximize=False)\n",
    "try:\n",
    "    model.next()\n",
    "except AttributeError:\n",
    "    pass\n",
    "\n",
    "bounds = torch.stack([-1.0 * torch.ones(1), 1.0*torch.ones(1)])\n",
    "candidate, acq_value = optimize_acqf(\n",
    "    UCB,\n",
    "    bounds=bounds,\n",
    "    q=1,\n",
    "    num_restarts=100,\n",
    "    raw_samples=100,\n",
    ")\n",
    "print(candidate)"
   ]
  },
  {
   "cell_type": "code",
   "execution_count": 12,
   "id": "565e0f7b-ed16-42e3-a520-cad5346d4de7",
   "metadata": {},
   "outputs": [
    {
     "data": {
      "text/plain": "<Figure size 432x288 with 1 Axes>",
      "image/png": "[encoded data removed]"
     },
     "metadata": {
      "needs_background": "light"
     },
     "output_type": "display_data"
    }
   ],
   "source": [
    "# try fitting a normal GP to compare\n",
    "gp = get_model(train_X, train_Y, use_hybrid=False)\n",
    "with torch.no_grad():\n",
    "    gppost = gp.outcome_transform.untransform_posterior(\n",
    "        gp.likelihood(gp(test_x.reshape(-1,1,1))))\n",
    "    gpmean = gppost.mean.flatten()\n",
    "    gpvar = gppost.variance.flatten()\n",
    "\n",
    "fig,ax = plt.subplots()\n",
    "l = gpmean - torch.sqrt(gpvar)\n",
    "u = gpmean + torch.sqrt(gpvar)\n",
    "ax.plot(test_x, gpmean*1e3)\n",
    "ax.fill_between(test_x, l*1e3, u*1e3, alpha=0.25)\n",
    "ax.plot(train_X, train_Y.detach()*1e3, 'o', ms=4)\n",
    "ax.set_xlabel('Quad strength')\n",
    "ax.set_ylabel('$\\Delta_x$ (mm)')\n",
    "fig.savefig('1d_gp_model.png', dpi=300)\n",
    "#ax.plot(gp.train_inputs[0].flatten(), train_Y.detach(), 'o')"
   ]
  },
  {
   "cell_type": "code",
   "execution_count": 12,
   "outputs": [],
   "source": [],
   "metadata": {
    "collapsed": false,
    "pycharm": {
     "name": "#%%\n"
    }
   }
  }
 ],
 "metadata": {
  "kernelspec": {
   "name": "python3",
   "language": "python",
   "display_name": "Python 3 (ipykernel)"
  },
  "language_info": {
   "codemirror_mode": {
    "name": "ipython",
    "version": 3
   },
   "file_extension": ".py",
   "mimetype": "text/x-python",
   "name": "python",
   "nbconvert_exporter": "python",
   "pygments_lexer": "ipython3",
   "version": "3.9.7"
  }
 },
 "nbformat": 4,
 "nbformat_minor": 5
}