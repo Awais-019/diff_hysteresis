{
 "cells": [
  {
   "cell_type": "code",
   "execution_count": 64,
   "metadata": {
    "collapsed": true
   },
   "outputs": [],
   "source": [
    "import numpy as np\n",
    "import matplotlib.pyplot as plt\n",
    "\n",
    "fname = 'facet-ii_data/quadrupoles/quad_m1-34.ru1'\n",
    "data = []\n",
    "with open(fname,'r') as f:\n",
    "    f.readline()\n",
    "    for line in f:\n",
    "        temp = line.rstrip().split(' ')\n",
    "        d = []\n",
    "        for ele in temp:\n",
    "            if ele != '':\n",
    "                d += [ele]\n",
    "        data += [d]\n",
    "data = np.asfarray(data)\n",
    "data[:,0] =data[:,0] / np.max(data[:,0])\n",
    "data[:,2] = -data[:,2]"
   ]
  },
  {
   "cell_type": "code",
   "execution_count": 65,
   "outputs": [
    {
     "data": {
      "text/plain": "[<matplotlib.lines.Line2D at 0x207a3d9c0d0>]"
     },
     "execution_count": 65,
     "metadata": {},
     "output_type": "execute_result"
    },
    {
     "data": {
      "text/plain": "<Figure size 432x288 with 1 Axes>",
      "image/png": "[encoded data removed]"
     },
     "metadata": {
      "needs_background": "light"
     },
     "output_type": "display_data"
    }
   ],
   "source": [
    "fig,ax = plt.subplots()\n",
    "ax.plot(data[:,0],data[:,2])"
   ],
   "metadata": {
    "collapsed": false,
    "pycharm": {
     "name": "#%%\n"
    }
   }
  },
  {
   "cell_type": "code",
   "execution_count": 66,
   "outputs": [],
   "source": [
    "fname = 'facet-ii_data/quadrupoles/quad_m1-34.ru1'\n",
    "data = []\n",
    "with open(fname,'r') as f:\n",
    "    f.readline()\n",
    "    for line in f:\n",
    "        temp = line.rstrip().split(' ')\n",
    "        d = []\n",
    "        for ele in temp:\n",
    "            if ele != '':\n",
    "                d += [ele]\n",
    "        data += [d]\n",
    "data = np.asfarray(data)\n",
    "data[:, 1] = data[:, 1] / np.max(data[:, 1])\n",
    "data[:, 3] = data[:, 3] * np.where(data[:,7] < 0, -1, 1)\n",
    "\n"
   ],
   "metadata": {
    "collapsed": false,
    "pycharm": {
     "name": "#%%\n"
    }
   }
  },
  {
   "cell_type": "code",
   "execution_count": 67,
   "outputs": [
    {
     "name": "stdout",
     "output_type": "stream",
     "text": [
      "calculating states\n",
      "calculating states\n",
      "[iteration 0001] loss: 1290.5548\n",
      "[iteration 0101] loss: 1985.5604\n",
      "[iteration 0201] loss: 1587.5616\n",
      "[iteration 0301] loss: 1043.0496\n",
      "[iteration 0401] loss: 2789.9745\n",
      "[iteration 0501] loss: 1726.3465\n",
      "[iteration 0601] loss: 1737.9606\n",
      "[iteration 0701] loss: 6756.4678\n",
      "[iteration 0801] loss: 12845.4498\n",
      "[iteration 0901] loss: 1455.9640\n",
      "[iteration 1001] loss: 3115.6051\n",
      "[iteration 1101] loss: 1925.7765\n",
      "[iteration 1201] loss: 2077.6342\n",
      "[iteration 1301] loss: 2973.6499\n",
      "[iteration 1401] loss: 6557.3402\n",
      "[iteration 1501] loss: 6154.0653\n",
      "[iteration 1601] loss: 1087.2563\n",
      "[iteration 1701] loss: 2309.2275\n",
      "[iteration 1801] loss: 908.8160\n",
      "[iteration 1901] loss: 3487.2761\n",
      "[iteration 2001] loss: 3710.2520\n",
      "[iteration 2101] loss: 1195.3853\n",
      "[iteration 2201] loss: 2423.4722\n",
      "[iteration 2301] loss: 790.6159\n",
      "[iteration 2401] loss: 747.0368\n",
      "[iteration 2501] loss: 1659.6727\n",
      "[iteration 2601] loss: 1963.4778\n",
      "[iteration 2701] loss: 982.4892\n",
      "[iteration 2801] loss: 1427.3965\n",
      "[iteration 2901] loss: 977.9342\n",
      "[iteration 3001] loss: 1082.1442\n",
      "[iteration 3101] loss: 979.9083\n",
      "[iteration 3201] loss: 6047.1019\n",
      "[iteration 3301] loss: 764.6849\n",
      "[iteration 3401] loss: 901.1672\n",
      "[iteration 3501] loss: 1001.5666\n",
      "[iteration 3601] loss: 552.2400\n",
      "[iteration 3701] loss: 1769.1873\n",
      "[iteration 3801] loss: 2244.2325\n",
      "[iteration 3901] loss: 545.0885\n",
      "[iteration 4001] loss: 542.6362\n",
      "[iteration 4101] loss: 533.0292\n",
      "[iteration 4201] loss: 640.4864\n",
      "[iteration 4301] loss: 561.9023\n",
      "[iteration 4401] loss: 546.7488\n",
      "[iteration 4501] loss: 634.3250\n",
      "[iteration 4601] loss: 867.2357\n",
      "[iteration 4701] loss: 1895.6746\n",
      "[iteration 4801] loss: 1102.8845\n",
      "[iteration 4901] loss: 569.9216\n",
      "[iteration 5001] loss: 698.8855\n",
      "[iteration 5101] loss: 542.2559\n",
      "[iteration 5201] loss: 741.4805\n",
      "[iteration 5301] loss: 792.7493\n",
      "[iteration 5401] loss: 469.5583\n",
      "[iteration 5501] loss: 1031.0590\n",
      "[iteration 5601] loss: 887.0807\n",
      "[iteration 5701] loss: 2184.5955\n",
      "[iteration 5801] loss: 549.9639\n",
      "[iteration 5901] loss: 469.3487\n",
      "[iteration 6001] loss: 536.3058\n",
      "[iteration 6101] loss: 1300.9309\n",
      "[iteration 6201] loss: 1303.3903\n",
      "[iteration 6301] loss: 604.9695\n",
      "[iteration 6401] loss: 498.8196\n",
      "[iteration 6501] loss: 648.0159\n",
      "[iteration 6601] loss: 752.7596\n",
      "[iteration 6701] loss: 503.2401\n",
      "[iteration 6801] loss: 2927.7200\n",
      "[iteration 6901] loss: 514.5998\n",
      "[iteration 7001] loss: 670.2191\n",
      "[iteration 7101] loss: 440.0962\n",
      "[iteration 7201] loss: 565.4965\n",
      "[iteration 7301] loss: 1450.8749\n",
      "[iteration 7401] loss: 480.8841\n",
      "[iteration 7501] loss: 622.4473\n",
      "[iteration 7601] loss: 1508.4188\n",
      "[iteration 7701] loss: 456.2069\n",
      "[iteration 7801] loss: 1351.5762\n",
      "[iteration 7901] loss: 501.9399\n",
      "[iteration 8001] loss: 579.7821\n",
      "[iteration 8101] loss: 1289.6705\n",
      "[iteration 8201] loss: 1049.4364\n",
      "[iteration 8301] loss: 491.7586\n",
      "[iteration 8401] loss: 443.5841\n",
      "[iteration 8501] loss: 504.8382\n",
      "[iteration 8601] loss: 2000.3095\n",
      "[iteration 8701] loss: 546.2808\n",
      "[iteration 8801] loss: 444.9038\n",
      "[iteration 8901] loss: 639.6488\n",
      "[iteration 9001] loss: 1849.9654\n",
      "[iteration 9101] loss: 455.1817\n",
      "[iteration 9201] loss: 866.5925\n",
      "[iteration 9301] loss: 1995.9554\n",
      "[iteration 9401] loss: 462.2391\n",
      "[iteration 9501] loss: 1139.3233\n",
      "[iteration 9601] loss: 419.1643\n",
      "[iteration 9701] loss: 778.6388\n",
      "[iteration 9801] loss: 609.5202\n",
      "[iteration 9901] loss: 441.3742\n",
      "[iteration 10001] loss: 706.6138\n",
      "[iteration 10101] loss: 596.8364\n",
      "[iteration 10201] loss: 510.5342\n",
      "[iteration 10301] loss: 451.1595\n",
      "[iteration 10401] loss: 980.8644\n",
      "[iteration 10501] loss: 433.7434\n",
      "[iteration 10601] loss: 370.5577\n",
      "[iteration 10701] loss: 435.6415\n",
      "[iteration 10801] loss: 407.8555\n",
      "[iteration 10901] loss: 729.1668\n",
      "[iteration 11001] loss: 565.4192\n",
      "[iteration 11101] loss: 1813.0771\n",
      "[iteration 11201] loss: 692.2965\n",
      "[iteration 11301] loss: 619.1910\n",
      "[iteration 11401] loss: 1246.6224\n",
      "[iteration 11501] loss: 461.7978\n",
      "[iteration 11601] loss: 428.5342\n",
      "[iteration 11701] loss: 475.7757\n",
      "[iteration 11801] loss: 830.6976\n",
      "[iteration 11901] loss: 446.4580\n",
      "[iteration 12001] loss: 485.0862\n",
      "[iteration 12101] loss: 427.9675\n",
      "[iteration 12201] loss: 382.0237\n",
      "[iteration 12301] loss: 682.3022\n",
      "[iteration 12401] loss: 605.4231\n",
      "[iteration 12501] loss: 809.1662\n",
      "[iteration 12601] loss: 851.8054\n",
      "[iteration 12701] loss: 549.6179\n",
      "[iteration 12801] loss: 462.9800\n",
      "[iteration 12901] loss: 444.5183\n",
      "[iteration 13001] loss: 387.2247\n",
      "[iteration 13101] loss: 402.3819\n",
      "[iteration 13201] loss: 453.7679\n",
      "[iteration 13301] loss: 405.7685\n",
      "[iteration 13401] loss: 563.5865\n",
      "[iteration 13501] loss: 459.5957\n",
      "[iteration 13601] loss: 1168.4351\n",
      "[iteration 13701] loss: 367.8204\n",
      "[iteration 13801] loss: 426.6524\n",
      "[iteration 13901] loss: 556.4741\n",
      "[iteration 14001] loss: 641.9932\n",
      "[iteration 14101] loss: 381.6152\n",
      "[iteration 14201] loss: 414.6077\n",
      "[iteration 14301] loss: 371.3761\n",
      "[iteration 14401] loss: 431.5395\n",
      "[iteration 14501] loss: 413.4991\n",
      "[iteration 14601] loss: 385.8486\n",
      "[iteration 14701] loss: 538.0641\n",
      "[iteration 14801] loss: 367.8054\n",
      "[iteration 14901] loss: 733.3061\n",
      "[iteration 15001] loss: 634.8647\n",
      "[iteration 15101] loss: 361.5905\n",
      "[iteration 15201] loss: 376.3324\n",
      "[iteration 15301] loss: 382.0340\n",
      "[iteration 15401] loss: 615.9239\n",
      "[iteration 15501] loss: 388.0679\n",
      "[iteration 15601] loss: 406.3700\n",
      "[iteration 15701] loss: 508.6772\n",
      "[iteration 15801] loss: 391.4065\n",
      "[iteration 15901] loss: 372.7712\n",
      "[iteration 16001] loss: 387.5066\n",
      "[iteration 16101] loss: 370.2377\n",
      "[iteration 16201] loss: 374.1939\n",
      "[iteration 16301] loss: 438.7347\n",
      "[iteration 16401] loss: 463.3245\n",
      "[iteration 16501] loss: 469.7513\n",
      "[iteration 16601] loss: 380.1455\n",
      "[iteration 16701] loss: 511.6312\n",
      "[iteration 16801] loss: 440.9129\n",
      "[iteration 16901] loss: 372.1510\n",
      "[iteration 17001] loss: 343.7290\n",
      "[iteration 17101] loss: 422.1640\n",
      "[iteration 17201] loss: 382.8885\n",
      "[iteration 17301] loss: 445.2975\n",
      "[iteration 17401] loss: 388.1846\n",
      "[iteration 17501] loss: 396.2378\n",
      "[iteration 17601] loss: 456.3037\n",
      "[iteration 17701] loss: 357.9978\n",
      "[iteration 17801] loss: 400.7159\n",
      "[iteration 17901] loss: 395.6167\n",
      "[iteration 18001] loss: 370.4135\n",
      "[iteration 18101] loss: 498.0863\n",
      "[iteration 18201] loss: 356.1022\n",
      "[iteration 18301] loss: 343.1172\n",
      "[iteration 18401] loss: 380.8484\n",
      "[iteration 18501] loss: 378.0186\n",
      "[iteration 18601] loss: 417.9960\n",
      "[iteration 18701] loss: 582.2251\n",
      "[iteration 18801] loss: 516.7480\n",
      "[iteration 18901] loss: 494.2924\n",
      "[iteration 19001] loss: 350.9798\n",
      "[iteration 19101] loss: 359.4733\n",
      "[iteration 19201] loss: 353.8582\n",
      "[iteration 19301] loss: 394.4709\n",
      "[iteration 19401] loss: 692.5197\n",
      "[iteration 19501] loss: 342.9939\n",
      "[iteration 19601] loss: 368.0433\n",
      "[iteration 19701] loss: 374.4731\n",
      "[iteration 19801] loss: 365.4303\n",
      "[iteration 19901] loss: 342.0398\n"
     ]
    },
    {
     "data": {
      "text/plain": "<Figure size 432x288 with 1 Axes>",
      "image/png": "[encoded data removed]"
     },
     "metadata": {
      "needs_background": "light"
     },
     "output_type": "display_data"
    }
   ],
   "source": [
    "from pyro.infer.autoguide import AutoMultivariateNormal\n",
    "from bayesian_utils import train_bayes, predict\n",
    "from utils import train\n",
    "from bayes_hysteresis_correlated import CorrelatedBayesianHysteresis\n",
    "from bayes_hysteresis import  BayesianHysteresis\n",
    "import hysteresis\n",
    "from hysteresis_triangle import HysteresisTriangle\n",
    "import torch\n",
    "\n",
    "fig,ax = plt.subplots()\n",
    "ax.plot(data[:,3])\n",
    "\n",
    "h = torch.tensor(data[:,1]).double()\n",
    "m = torch.tensor(data[:,3]).double()\n",
    "\n",
    "h_train = h[:5]\n",
    "m_train = m[:5]\n",
    "\n",
    "hmodel = HysteresisTriangle(h_train)\n",
    "model = CorrelatedBayesianHysteresis(hmodel, 25, 1.0, True)\n",
    "\n",
    "guide = AutoMultivariateNormal(model)\n",
    "loss_trace = train_bayes(h_train, m_train, model, guide, 20000, 0.001)\n",
    "\n",
    "#l = train(hmodel, m, 5000)\n",
    "#m_star = hmodel.predict_magnetization().detach()\n",
    "#ax.plot(m_star,'+')\n",
    "#plt.show()"
   ],
   "metadata": {
    "collapsed": false,
    "pycharm": {
     "name": "#%%\n"
    }
   }
  },
  {
   "cell_type": "code",
   "execution_count": 68,
   "outputs": [
    {
     "data": {
      "text/plain": "'\\nfig3, ax3 = plt.subplots()\\nx = hmodel.mesh_points[:, 0]\\ny = hmodel.mesh_points[:, 1]\\nden = hmodel.get_density_vector().detach() / ((0.2 * (torch.abs(x - y)) + 0.05) *\\n                                            size)\\nc = ax3.tripcolor(x,\\n                  y,\\n                  den)\\nfig3.colorbar(c)\\n'"
     },
     "execution_count": 68,
     "metadata": {},
     "output_type": "execute_result"
    }
   ],
   "source": [
    "size = 1.0\n",
    "# plot density\n",
    "\"\"\"\n",
    "fig3, ax3 = plt.subplots()\n",
    "x = hmodel.mesh_points[:, 0]\n",
    "y = hmodel.mesh_points[:, 1]\n",
    "den = hmodel.get_density_vector().detach() / ((0.2 * (torch.abs(x - y)) + 0.05) *\n",
    "                                            size)\n",
    "c = ax3.tripcolor(x,\n",
    "                  y,\n",
    "                  den)\n",
    "fig3.colorbar(c)\n",
    "\"\"\""
   ],
   "metadata": {
    "collapsed": false,
    "pycharm": {
     "name": "#%%\n"
    }
   }
  },
  {
   "cell_type": "code",
   "execution_count": 71,
   "outputs": [
    {
     "data": {
      "text/plain": "<matplotlib.colorbar.Colorbar at 0x207a8b28880>"
     },
     "execution_count": 71,
     "metadata": {},
     "output_type": "execute_result"
    },
    {
     "data": {
      "text/plain": "<Figure size 432x288 with 2 Axes>",
      "image/png": "[encoded data removed]"
     },
     "metadata": {
      "needs_background": "light"
     },
     "output_type": "display_data"
    }
   ],
   "source": [
    "import utils\n",
    "mesh_points = model.hysteresis_model.mesh_points\n",
    "x = mesh_points[:,0]\n",
    "y = mesh_points[:,1]\n",
    "summary = predict(h, model, guide)\n",
    "den = torch.nn.Softplus()(summary[0]['density']['mean'].flatten()) / ((0.2 * (torch.abs(x - y)) + 0.05) *\n",
    "                                            size)\n",
    "fig, ax = plt.subplots()\n",
    "c = ax.tripcolor(x, y, den.detach())\n",
    "ax.set_aspect('equal')\n",
    "ax.set_xlabel(r'$\\beta$')\n",
    "ax.set_ylabel(r'$\\alpha$')\n",
    "fig.colorbar(c)"
   ],
   "metadata": {
    "collapsed": false,
    "pycharm": {
     "name": "#%%\n"
    }
   }
  },
  {
   "cell_type": "code",
   "execution_count": 70,
   "outputs": [
    {
     "data": {
      "text/plain": "<matplotlib.collections.PolyCollection at 0x207a4443760>"
     },
     "execution_count": 70,
     "metadata": {},
     "output_type": "execute_result"
    },
    {
     "data": {
      "text/plain": "<Figure size 432x288 with 1 Axes>",
      "image/png": "[encoded data removed]"
     },
     "metadata": {
      "needs_background": "light"
     },
     "output_type": "display_data"
    }
   ],
   "source": [
    "fig2, ax2 = plt.subplots()\n",
    "y = summary[0]['obs']\n",
    "ax2.plot(m.detach(), 'o')\n",
    "ax2.plot(m_train.detach(),'o')\n",
    "\n",
    "ax2.plot(y['mean'])\n",
    "ax2.fill_between(range(len(h)),\n",
    "                 y['5%'],\n",
    "                 y['95%'],\n",
    "                 alpha=0.25)"
   ],
   "metadata": {
    "collapsed": false,
    "pycharm": {
     "name": "#%%\n"
    }
   }
  },
  {
   "cell_type": "code",
   "execution_count": 70,
   "outputs": [],
   "source": [],
   "metadata": {
    "collapsed": false,
    "pycharm": {
     "name": "#%%\n"
    }
   }
  }
 ],
 "metadata": {
  "kernelspec": {
   "name": "python3",
   "language": "python",
   "display_name": "Python 3 (ipykernel)"
  },
  "language_info": {
   "codemirror_mode": {
    "name": "ipython",
    "version": 2
   },
   "file_extension": ".py",
   "mimetype": "text/x-python",
   "name": "python",
   "nbconvert_exporter": "python",
   "pygments_lexer": "ipython2",
   "version": "2.7.6"
  }
 },
 "nbformat": 4,
 "nbformat_minor": 0
}