{
 "cells": [
  {
   "cell_type": "code",
   "execution_count": 15,
   "id": "31cb583d-fb4e-4474-a07c-62ba4cbee649",
   "metadata": {},
   "outputs": [],
   "source": [
    "from copy import deepcopy\n",
    "\n",
    "import matplotlib.pyplot as plt\n",
    "import torch\n",
    "from botorch.acquisition import UpperConfidenceBound\n",
    "from botorch.optim import optimize_acqf\n",
    "\n",
    "from hysteresis.base import BaseHysteresis\n",
    "from torchAccelerator.first_order import TorchDrift\n",
    "from torchAccelerator.hysteresis import HysteresisAccelerator, HysteresisQuad"
   ]
  },
  {
   "cell_type": "markdown",
   "id": "3528b000-c9f3-44bb-92af-73466901e2b1",
   "metadata": {},
   "source": [
    "# Generate optimization data without hysteresis 1D"
   ]
  },
  {
   "cell_type": "code",
   "execution_count": 16,
   "id": "96f24015-6a27-42db-b4f9-a9d0942e076c",
   "metadata": {},
   "outputs": [
    {
     "name": "stdout",
     "output_type": "stream",
     "text": [
      "(tensor([0.0000, 0.1000, 0.2000, 0.3000, 0.4000, 0.5000, 0.6000, 0.7000, 0.8000,\n",
      "        0.9000, 1.0000, 1.0000, 0.9000, 0.8000, 0.7000, 0.6000, 0.5000, 0.4000,\n",
      "        0.3000, 0.2000, 0.1000, 0.0000]), None)\n"
     ]
    },
    {
     "data": {
      "text/plain": "<Figure size 432x288 with 1 Axes>",
      "image/png": "[encoded data removed]"
     },
     "metadata": {
      "needs_background": "light"
     },
     "output_type": "display_data"
    }
   ],
   "source": [
    "# Create hysteresis model\n",
    "fixed_domain = torch.tensor((-1.0, 1.0))\n",
    "H = BaseHysteresis(\n",
    "    trainable=False, \n",
    "    fixed_domain = fixed_domain\n",
    ")\n",
    "H.slope = 800.0\n",
    "H.offset = -H.slope / 2.0\n",
    "H.regression()\n",
    "\n",
    "test_applied_fields = torch.cat(\n",
    "    (torch.linspace(-1,1,11) , torch.flipud(torch.linspace(-1,1,11)))\n",
    ")\n",
    "print(H.transformer.transform(test_applied_fields))\n",
    "\n",
    "H.future()\n",
    "M = H(test_applied_fields, return_real=True).detach()\n",
    "\n",
    "fig,ax = plt.subplots()\n",
    "ax.plot(test_applied_fields, M)\n",
    "H.current()"
   ]
  },
  {
   "cell_type": "code",
   "execution_count": 17,
   "id": "8d1df07f-6b86-4215-b1c9-28053d77ab16",
   "metadata": {},
   "outputs": [],
   "source": [
    "#create accelerator model using hysteresis models\n",
    "#create accelerator model using hysteresis models\n",
    "hmodels = [deepcopy(H), deepcopy(H)]\n",
    "\n",
    "# define quadrupoles\n",
    "q1 = HysteresisQuad(\"q1\", torch.tensor(0.01), hmodels[0])\n",
    "d1 = TorchDrift(\"d1\", torch.tensor(1.0))\n",
    "d2 = TorchDrift(\"d2\", torch.tensor(1.0))\n",
    "q2 = HysteresisQuad(\"q2\", torch.tensor(0.01), hmodels[1])\n",
    "\n",
    "HA = HysteresisAccelerator([q1, d1, q2, d2])\n",
    "\n",
    "init_beam_matrix = torch.eye(6) * 1.0e-8\n",
    "\n",
    "# set x_rms beam size to 1 mm and rms divergence to 0.1 mrad\n",
    "init_beam_matrix[0, 0] = 5.0e-3 ** 2\n",
    "init_beam_matrix[1, 1] = 1.0e-4 ** 2\n",
    "init_beam_matrix[2, 2] = 5.0e-3 ** 2\n",
    "init_beam_matrix[3, 3] = 1.0e-4 ** 2\n",
    "R = init_beam_matrix\n"
   ]
  },
  {
   "cell_type": "code",
   "execution_count": 18,
   "id": "339899c6-869a-43a1-a392-02449ed2738e",
   "metadata": {},
   "outputs": [],
   "source": [
    "# create objective function - log(sqrt(RMS()))\n",
    "def objective(R):\n",
    "    return torch.abs(torch.sqrt(R[0,0]) - 8e-3) + torch.abs(torch.sqrt(R[2,2]) - 8e-3)\n"
   ]
  },
  {
   "cell_type": "code",
   "execution_count": 19,
   "id": "13faeb28-c597-432c-a366-c77529956f44",
   "metadata": {},
   "outputs": [],
   "source": [
    "from botorch.models.transforms import Normalize\n",
    "# define function to create model\n",
    "from gpytorch.utils.errors import NotPSDError\n",
    "from botorch import fit_gpytorch_model\n",
    "from gpytorch import ExactMarginalLogLikelihood\n",
    "from botorch.models import SingleTaskGP\n",
    "from botorch.models.transforms import Standardize\n",
    "from tqdm.notebook import trange\n",
    "from hysteresis.hybrid import ExactHybridGP\n",
    "\n",
    "\n",
    "def get_model(train_X, train_Y, use_hybrid = False, h_models = None):\n",
    "    if use_hybrid:\n",
    "        gpmodel = ExactHybridGP(\n",
    "            train_X.clone().detach().double(),\n",
    "            train_Y.clone().detach().flatten().double(), \n",
    "            h_models,\n",
    "        )\n",
    "        \n",
    "        mll = ExactMarginalLogLikelihood(gpmodel.gp.likelihood, gpmodel)\n",
    "        fit_gpytorch_model(mll)\n",
    "        \n",
    "    else:\n",
    "        std_trans = Standardize(1)\n",
    "        gpmodel = SingleTaskGP(\n",
    "            train_X.clone().detach(),\n",
    "            train_Y.clone().detach(),\n",
    "            input_transform=Normalize(train_X.shape[-1]),\n",
    "            outcome_transform=std_trans\n",
    "        )\n",
    "        mll = ExactMarginalLogLikelihood(gpmodel.likelihood, gpmodel)\n",
    "        fit_gpytorch_model(mll)\n",
    "    return gpmodel"
   ]
  },
  {
   "cell_type": "code",
   "execution_count": 22,
   "id": "9688fb13-db7d-4eca-8838-870b10782362",
   "metadata": {},
   "outputs": [],
   "source": [
    "# define optimizer function\n",
    "\n",
    "\n",
    "def optimize(\n",
    "        accelerator_model,\n",
    "        initial_beam_matrix,\n",
    "        h_models,\n",
    "        steps=50,\n",
    "        use_hybrid = False\n",
    "):\n",
    "    iterations = steps\n",
    "\n",
    "    accelerator_model.current()\n",
    "\n",
    "    # initialize with a couple of points\n",
    "    train_X = torch.ones((3, 2)) * 0.25\n",
    "    train_X[0] = train_X[0] * 0.0\n",
    "    train_X[2] = torch.tensor((0.3))\n",
    "    train_Y = torch.empty((3, 1))\n",
    "\n",
    "    for j in range(3):\n",
    "        accelerator_model.apply_fields({'q1': train_X[j, 0],\n",
    "                                        'q2': train_X[j, 1]})\n",
    "\n",
    "        train_Y[j] = objective(\n",
    "            accelerator_model.forward(initial_beam_matrix)\n",
    "        )\n",
    "\n",
    "    print(train_X)\n",
    "    print(train_Y)\n",
    "\n",
    "    gpmodel = get_model(train_X, train_Y, use_hybrid, h_models)\n",
    "\n",
    "    for i in trange(iterations):\n",
    "        UCB = UpperConfidenceBound(gpmodel, beta=2.0, maximize=False)\n",
    "        \n",
    "        if use_hybrid:\n",
    "            gpmodel.next()\n",
    "\n",
    "        bounds = torch.stack([-1.0 * torch.ones(2), 1.0*torch.ones(2)])\n",
    "        candidate, acq_value = optimize_acqf(\n",
    "            UCB,\n",
    "            bounds=bounds,\n",
    "            q=1,\n",
    "            num_restarts=5,\n",
    "            raw_samples=20,\n",
    "        )\n",
    "        train_X = torch.cat((train_X, candidate))\n",
    "\n",
    "        # apply candidate\n",
    "        accelerator_model.apply_fields({'q1': candidate[0,0],\n",
    "                                        'q2': candidate[0,1],})\n",
    "        # make next measurement\n",
    "        bs = objective(\n",
    "            accelerator_model(initial_beam_matrix)\n",
    "        ).reshape(1, 1)\n",
    "        train_Y = torch.cat((train_Y.clone(), bs.clone()))\n",
    "\n",
    "        # train new model\n",
    "        try:\n",
    "            gpmodel = get_model(train_X, train_Y, use_hybrid, h_models)\n",
    "        except NotPSDError:\n",
    "            pass\n",
    "    \n",
    "    return train_X, train_Y"
   ]
  },
  {
   "cell_type": "markdown",
   "id": "a30eb8f0-c21c-4bdd-a0c9-6ae06402f04f",
   "metadata": {},
   "source": [
    "## Do optimization"
   ]
  },
  {
   "cell_type": "code",
   "execution_count": 27,
   "id": "7d37e951-8d96-479f-b4a3-1c143e4b7749",
   "metadata": {},
   "outputs": [
    {
     "name": "stdout",
     "output_type": "stream",
     "text": [
      "tensor([[0.0000, 0.0000],\n",
      "        [0.2500, 0.2500],\n",
      "        [0.3000, 0.3000]])\n",
      "tensor([[0.0060],\n",
      "        [0.0202],\n",
      "        [0.0247]], grad_fn=<CopySlices>)\n"
     ]
    },
    {
     "data": {
      "text/plain": "  0%|          | 0/30 [00:00<?, ?it/s]",
      "application/vnd.jupyter.widget-view+json": {
       "version_major": 2,
       "version_minor": 0,
       "model_id": "52c67fcbd3584d2b8963f41272e406f2"
      }
     },
     "metadata": {},
     "output_type": "display_data"
    }
   ],
   "source": [
    "train_X_data, train_Y_data = optimize(\n",
    "    HA,\n",
    "    R,\n",
    "    hmodels,\n",
    "    steps=30,\n",
    "    use_hybrid=True\n",
    ")"
   ]
  },
  {
   "cell_type": "code",
   "execution_count": 28,
   "id": "145aa6da-7fe3-4268-802c-024f98c41d9a",
   "metadata": {},
   "outputs": [
    {
     "data": {
      "text/plain": "[<matplotlib.lines.Line2D at 0x158b7c99100>]"
     },
     "execution_count": 28,
     "metadata": {},
     "output_type": "execute_result"
    },
    {
     "data": {
      "text/plain": "<Figure size 432x288 with 1 Axes>",
      "image/png": "[encoded data removed]"
     },
     "metadata": {
      "needs_background": "light"
     },
     "output_type": "display_data"
    }
   ],
   "source": [
    "fig,ax = plt.subplots()\n",
    "ax.plot(train_Y_data.detach())"
   ]
  },
  {
   "cell_type": "code",
   "execution_count": 29,
   "id": "e2d354e2-5d85-4b4e-b0f9-c01a19e25aa0",
   "metadata": {},
   "outputs": [
    {
     "name": "stdout",
     "output_type": "stream",
     "text": [
      "{'q1': tensor(0.2995), 'q2': tensor(-0.2337)}\n",
      "tensor(0.0013, grad_fn=<AddBackward0>)\n",
      "tensor(0.0013, grad_fn=<MinBackward1>)\n"
     ]
    },
    {
     "data": {
      "text/plain": "<Figure size 432x288 with 1 Axes>",
      "image/png": "[encoded data removed]"
     },
     "metadata": {
      "needs_background": "light"
     },
     "output_type": "display_data"
    }
   ],
   "source": [
    "best_settings = train_X_data[torch.argmin(train_Y_data)]\n",
    "\n",
    "# apply candidate\n",
    "print(dict(zip(['q1','q2'], best_settings)))\n",
    "HA.apply_fields(dict(zip(['q1','q2'], best_settings)))\n",
    "\n",
    "beam_matrix = HA(init_beam_matrix, full=False)\n",
    "fig,ax = plt.subplots()\n",
    "ax.plot(torch.sqrt(beam_matrix[:, 0, 0]).detach())\n",
    "ax.plot(torch.sqrt(beam_matrix[:, 2, 2]).detach())\n",
    "\n",
    "ax.axhline(2.0e-3)\n",
    "print(objective(beam_matrix[-1]))\n",
    "print(torch.min(train_Y_data))"
   ]
  },
  {
   "cell_type": "code",
   "execution_count": 30,
   "id": "18de8f25-208d-4249-857a-542d9e30498b",
   "metadata": {},
   "outputs": [],
   "source": [
    "model = get_model(train_X_data, train_Y_data, use_hybrid = True, h_models = hmodels)\n",
    "\n",
    "model.next()"
   ]
  },
  {
   "cell_type": "code",
   "execution_count": 32,
   "id": "00721bcb-d409-41a0-b6d7-73d09e765e85",
   "metadata": {},
   "outputs": [
    {
     "name": "stdout",
     "output_type": "stream",
     "text": [
      "tensor([[ 0.2993, -0.2300]])\n"
     ]
    }
   ],
   "source": [
    "# optimize model to find the best point\n",
    "UCB = UpperConfidenceBound(model, beta=0.0000001, maximize=False)\n",
    "try:\n",
    "    model.next()\n",
    "except AttributeError:\n",
    "    pass\n",
    "\n",
    "bounds = torch.stack([-1.0 * torch.ones(2), 1.0*torch.ones(2)])\n",
    "candidate, acq_value = optimize_acqf(\n",
    "    UCB,\n",
    "    bounds=bounds,\n",
    "    q=1,\n",
    "    num_restarts=100,\n",
    "    raw_samples=100,\n",
    ")\n",
    "print(candidate)"
   ]
  },
  {
   "cell_type": "code",
   "execution_count": 35,
   "id": "565e0f7b-ed16-42e3-a520-cad5346d4de7",
   "metadata": {},
   "outputs": [
    {
     "name": "stdout",
     "output_type": "stream",
     "text": [
      "tensor(0.0011, grad_fn=<AddBackward0>)\n",
      "tensor(0.0013, grad_fn=<MinBackward1>)\n"
     ]
    },
    {
     "data": {
      "text/plain": "<Figure size 432x288 with 1 Axes>",
      "image/png": "[encoded data removed]"
     },
     "metadata": {
      "needs_background": "light"
     },
     "output_type": "display_data"
    }
   ],
   "source": [
    "HA.current()\n",
    "HA.apply_fields(dict(zip(['q1','q2'], candidate.flatten())))\n",
    "\n",
    "beam_matrix = HA(init_beam_matrix, full=False)\n",
    "fig,ax = plt.subplots()\n",
    "ax.plot(torch.sqrt(beam_matrix[:, 0, 0]).detach())\n",
    "ax.plot(torch.sqrt(beam_matrix[:, 2, 2]).detach())\n",
    "\n",
    "ax.axhline(2.0e-3)\n",
    "print(objective(beam_matrix[-1]))\n",
    "print(torch.min(train_Y_data))"
   ]
  },
  {
   "cell_type": "code",
   "execution_count": null,
   "outputs": [],
   "source": [],
   "metadata": {
    "collapsed": false,
    "pycharm": {
     "name": "#%%\n"
    }
   }
  }
 ],
 "metadata": {
  "kernelspec": {
   "name": "python3",
   "language": "python",
   "display_name": "Python 3 (ipykernel)"
  },
  "language_info": {
   "codemirror_mode": {
    "name": "ipython",
    "version": 3
   },
   "file_extension": ".py",
   "mimetype": "text/x-python",
   "name": "python",
   "nbconvert_exporter": "python",
   "pygments_lexer": "ipython3",
   "version": "3.9.7"
  }
 },
 "nbformat": 4,
 "nbformat_minor": 5
}