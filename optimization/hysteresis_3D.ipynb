{
 "cells": [
  {
   "cell_type": "code",
   "execution_count": 1,
   "id": "31cb583d-fb4e-4474-a07c-62ba4cbee649",
   "metadata": {},
   "outputs": [],
   "source": [
    "from copy import deepcopy\n",
    "\n",
    "import matplotlib.pyplot as plt\n",
    "import torch\n",
    "from botorch.acquisition import UpperConfidenceBound\n",
    "from botorch.optim import optimize_acqf\n",
    "\n",
    "from hysteresis.base import BaseHysteresis\n",
    "from torchAccelerator.first_order import TorchDrift\n",
    "from torchAccelerator.hysteresis import HysteresisAccelerator, HysteresisQuad"
   ]
  },
  {
   "cell_type": "markdown",
   "id": "3528b000-c9f3-44bb-92af-73466901e2b1",
   "metadata": {},
   "source": [
    "# Generate optimization data without hysteresis"
   ]
  },
  {
   "cell_type": "code",
   "execution_count": 2,
   "id": "96f24015-6a27-42db-b4f9-a9d0942e076c",
   "metadata": {},
   "outputs": [
    {
     "data": {
      "text/plain": "<Figure size 432x288 with 1 Axes>",
      "image/png": "[encoded data removed]"
     },
     "metadata": {
      "needs_background": "light"
     },
     "output_type": "display_data"
    }
   ],
   "source": [
    "# Create hysteresis model\n",
    "def density_function(mesh_pts, h = 0.5):\n",
    "    x = mesh_pts[:, 0]\n",
    "    y = mesh_pts[:, 1]\n",
    "    return torch.exp(-(y - x) / h)\n",
    "\n",
    "\n",
    "H = BaseHysteresis(\n",
    "    mesh_scale = 0.1,\n",
    "    trainable=False,\n",
    "    fixed_domain = torch.tensor((-1.0, 1.0))\n",
    ")\n",
    "m_sat = 400.0\n",
    "H.scale = 0.0\n",
    "H.slope = (m_sat - H.scale) * 2.0\n",
    "H.offset = -H.slope / 2.0\n",
    "\n",
    "test_applied_fields = torch.cat(\n",
    "    (torch.linspace(-1,1,11) , torch.flipud(torch.linspace(-1,1,11)))\n",
    ")\n",
    "\n",
    "H.regression()\n",
    "M = H(test_applied_fields, return_real=True).detach()\n",
    "\n",
    "fig,ax = plt.subplots()\n",
    "ax.plot(test_applied_fields, M)\n",
    "H.current()"
   ]
  },
  {
   "cell_type": "code",
   "execution_count": 3,
   "id": "8d1df07f-6b86-4215-b1c9-28053d77ab16",
   "metadata": {},
   "outputs": [],
   "source": [
    "#create accelerator model using hysteresis models\n",
    "hmodels = [deepcopy(H), deepcopy(H), deepcopy(H)]\n",
    "\n",
    "# define quadrupoles\n",
    "q1 = HysteresisQuad(\"q1\", torch.tensor(0.01), hmodels[0])\n",
    "d1 = TorchDrift(\"d1\", torch.tensor(1.0))\n",
    "d2 = TorchDrift(\"d2\", torch.tensor(1.0))\n",
    "q2 = HysteresisQuad(\"q2\", torch.tensor(0.01), hmodels[1])\n",
    "d3 = TorchDrift(\"d3\", torch.tensor(1.0))\n",
    "q3 = HysteresisQuad(\"q3\", torch.tensor(0.01), hmodels[2])\n",
    "\n",
    "HA = HysteresisAccelerator([q1, d1, q2, d2, q3, d3])\n",
    "\n",
    "init_beam_matrix = torch.eye(6) * 1.0e-8\n",
    "\n",
    "# set x_rms beam size to 1 mm and rms divergence to 0.1 mrad\n",
    "init_beam_matrix[0, 0] = 5.0e-3 ** 2\n",
    "init_beam_matrix[1, 1] = 1.0e-4 ** 2\n",
    "init_beam_matrix[2, 2] = 5.0e-3 ** 2\n",
    "init_beam_matrix[3, 3] = 1.0e-4 ** 2\n",
    "R = init_beam_matrix\n"
   ]
  },
  {
   "cell_type": "code",
   "execution_count": 4,
   "id": "339899c6-869a-43a1-a392-02449ed2738e",
   "metadata": {},
   "outputs": [],
   "source": [
    "# create objective function - log(sqrt(RMS()))\n",
    "def objective(R):\n",
    "    return torch.abs(torch.sqrt(R[0,0]) - 8e-3) + torch.abs(torch.sqrt(R[2,2]) - 8e-3)"
   ]
  },
  {
   "cell_type": "code",
   "execution_count": 5,
   "id": "13faeb28-c597-432c-a366-c77529956f44",
   "metadata": {},
   "outputs": [],
   "source": [
    "from botorch.models.transforms import Normalize\n",
    "# define function to create model\n",
    "from gpytorch.utils.errors import NotPSDError\n",
    "from botorch import fit_gpytorch_model\n",
    "from gpytorch import ExactMarginalLogLikelihood\n",
    "from botorch.models import SingleTaskGP\n",
    "from botorch.models.transforms import Standardize\n",
    "from tqdm.notebook import trange\n",
    "from gpytorch.likelihoods import GaussianLikelihood\n",
    "from hysteresis.hybrid import ExactHybridGP\n",
    "\n",
    "\n",
    "def get_model(train_X, train_Y, use_hybrid = False, h_models = None):\n",
    "    if use_hybrid:\n",
    "        gpmodel = ExactHybridGP(\n",
    "            train_X.clone().detach().double(),\n",
    "            train_Y.clone().detach().flatten().double(), \n",
    "            h_models,\n",
    "        )\n",
    "        \n",
    "        mll = ExactMarginalLogLikelihood(gpmodel.gp.likelihood, gpmodel)\n",
    "        fit_gpytorch_model(mll)\n",
    "        \n",
    "    else:\n",
    "        std_trans = Standardize(1)\n",
    "        gpmodel = SingleTaskGP(\n",
    "            train_X.clone().detach(),\n",
    "            train_Y.clone().detach(),\n",
    "            input_transform=Normalize(train_X.shape[-1]),\n",
    "            outcome_transform=std_trans\n",
    "        )\n",
    "        mll = ExactMarginalLogLikelihood(gpmodel.likelihood, gpmodel)\n",
    "        fit_gpytorch_model(mll)\n",
    "    return gpmodel"
   ]
  },
  {
   "cell_type": "code",
   "execution_count": 6,
   "id": "9688fb13-db7d-4eca-8838-870b10782362",
   "metadata": {},
   "outputs": [],
   "source": [
    "# define optimizer function\n",
    "\n",
    "\n",
    "def optimize(\n",
    "        accelerator_model,\n",
    "        initial_beam_matrix,\n",
    "        h_models,\n",
    "        steps=50,\n",
    "        use_hybrid = False\n",
    "):\n",
    "    iterations = steps\n",
    "\n",
    "    # initialize with a couple of points\n",
    "    train_x = torch.ones((3, 3)) * 0.25\n",
    "    train_x[0] = train_x[0] * 0.0\n",
    "    train_x[2] = torch.tensor((0.3,-0.6, 0.3))\n",
    "    train_y = torch.empty((3, 1))\n",
    "\n",
    "    accelerator_model.current()\n",
    "\n",
    "    for j in range(len(train_x)):\n",
    "        accelerator_model.apply_fields({'q1': train_x[j, 0],\n",
    "                                        'q2': train_x[j, 1],\n",
    "                                        'q3': train_x[j, 2],})\n",
    "\n",
    "        beam_matrix = accelerator_model(init_beam_matrix, full=False)\n",
    "        #fig,ax = plt.subplots()\n",
    "        #ax.plot(torch.sqrt(beam_matrix[:, 0, 0]).detach())\n",
    "        #ax.plot(torch.sqrt(beam_matrix[:, 2, 2]).detach())\n",
    "\n",
    "\n",
    "        train_y[j] = objective(\n",
    "            accelerator_model(initial_beam_matrix)\n",
    "        )\n",
    "\n",
    "    print(train_x)\n",
    "    print(train_y)\n",
    "\n",
    "    gpmodel = get_model(train_x, train_y, use_hybrid, h_models)\n",
    "\n",
    "    for i in trange(iterations):\n",
    "        print(gpmodel.hysteresis_models[0].history_h)\n",
    "        print(HA.elements['q1'].hysteresis_model.history_h)\n",
    "\n",
    "\n",
    "        UCB = UpperConfidenceBound(gpmodel, beta=2.0, maximize=False)\n",
    "        \n",
    "        if use_hybrid:\n",
    "            gpmodel.next()\n",
    "\n",
    "        bounds = torch.stack([-1.0 * torch.ones(3), 1.0*torch.ones(3)])\n",
    "        candidate, acq_value = optimize_acqf(\n",
    "            UCB,\n",
    "            bounds=bounds,\n",
    "            q=1,\n",
    "            num_restarts=5,\n",
    "            raw_samples=20,\n",
    "        )\n",
    "        train_x = torch.cat((train_x, candidate))\n",
    "\n",
    "        # apply candidate\n",
    "        accelerator_model.apply_fields({'q1': candidate[0,0],\n",
    "                                        'q2': candidate[0,1],\n",
    "                                        'q3': candidate[0,2]})\n",
    "\n",
    "        # make next measurement\n",
    "        bs = objective(\n",
    "            accelerator_model(initial_beam_matrix)\n",
    "        ).reshape(1, 1)\n",
    "        train_y = torch.cat((train_y.clone(), bs.clone()))\n",
    "\n",
    "        # train new model\n",
    "        try:\n",
    "            gpmodel = get_model(train_x, train_y, use_hybrid, h_models)\n",
    "        except NotPSDError:\n",
    "            pass\n",
    "\n",
    "\n",
    "    \n",
    "    return train_x, train_y, gpmodel"
   ]
  },
  {
   "cell_type": "markdown",
   "id": "a30eb8f0-c21c-4bdd-a0c9-6ae06402f04f",
   "metadata": {},
   "source": [
    "## Do optimization"
   ]
  },
  {
   "cell_type": "code",
   "execution_count": 7,
   "id": "7d37e951-8d96-479f-b4a3-1c143e4b7749",
   "metadata": {},
   "outputs": [
    {
     "name": "stdout",
     "output_type": "stream",
     "text": [
      "tensor([[ 0.0000,  0.0000,  0.0000],\n",
      "        [ 0.2500,  0.2500,  0.2500],\n",
      "        [ 0.3000, -0.6000,  0.3000]])\n",
      "tensor([[0.0060],\n",
      "        [0.0610],\n",
      "        [0.0351]], grad_fn=<CopySlices>)\n"
     ]
    },
    {
     "data": {
      "text/plain": "  0%|          | 0/5 [00:00<?, ?it/s]",
      "application/vnd.jupyter.widget-view+json": {
       "version_major": 2,
       "version_minor": 0,
       "model_id": "15f3eabb8a4f47199d41d06b5b34994b"
      }
     },
     "metadata": {},
     "output_type": "display_data"
    },
    {
     "name": "stdout",
     "output_type": "stream",
     "text": [
      "tensor([0.0000, 0.2500, 0.3000], dtype=torch.float64)\n",
      "tensor([0.0000, 0.2500, 0.3000], dtype=torch.float64)\n",
      "tensor([ 0.0000,  0.2500,  0.3000, -0.0692], dtype=torch.float64)\n",
      "tensor([ 0.0000,  0.2500,  0.3000, -0.0692], dtype=torch.float64)\n",
      "tensor([ 0.0000,  0.2500,  0.3000, -0.0692, -0.0735], dtype=torch.float64)\n",
      "tensor([ 0.0000,  0.2500,  0.3000, -0.0692, -0.0735], dtype=torch.float64)\n",
      "tensor([ 0.0000,  0.2500,  0.3000, -0.0692, -0.0735, -0.0785],\n",
      "       dtype=torch.float64)\n",
      "tensor([ 0.0000,  0.2500,  0.3000, -0.0692, -0.0735, -0.0785],\n",
      "       dtype=torch.float64)\n",
      "tensor([ 0.0000,  0.2500,  0.3000, -0.0692, -0.0735, -0.0785,  0.0222],\n",
      "       dtype=torch.float64)\n",
      "tensor([ 0.0000,  0.2500,  0.3000, -0.0692, -0.0735, -0.0785,  0.0222],\n",
      "       dtype=torch.float64)\n"
     ]
    }
   ],
   "source": [
    "use_hybrid = True\n",
    "train_X_data, train_Y_data, model = optimize(\n",
    "    HA,\n",
    "    R,\n",
    "    hmodels,\n",
    "    steps=5,\n",
    "    use_hybrid=use_hybrid\n",
    ")"
   ]
  },
  {
   "cell_type": "code",
   "execution_count": 8,
   "id": "145aa6da-7fe3-4268-802c-024f98c41d9a",
   "metadata": {},
   "outputs": [
    {
     "data": {
      "text/plain": "[<matplotlib.lines.Line2D at 0x1fddfd367f0>]"
     },
     "execution_count": 8,
     "metadata": {},
     "output_type": "execute_result"
    },
    {
     "data": {
      "text/plain": "<Figure size 432x288 with 1 Axes>",
      "image/png": "[encoded data removed]"
     },
     "metadata": {
      "needs_background": "light"
     },
     "output_type": "display_data"
    }
   ],
   "source": [
    "def get_best(input):\n",
    "    out = []\n",
    "    for i in range(len(input)):\n",
    "        out += [torch.min(input[:i+1])]\n",
    "    return torch.tensor(out)\n",
    "\n",
    "fig,ax = plt.subplots()\n",
    "best = get_best(train_Y_data.flatten().detach())\n",
    "ax.plot(best)"
   ]
  },
  {
   "cell_type": "code",
   "execution_count": 9,
   "outputs": [
    {
     "name": "stdout",
     "output_type": "stream",
     "text": [
      "{'q1': tensor(0.), 'q2': tensor(0.), 'q3': tensor(0.)}\n",
      "tensor([-0.0735, -0.0785,  0.0222,  0.0967,  0.0000], dtype=torch.float64)\n",
      "tensor([-0.0984,  0.1691, -0.2921, -0.1468,  0.0000], dtype=torch.float64)\n",
      "tensor([ 0.0774,  0.0355,  0.0160, -0.0697,  0.0000], dtype=torch.float64)\n",
      "tensor(0.0060, grad_fn=<AddBackward0>)\n",
      "tensor(0.0060, grad_fn=<MinBackward1>)\n"
     ]
    },
    {
     "data": {
      "text/plain": "<Figure size 432x288 with 1 Axes>",
      "image/png": "[encoded data removed]"
     },
     "metadata": {
      "needs_background": "light"
     },
     "output_type": "display_data"
    }
   ],
   "source": [
    "best_settings = train_X_data[torch.argmin(train_Y_data)]\n",
    "\n",
    "# apply candidate\n",
    "print(dict(zip(['q1','q2','q3'], best_settings)))\n",
    "HA.apply_fields(dict(zip(['q1','q2','q3'], best_settings)))\n",
    "print(HA.elements['q1'].hysteresis_model.history_h[-5:])\n",
    "print(HA.elements['q2'].hysteresis_model.history_h[-5:])\n",
    "print(HA.elements['q3'].hysteresis_model.history_h[-5:])\n",
    "\n",
    "beam_matrix = HA(init_beam_matrix, full=False)\n",
    "fig,ax = plt.subplots()\n",
    "ax.plot(torch.sqrt(beam_matrix[:, 0, 0]).detach())\n",
    "ax.plot(torch.sqrt(beam_matrix[:, 2, 2]).detach())\n",
    "\n",
    "ax.axhline(2.0e-3)\n",
    "print(objective(beam_matrix[-1]))\n",
    "print(torch.min(train_Y_data))"
   ],
   "metadata": {
    "collapsed": false,
    "pycharm": {
     "name": "#%%\n"
    }
   }
  },
  {
   "cell_type": "code",
   "execution_count": 10,
   "outputs": [
    {
     "name": "stdout",
     "output_type": "stream",
     "text": [
      "tensor([-0.0692, -0.0735, -0.0785,  0.0222,  0.0967], dtype=torch.float64)\n",
      "tensor([-0.0692, -0.0735, -0.0785,  0.0222,  0.0967], dtype=torch.float64)\n"
     ]
    }
   ],
   "source": [
    "model = get_model(train_X_data, train_Y_data, use_hybrid = use_hybrid, h_models = hmodels)\n",
    "print(model.hysteresis_models[0].history_h[-5:])\n",
    "print(HA.elements['q1'].hysteresis_model.history_h[-5:])"
   ],
   "metadata": {
    "collapsed": false,
    "pycharm": {
     "name": "#%%\n"
    }
   }
  },
  {
   "cell_type": "code",
   "execution_count": 11,
   "outputs": [
    {
     "name": "stdout",
     "output_type": "stream",
     "text": [
      "tensor([[-0.0023, -0.1055,  0.0135]])\n"
     ]
    }
   ],
   "source": [
    "# optimize model to find the best point\n",
    "UCB = UpperConfidenceBound(model, beta=0.01, maximize=False)\n",
    "try:\n",
    "    model.next()\n",
    "except AttributeError:\n",
    "    pass\n",
    "\n",
    "bounds = torch.stack([-1.0 * torch.ones(3), 1.0*torch.ones(3)])\n",
    "candidate, acq_value = optimize_acqf(\n",
    "    UCB,\n",
    "    bounds=bounds,\n",
    "    q=1,\n",
    "    num_restarts=100,\n",
    "    raw_samples=100,\n",
    ")\n",
    "print(candidate)"
   ],
   "metadata": {
    "collapsed": false,
    "pycharm": {
     "name": "#%%\n"
    }
   }
  },
  {
   "cell_type": "code",
   "execution_count": 12,
   "outputs": [
    {
     "name": "stdout",
     "output_type": "stream",
     "text": [
      "tensor(0.0082, grad_fn=<AddBackward0>)\n",
      "tensor(0.0060, grad_fn=<MinBackward1>)\n"
     ]
    },
    {
     "data": {
      "text/plain": "<Figure size 432x288 with 1 Axes>",
      "image/png": "[encoded data removed]"
     },
     "metadata": {
      "needs_background": "light"
     },
     "output_type": "display_data"
    }
   ],
   "source": [
    "HA.apply_fields(dict(zip(['q1','q2','q3'], candidate.flatten())))\n",
    "\n",
    "beam_matrix = HA(init_beam_matrix, full=False)\n",
    "fig,ax = plt.subplots()\n",
    "ax.plot(torch.sqrt(beam_matrix[:, 0, 0]).detach())\n",
    "ax.plot(torch.sqrt(beam_matrix[:, 2, 2]).detach())\n",
    "\n",
    "ax.axhline(2.0e-3)\n",
    "print(objective(beam_matrix[-1]))\n",
    "print(torch.min(train_Y_data))"
   ],
   "metadata": {
    "collapsed": false,
    "pycharm": {
     "name": "#%%\n"
    }
   }
  },
  {
   "cell_type": "code",
   "execution_count": 12,
   "outputs": [],
   "source": [],
   "metadata": {
    "collapsed": false,
    "pycharm": {
     "name": "#%%\n"
    }
   }
  }
 ],
 "metadata": {
  "kernelspec": {
   "name": "python3",
   "language": "python",
   "display_name": "Python 3 (ipykernel)"
  },
  "language_info": {
   "codemirror_mode": {
    "name": "ipython",
    "version": 3
   },
   "file_extension": ".py",
   "mimetype": "text/x-python",
   "name": "python",
   "nbconvert_exporter": "python",
   "pygments_lexer": "ipython3",
   "version": "3.9.7"
  }
 },
 "nbformat": 4,
 "nbformat_minor": 5
}