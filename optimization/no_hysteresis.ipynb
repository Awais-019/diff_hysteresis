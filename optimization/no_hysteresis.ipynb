{
 "cells": [
  {
   "cell_type": "code",
   "execution_count": 1,
   "id": "31cb583d-fb4e-4474-a07c-62ba4cbee649",
   "metadata": {},
   "outputs": [],
   "source": [
    "from copy import deepcopy\n",
    "\n",
    "import matplotlib.pyplot as plt\n",
    "import torch\n",
    "from botorch.acquisition import UpperConfidenceBound\n",
    "from botorch.optim import optimize_acqf\n",
    "\n",
    "from hysteresis.base import BaseHysteresis\n",
    "from torchAccelerator.first_order import TorchDrift\n",
    "from torchAccelerator.hysteresis import HysteresisAccelerator, HysteresisQuad"
   ]
  },
  {
   "cell_type": "markdown",
   "id": "3528b000-c9f3-44bb-92af-73466901e2b1",
   "metadata": {},
   "source": [
    "# Generate optimization data without hysteresis"
   ]
  },
  {
   "cell_type": "code",
   "execution_count": 2,
   "id": "96f24015-6a27-42db-b4f9-a9d0942e076c",
   "metadata": {},
   "outputs": [
    {
     "data": {
      "text/plain": "<Figure size 432x288 with 1 Axes>",
      "image/png": "[encoded data removed]"
     },
     "metadata": {
      "needs_background": "light"
     },
     "output_type": "display_data"
    }
   ],
   "source": [
    "# Create hysteresis model\n",
    "def density_function(mesh_pts, h = 0.5):\n",
    "    x = mesh_pts[:, 0]\n",
    "    y = mesh_pts[:, 1]\n",
    "    return torch.exp(-(y - x) / h)\n",
    "\n",
    "\n",
    "H = BaseHysteresis(\n",
    "    mesh_scale = 0.1,\n",
    "    trainable=False,\n",
    "    fixed_domain = torch.tensor((-1.0, 1.0))\n",
    ")\n",
    "H.hysterion_density = density_function(H.mesh_points, 1.0)\n",
    "H.slope = 200.0\n",
    "H.scale = 400.0\n",
    "H.offset = -H.slope / 2.0\n",
    "\n",
    "test_applied_fields = torch.cat(\n",
    "    (torch.linspace(-1,1,11) , torch.flipud(torch.linspace(-1,1,11)))\n",
    ")\n",
    "\n",
    "H.regression()\n",
    "M = H(test_applied_fields, return_real=True).detach()\n",
    "\n",
    "fig,ax = plt.subplots()\n",
    "ax.plot(test_applied_fields, M)\n",
    "H.current()"
   ]
  },
  {
   "cell_type": "code",
   "execution_count": 3,
   "id": "8d1df07f-6b86-4215-b1c9-28053d77ab16",
   "metadata": {},
   "outputs": [],
   "source": [
    "#create accelerator model using hysteresis models\n",
    "hmodels = [deepcopy(H), deepcopy(H), deepcopy(H)]\n",
    "\n",
    "# define quadrupoles\n",
    "q1 = HysteresisQuad(\"q1\", torch.tensor(0.01), hmodels[0])\n",
    "d1 = TorchDrift(\"d1\", torch.tensor(1.0))\n",
    "d2 = TorchDrift(\"d2\", torch.tensor(1.0))\n",
    "q2 = HysteresisQuad(\"q2\", torch.tensor(0.01), hmodels[1])\n",
    "d3 = TorchDrift(\"d3\", torch.tensor(1.0))\n",
    "q3 = HysteresisQuad(\"q3\", torch.tensor(0.01), hmodels[2])\n",
    "\n",
    "HA = HysteresisAccelerator([q1, d1, q2, d2, q3, d3])\n",
    "\n",
    "init_beam_matrix = torch.eye(6) * 1.0e-8\n",
    "\n",
    "# set x_rms beam size to 1 mm and rms divergence to 0.1 mrad\n",
    "init_beam_matrix[0, 0] = 5.0e-3 ** 2\n",
    "init_beam_matrix[1, 1] = 1.0e-4 ** 2\n",
    "init_beam_matrix[2, 2] = 5.0e-3 ** 2\n",
    "init_beam_matrix[3, 3] = 1.0e-4 ** 2\n",
    "R = init_beam_matrix\n"
   ]
  },
  {
   "cell_type": "code",
   "execution_count": 4,
   "id": "339899c6-869a-43a1-a392-02449ed2738e",
   "metadata": {},
   "outputs": [],
   "source": [
    "# create objective function - log(sqrt(RMS()))\n",
    "def objective(R):\n",
    "    return torch.abs(torch.sqrt(R[0,0]) - 8e-3) + torch.abs(torch.sqrt(R[2,2]) - 8e-3)"
   ]
  },
  {
   "cell_type": "code",
   "execution_count": 5,
   "id": "13faeb28-c597-432c-a366-c77529956f44",
   "metadata": {},
   "outputs": [],
   "source": [
    "from botorch.models.transforms import Normalize\n",
    "# define function to create model\n",
    "from gpytorch.utils.errors import NotPSDError\n",
    "from botorch import fit_gpytorch_model\n",
    "from gpytorch import ExactMarginalLogLikelihood\n",
    "from botorch.models import SingleTaskGP\n",
    "from botorch.models.transforms import Standardize\n",
    "from tqdm.notebook import trange\n",
    "from gpytorch.likelihoods import GaussianLikelihood\n",
    "from hysteresis.hybrid import ExactHybridGP\n",
    "\n",
    "\n",
    "def get_model(train_X, train_Y, use_hybrid = False, h_models = None):\n",
    "    if use_hybrid:\n",
    "        gpmodel = ExactHybridGP(\n",
    "            train_X.clone().detach().double(),\n",
    "            train_Y.clone().detach().flatten().double(), \n",
    "            h_models,\n",
    "        )\n",
    "        \n",
    "        mll = ExactMarginalLogLikelihood(gpmodel.gp.likelihood, gpmodel)\n",
    "        fit_gpytorch_model(mll)\n",
    "        \n",
    "    else:\n",
    "        std_trans = Standardize(1)\n",
    "        gpmodel = SingleTaskGP(\n",
    "            train_X.clone().detach(),\n",
    "            train_Y.clone().detach(),\n",
    "            input_transform=Normalize(train_X.shape[-1]),\n",
    "            outcome_transform=std_trans\n",
    "        )\n",
    "        mll = ExactMarginalLogLikelihood(gpmodel.likelihood, gpmodel)\n",
    "        fit_gpytorch_model(mll)\n",
    "    return gpmodel"
   ]
  },
  {
   "cell_type": "code",
   "execution_count": 6,
   "id": "9688fb13-db7d-4eca-8838-870b10782362",
   "metadata": {},
   "outputs": [],
   "source": [
    "# define optimizer function\n",
    "\n",
    "\n",
    "def optimize(\n",
    "        accelerator_model,\n",
    "        initial_beam_matrix,\n",
    "        h_models,\n",
    "        steps=50,\n",
    "        use_hybrid = False\n",
    "):\n",
    "    iterations = steps\n",
    "\n",
    "    # initialize with a couple of points\n",
    "    train_x = torch.ones((3, 3)) * 0.25\n",
    "    train_x[0] = train_x[0] * 0.0\n",
    "    train_x[2] = torch.tensor((0.3,-0.6, 0.3))\n",
    "    train_y = torch.empty((3, 1))\n",
    "\n",
    "    accelerator_model.current()\n",
    "\n",
    "    for j in range(len(train_x)):\n",
    "        accelerator_model.apply_fields({'q1': train_x[j, 0],\n",
    "                                        'q2': train_x[j, 1],\n",
    "                                        'q3': train_x[j, 2],})\n",
    "\n",
    "        beam_matrix = accelerator_model(init_beam_matrix, full=False)\n",
    "        #fig,ax = plt.subplots()\n",
    "        #ax.plot(torch.sqrt(beam_matrix[:, 0, 0]).detach())\n",
    "        #ax.plot(torch.sqrt(beam_matrix[:, 2, 2]).detach())\n",
    "\n",
    "\n",
    "        train_y[j] = objective(\n",
    "            accelerator_model(initial_beam_matrix)\n",
    "        )\n",
    "\n",
    "    print(train_x)\n",
    "    print(train_y)\n",
    "\n",
    "    gpmodel = get_model(train_x, train_y, use_hybrid, h_models)\n",
    "\n",
    "    for i in trange(iterations):\n",
    "        UCB = UpperConfidenceBound(gpmodel, beta=2.0, maximize=False)\n",
    "        \n",
    "        if use_hybrid:\n",
    "            gpmodel.next()\n",
    "\n",
    "        bounds = torch.stack([-1.0 * torch.ones(3), 1.0*torch.ones(3)])\n",
    "        candidate, acq_value = optimize_acqf(\n",
    "            UCB,\n",
    "            bounds=bounds,\n",
    "            q=1,\n",
    "            num_restarts=5,\n",
    "            raw_samples=20,\n",
    "        )\n",
    "        train_x = torch.cat((train_x, candidate))\n",
    "\n",
    "        # apply candidate\n",
    "        accelerator_model.apply_fields({'q1': candidate[0,0],\n",
    "                                        'q2': candidate[0,1],\n",
    "                                        'q3': candidate[0,2]})\n",
    "\n",
    "        # make next measurement\n",
    "        bs = objective(\n",
    "            accelerator_model(initial_beam_matrix)\n",
    "        ).reshape(1, 1)\n",
    "        train_y = torch.cat((train_y.clone(), bs.clone()))\n",
    "\n",
    "        # train new model\n",
    "        try:\n",
    "            gpmodel = get_model(train_x, train_y, use_hybrid, h_models)\n",
    "        except NotPSDError:\n",
    "            pass\n",
    "    \n",
    "    return train_x, train_y, gpmodel"
   ]
  },
  {
   "cell_type": "markdown",
   "id": "a30eb8f0-c21c-4bdd-a0c9-6ae06402f04f",
   "metadata": {},
   "source": [
    "## Do optimization"
   ]
  },
  {
   "cell_type": "code",
   "execution_count": 7,
   "id": "7d37e951-8d96-479f-b4a3-1c143e4b7749",
   "metadata": {},
   "outputs": [
    {
     "name": "stdout",
     "output_type": "stream",
     "text": [
      "tensor([[ 0.0000,  0.0000,  0.0000],\n",
      "        [ 0.2500,  0.2500,  0.2500],\n",
      "        [ 0.3000, -0.6000,  0.3000]])\n",
      "tensor([[-3.3126],\n",
      "        [-3.3965],\n",
      "        [-3.0822]], grad_fn=<CopySlices>)\n"
     ]
    },
    {
     "data": {
      "text/plain": "  0%|          | 0/100 [00:00<?, ?it/s]",
      "application/vnd.jupyter.widget-view+json": {
       "version_major": 2,
       "version_minor": 0,
       "model_id": "51544c5abcb741cf9a47ddfe39d43168"
      }
     },
     "metadata": {},
     "output_type": "display_data"
    }
   ],
   "source": [
    "train_X_data, train_Y_data, model = optimize(\n",
    "    HA,\n",
    "    R,\n",
    "    hmodels,\n",
    "    steps=100,\n",
    "    use_hybrid=True\n",
    ")"
   ]
  },
  {
   "cell_type": "code",
   "execution_count": 8,
   "id": "145aa6da-7fe3-4268-802c-024f98c41d9a",
   "metadata": {},
   "outputs": [
    {
     "data": {
      "text/plain": "[<matplotlib.lines.Line2D at 0x17e1c5e93d0>]"
     },
     "execution_count": 8,
     "metadata": {},
     "output_type": "execute_result"
    },
    {
     "data": {
      "text/plain": "<Figure size 432x288 with 1 Axes>",
      "image/png": "[encoded data removed]"
     },
     "metadata": {
      "needs_background": "light"
     },
     "output_type": "display_data"
    }
   ],
   "source": [
    "def get_best(input):\n",
    "    out = []\n",
    "    for i in range(len(input)):\n",
    "        out += [torch.min(input[:i+1])]\n",
    "    return torch.tensor(out)\n",
    "\n",
    "fig,ax = plt.subplots()\n",
    "best = get_best(train_Y_data.flatten().detach())\n",
    "ax.plot(best)"
   ]
  },
  {
   "cell_type": "code",
   "execution_count": 16,
   "id": "18de8f25-208d-4249-857a-542d9e30498b",
   "metadata": {
    "pycharm": {
     "name": "#%%\n"
    }
   },
   "outputs": [
    {
     "name": "stdout",
     "output_type": "stream",
     "text": [
      "tensor([ 0.0000,  0.2500,  0.3000,  0.0439, -0.0100,  0.0726, -0.0654, -0.1133,\n",
      "        -0.0117, -0.0843, -0.1339, -0.0662, -0.0746, -0.0746, -0.0630, -0.0533,\n",
      "        -0.0541,  0.7958, -0.2041, -0.1750, -0.1523, -0.1529, -0.2040, -0.1075,\n",
      "        -0.1078, -0.1109, -0.1205, -0.1277, -0.1349, -0.1406, -0.1406, -0.1407,\n",
      "        -0.1407, -0.1407, -0.1407, -0.0232, -0.1624, -0.1624, -0.1635, -0.1635,\n",
      "        -0.1635, -0.1628, -0.1628, -0.1628, -0.1628, -0.1628, -0.1628, -0.1628,\n",
      "        -0.1628, -0.1628, -0.1628, -0.1628, -0.1628, -0.1628, -0.1628, -0.1628,\n",
      "        -0.1618, -0.1618, -0.1063, -0.1592, -0.1518, -0.1523, -0.1049, -0.1593,\n",
      "        -0.1593, -0.1590, -0.1590, -0.1590, -0.1590, -0.1590, -0.1590, -0.1596,\n",
      "        -0.1669, -0.1646, -0.4482, -0.0244, -0.0433, -0.0322, -0.2866, -0.2865,\n",
      "        -0.2432,  0.0060, -0.0137, -0.0491, -0.0491, -0.0429, -0.0507, -0.0507,\n",
      "        -0.2727, -0.0288, -0.3135, -0.2349, -0.0270, -0.0270, -0.0270, -0.0027,\n",
      "        -0.0518, -0.0540, -0.2242, -0.0328, -0.2230, -0.0206, -0.2761],\n",
      "       dtype=torch.float64)\n",
      "tensor([ 0.0000,  0.2500,  0.3000,  0.0439, -0.0100,  0.0726, -0.0654, -0.1133,\n",
      "        -0.0117, -0.0843, -0.1339, -0.0662, -0.0746, -0.0746, -0.0630, -0.0533,\n",
      "        -0.0541,  0.7958, -0.2041, -0.1750, -0.1523, -0.1529, -0.2040, -0.1075,\n",
      "        -0.1078, -0.1109, -0.1205, -0.1277, -0.1349, -0.1406, -0.1406, -0.1407,\n",
      "        -0.1407, -0.1407, -0.1407, -0.0232, -0.1624, -0.1624, -0.1635, -0.1635,\n",
      "        -0.1635, -0.1628, -0.1628, -0.1628, -0.1628, -0.1628, -0.1628, -0.1628,\n",
      "        -0.1628, -0.1628, -0.1628, -0.1628, -0.1628, -0.1628, -0.1628, -0.1628,\n",
      "        -0.1618, -0.1618, -0.1063, -0.1592, -0.1518, -0.1523, -0.1049, -0.1593,\n",
      "        -0.1593, -0.1590, -0.1590, -0.1590, -0.1590, -0.1590, -0.1590, -0.1596,\n",
      "        -0.1669, -0.1646, -0.4482, -0.0244, -0.0433, -0.0322, -0.2866, -0.2865,\n",
      "        -0.2432,  0.0060, -0.0137, -0.0491, -0.0491, -0.0429, -0.0507, -0.0507,\n",
      "        -0.2727, -0.0288, -0.3135, -0.2349, -0.0270, -0.0270, -0.0270, -0.0027,\n",
      "        -0.0518, -0.0540, -0.2242, -0.0328, -0.2230, -0.0206, -0.2761],\n",
      "       dtype=torch.float64)\n",
      "MultivariateNormal(loc: tensor([0.8545], dtype=torch.float64, grad_fn=<ViewBackward>))\n",
      "tensor([ 0.0000,  0.2500,  0.3000,  0.0439, -0.0100,  0.0726, -0.0654, -0.1133,\n",
      "        -0.0117, -0.0843, -0.1339, -0.0662, -0.0746, -0.0746, -0.0630, -0.0533,\n",
      "        -0.0541,  0.7958, -0.2041, -0.1750, -0.1523, -0.1529, -0.2040, -0.1075,\n",
      "        -0.1078, -0.1109, -0.1205, -0.1277, -0.1349, -0.1406, -0.1406, -0.1407,\n",
      "        -0.1407, -0.1407, -0.1407, -0.0232, -0.1624, -0.1624, -0.1635, -0.1635,\n",
      "        -0.1635, -0.1628, -0.1628, -0.1628, -0.1628, -0.1628, -0.1628, -0.1628,\n",
      "        -0.1628, -0.1628, -0.1628, -0.1628, -0.1628, -0.1628, -0.1628, -0.1628,\n",
      "        -0.1618, -0.1618, -0.1063, -0.1592, -0.1518, -0.1523, -0.1049, -0.1593,\n",
      "        -0.1593, -0.1590, -0.1590, -0.1590, -0.1590, -0.1590, -0.1590, -0.1596,\n",
      "        -0.1669, -0.1646, -0.4482, -0.0244, -0.0433, -0.0322, -0.2866, -0.2865,\n",
      "        -0.2432,  0.0060, -0.0137, -0.0491, -0.0491, -0.0429, -0.0507, -0.0507,\n",
      "        -0.2727, -0.0288, -0.3135, -0.2349, -0.0270, -0.0270, -0.0270, -0.0027,\n",
      "        -0.0518, -0.0540, -0.2242, -0.0328, -0.2230, -0.0206, -0.2761, -0.1593],\n",
      "       dtype=torch.float64)\n"
     ]
    },
    {
     "data": {
      "text/plain": "[<matplotlib.lines.Line2D at 0x17e2a63a5e0>]"
     },
     "execution_count": 16,
     "metadata": {},
     "output_type": "execute_result"
    },
    {
     "data": {
      "text/plain": "<Figure size 432x288 with 1 Axes>",
      "image/png": "[encoded data removed]"
     },
     "metadata": {
      "needs_background": "light"
     },
     "output_type": "display_data"
    }
   ],
   "source": [
    "best_pt = train_X_data[torch.argmin(train_Y_data)]\n",
    "\n",
    "model = get_model(\n",
    "    train_X_data,\n",
    "    train_Y_data,\n",
    "    use_hybrid = True,\n",
    "    h_models = hmodels,\n",
    ")\n",
    "\n",
    "# optimize model to find the best point\n",
    "UCB = UpperConfidenceBound(model, beta=0.001, maximize=False)\n",
    "try:\n",
    "    model.next()\n",
    "except AttributeError:\n",
    "    pass\n",
    "\n",
    "bounds = torch.stack([-1.0 * torch.ones(3), 1.0*torch.ones(3)])\n",
    "candidate, acq_value = optimize_acqf(\n",
    "    UCB,\n",
    "    bounds=bounds,\n",
    "    q=1,\n",
    "    num_restarts=100,\n",
    "    raw_samples=100\n",
    ")\n",
    "print(model.hysteresis_models[0].history_h)\n",
    "print(HA.elements['q1'].hysteresis_model.history_h)\n",
    "\n",
    "print(model(best_pt.unsqueeze(0)))\n",
    "\n",
    "HA.apply_fields(dict(zip(['q1','q2','q3'], best_pt.flatten())))\n",
    "print(HA.elements['q1'].hysteresis_model.history_h)\n",
    "\n",
    "HA.current()\n",
    "beam_matrix = HA(init_beam_matrix, full=False)\n",
    "fig,ax = plt.subplots()\n",
    "ax.plot(torch.sqrt(beam_matrix[:, 0, 0]).detach())\n",
    "ax.plot(torch.sqrt(beam_matrix[:, 2, 2]).detach())"
   ]
  },
  {
   "cell_type": "code",
   "execution_count": 17,
   "outputs": [
    {
     "name": "stdout",
     "output_type": "stream",
     "text": [
      "tensor(-6.9794, grad_fn=<LogBackward>)\n",
      "tensor(-10.8474, grad_fn=<MinBackward1>)\n"
     ]
    }
   ],
   "source": [
    "print(objective(beam_matrix[-1]))\n",
    "print(torch.min(train_Y_data))"
   ],
   "metadata": {
    "collapsed": false,
    "pycharm": {
     "name": "#%%\n"
    }
   }
  },
  {
   "cell_type": "code",
   "execution_count": 10,
   "outputs": [],
   "source": [],
   "metadata": {
    "collapsed": false,
    "pycharm": {
     "name": "#%%\n"
    }
   }
  }
 ],
 "metadata": {
  "kernelspec": {
   "name": "python3",
   "language": "python",
   "display_name": "Python 3 (ipykernel)"
  },
  "language_info": {
   "codemirror_mode": {
    "name": "ipython",
    "version": 3
   },
   "file_extension": ".py",
   "mimetype": "text/x-python",
   "name": "python",
   "nbconvert_exporter": "python",
   "pygments_lexer": "ipython3",
   "version": "3.9.7"
  }
 },
 "nbformat": 4,
 "nbformat_minor": 5
}