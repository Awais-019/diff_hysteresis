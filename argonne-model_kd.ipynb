{
 "cells": [
  {
   "cell_type": "code",
   "execution_count": 1,
   "metadata": {},
   "outputs": [],
   "source": [
    "import matplotlib.pyplot as plt\n",
    "import utils\n",
    "import numerical_hysteresis\n",
    "import synthetic\n",
    "import optimization\n",
    "import torch, botorch\n",
    "import numpy as np\n",
    "import pandas as pd"
   ]
  },
  {
   "cell_type": "code",
   "execution_count": 2,
   "metadata": {},
   "outputs": [
    {
     "name": "stdout",
     "output_type": "stream",
     "text": [
      "    Current  B-fld\n",
      "0     186.0  0.237\n",
      "1     184.0  0.236\n",
      "2     183.0  0.235\n",
      "3     181.0  0.234\n",
      "4     180.0  0.234\n",
      "5     179.0  0.233\n",
      "6     177.0  0.232\n",
      "7     176.0  0.231\n",
      "8     175.0  0.231\n",
      "9     176.0  0.231\n",
      "10    177.0  0.232\n",
      "11    179.0  0.233\n",
      "12    180.0  0.234\n",
      "13    181.0  0.234\n",
      "14    183.0  0.235\n",
      "15    184.0  0.236\n",
      "16    186.0  0.237\n",
      "17    187.0  0.237\n",
      "18    188.0  0.238\n",
      "19    190.0  0.239\n",
      "20    191.0  0.240\n",
      "21    193.0  0.241\n",
      "22    194.0  0.242\n",
      "23    195.0  0.243\n",
      "24    197.0  0.244\n",
      "25    195.0  0.243\n",
      "26    194.0  0.242\n",
      "27    193.0  0.241\n",
      "28    191.0  0.241\n",
      "29    190.0  0.240\n",
      "30    188.0  0.239\n",
      "31    187.0  0.238\n",
      "32    186.0  0.237\n"
     ]
    }
   ],
   "source": [
    "data = pd.read_csv(r\"C:\\Users\\dubey\\Documents\\3. Projects\\Accelerator-Research\\Hysteresis-Data.csv\", engine='python')\n",
    "\n",
    "print(data)"
   ]
  },
  {
   "cell_type": "code",
   "execution_count": 3,
   "metadata": {},
   "outputs": [],
   "source": [
    "# Global parameters\n",
    "n = 100\n",
    "h = torch.tensor(data['Current'])\n",
    "b = torch.tensor(data['B-fld'])\n",
    "\n",
    "h_min = 170\n",
    "h_max = 200\n",
    "b_min = 0\n",
    "b_max = 0.5\n",
    "\n",
    "xx, yy=utils.generate_asym_mesh(h_min, h_max, n)\n",
    "\n",
    "states=numerical_hysteresis.state(xx, yy, h_max, h)\n",
    "\n",
    "alpha = 100\n",
    "num_iterations = 5000"
   ]
  },
  {
   "cell_type": "code",
   "execution_count": 4,
   "metadata": {},
   "outputs": [],
   "source": [
    "h_nd = botorch.utils.transforms.normalize(h, torch.tensor([h_min, h_max]))\n",
    "b_nd = botorch.utils.transforms.normalize(b, torch.tensor([b_min, b_max]))"
   ]
  },
  {
   "cell_type": "code",
   "execution_count": null,
   "metadata": {},
   "outputs": [
    {
     "name": "stdout",
     "output_type": "stream",
     "text": [
      "0 iterations completed\n",
      "500 iterations completed\n",
      "1000 iterations completed\n",
      "1500 iterations completed\n",
      "2000 iterations completed\n",
      "2500 iterations completed\n",
      "3000 iterations completed\n",
      "3500 iterations completed\n",
      "4000 iterations completed\n"
     ]
    }
   ],
   "source": [
    "history_f, x_star, num_points, h, b, b_pred, b_start = optimization.optimize(n, h_nd, b, h_max, b_nd, optimization.l, alpha, num_iterations)\n",
    "\n",
    "# Plot the trajectory of the loss function\n",
    "optimization.plot_lfunc(history_f)\n",
    "plt.show()\n",
    "\n",
    "# Plot optimized hysterion density distribution\n",
    "optimization.plot_density(x_star, num_points)\n",
    "plt.show()\n",
    "\n",
    "# Plot H x M hysteresis loop\n",
    "optimization.plot_loops(h, b, b_pred, b_start)\n",
    "plt.show()"
   ]
  },
  {
   "cell_type": "code",
   "execution_count": null,
   "metadata": {},
   "outputs": [],
   "source": [
    "plt.plot(h_nd, b_nd, 'o')"
   ]
  },
  {
   "cell_type": "code",
   "execution_count": null,
   "metadata": {},
   "outputs": [],
   "source": [
    "plt.plot(h_nd)"
   ]
  },
  {
   "cell_type": "code",
   "execution_count": null,
   "metadata": {},
   "outputs": [],
   "source": [
    "plt.plot(b_nd)"
   ]
  },
  {
   "cell_type": "code",
   "execution_count": null,
   "metadata": {},
   "outputs": [],
   "source": []
  }
 ],
 "metadata": {
  "kernelspec": {
   "display_name": "Python 3",
   "language": "python",
   "name": "python3"
  },
  "language_info": {
   "codemirror_mode": {
    "name": "ipython",
    "version": 3
   },
   "file_extension": ".py",
   "mimetype": "text/x-python",
   "name": "python",
   "nbconvert_exporter": "python",
   "pygments_lexer": "ipython3",
   "version": "3.8.3"
  }
 },
 "nbformat": 4,
 "nbformat_minor": 4
}
