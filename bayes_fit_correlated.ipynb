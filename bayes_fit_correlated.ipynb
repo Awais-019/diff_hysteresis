{
 "cells": [
  {
   "cell_type": "code",
   "execution_count": 18,
   "metadata": {
    "collapsed": true
   },
   "outputs": [],
   "source": [
    "import numpy as np\n",
    "\n",
    "import bayes_hysteresis\n",
    "import hysteresis\n",
    "import synthetic\n",
    "import torch\n",
    "import matplotlib.pyplot as plt\n",
    "from bayes_hysteresis_correlated import CorrelatedBayesianHysteresis\n",
    "from pyro.infer.autoguide import AutoMultivariateNormal\n",
    "from pyro.infer import SVI, TraceEnum_ELBO, Predictive, Trace_ELBO\n",
    "import pyro\n",
    "from bayesian_utils import train, predict\n",
    "import utils\n",
    "from data_imports import get_synthetic\n"
   ]
  },
  {
   "cell_type": "code",
   "execution_count": 19,
   "outputs": [
    {
     "name": "stdout",
     "output_type": "stream",
     "text": [
      "calculating states\n",
      "calculating states\n",
      "calculating states\n",
      "calculating states\n",
      "[iteration 0001] loss: 7587.5948\n",
      "[iteration 0101] loss: 16463.9337\n",
      "[iteration 0201] loss: 6480.0826\n",
      "[iteration 0301] loss: 6944.6154\n",
      "[iteration 0401] loss: 32514.3293\n",
      "[iteration 0501] loss: 16122.7712\n",
      "[iteration 0601] loss: 6250.7897\n",
      "[iteration 0701] loss: 6646.2969\n",
      "[iteration 0801] loss: 31458.7038\n",
      "[iteration 0901] loss: 25042.3469\n",
      "[iteration 1001] loss: 7081.9952\n",
      "[iteration 1101] loss: 7388.5082\n",
      "[iteration 1201] loss: 6821.1085\n",
      "[iteration 1301] loss: 8645.6551\n",
      "[iteration 1401] loss: 21278.5255\n",
      "[iteration 1501] loss: 11042.7759\n",
      "[iteration 1601] loss: 25660.0523\n",
      "[iteration 1701] loss: 7651.3034\n",
      "[iteration 1801] loss: 6077.6869\n",
      "[iteration 1901] loss: 36940.3094\n",
      "[iteration 2001] loss: 7860.2099\n",
      "[iteration 2101] loss: 6607.1816\n",
      "[iteration 2201] loss: 6290.9896\n",
      "[iteration 2301] loss: 14604.8099\n",
      "[iteration 2401] loss: 9124.8189\n",
      "[iteration 2501] loss: 9524.6098\n",
      "[iteration 2601] loss: 8201.3176\n",
      "[iteration 2701] loss: 11764.1360\n",
      "[iteration 2801] loss: 5898.4494\n",
      "[iteration 2901] loss: 10367.4186\n",
      "[iteration 3001] loss: 9223.7705\n",
      "[iteration 3101] loss: 9201.3299\n",
      "[iteration 3201] loss: 9025.3068\n",
      "[iteration 3301] loss: 5982.0650\n",
      "[iteration 3401] loss: 23297.2623\n",
      "[iteration 3501] loss: 9039.8664\n",
      "[iteration 3601] loss: 7628.6815\n",
      "[iteration 3701] loss: 5784.2694\n",
      "[iteration 3801] loss: 7247.0682\n",
      "[iteration 3901] loss: 7390.2902\n",
      "[iteration 4001] loss: 6517.3211\n",
      "[iteration 4101] loss: 6858.2411\n",
      "[iteration 4201] loss: 6595.0917\n",
      "[iteration 4301] loss: 8569.8486\n",
      "[iteration 4401] loss: 6215.7229\n",
      "[iteration 4501] loss: 11099.4250\n",
      "[iteration 4601] loss: 5728.1998\n",
      "[iteration 4701] loss: 6843.3728\n",
      "[iteration 4801] loss: 7048.0008\n",
      "[iteration 4901] loss: 5570.5958\n",
      "[iteration 5001] loss: 6412.5809\n",
      "[iteration 5101] loss: 6554.0206\n",
      "[iteration 5201] loss: 7424.0387\n",
      "[iteration 5301] loss: 9066.1658\n",
      "[iteration 5401] loss: 7685.7032\n",
      "[iteration 5501] loss: 5360.3539\n",
      "[iteration 5601] loss: 5718.7799\n",
      "[iteration 5701] loss: 6182.8748\n",
      "[iteration 5801] loss: 5644.3783\n",
      "[iteration 5901] loss: 11230.1205\n",
      "[iteration 6001] loss: 5254.4944\n",
      "[iteration 6101] loss: 6579.4166\n",
      "[iteration 6201] loss: 6139.5506\n",
      "[iteration 6301] loss: 6046.1890\n",
      "[iteration 6401] loss: 5617.4615\n",
      "[iteration 6501] loss: 7043.0564\n",
      "[iteration 6601] loss: 5845.8085\n",
      "[iteration 6701] loss: 5983.5663\n",
      "[iteration 6801] loss: 5669.0796\n",
      "[iteration 6901] loss: 8001.7375\n",
      "[iteration 7001] loss: 6070.1298\n",
      "[iteration 7101] loss: 5304.1524\n",
      "[iteration 7201] loss: 5737.5804\n",
      "[iteration 7301] loss: 6854.3705\n",
      "[iteration 7401] loss: 6018.5002\n",
      "[iteration 7501] loss: 5542.0816\n",
      "[iteration 7601] loss: 5392.6595\n",
      "[iteration 7701] loss: 6315.7047\n",
      "[iteration 7801] loss: 6124.2995\n",
      "[iteration 7901] loss: 6032.6139\n",
      "[iteration 8001] loss: 6136.2467\n",
      "[iteration 8101] loss: 5705.0957\n",
      "[iteration 8201] loss: 8235.9809\n",
      "[iteration 8301] loss: 6061.3371\n",
      "[iteration 8401] loss: 6006.1076\n",
      "[iteration 8501] loss: 6043.4119\n",
      "[iteration 8601] loss: 5520.9472\n",
      "[iteration 8701] loss: 6274.2718\n",
      "[iteration 8801] loss: 5431.0076\n",
      "[iteration 8901] loss: 5604.7524\n",
      "[iteration 9001] loss: 5500.1339\n",
      "[iteration 9101] loss: 5910.5778\n",
      "[iteration 9201] loss: 6744.8756\n",
      "[iteration 9301] loss: 5885.0135\n",
      "[iteration 9401] loss: 5358.7820\n",
      "[iteration 9501] loss: 6482.5262\n",
      "[iteration 9601] loss: 5203.5120\n",
      "[iteration 9701] loss: 6145.5458\n",
      "[iteration 9801] loss: 5426.7595\n",
      "[iteration 9901] loss: 6255.0818\n",
      "calculating states\n",
      "calculating states\n",
      "calculating states\n",
      "calculating states\n",
      "[iteration 0001] loss: 2094.5359\n",
      "[iteration 0101] loss: 1012.5728\n",
      "[iteration 0201] loss: 1014.3881\n",
      "[iteration 0301] loss: 6797.3010\n",
      "[iteration 0401] loss: 43822.5273\n",
      "[iteration 0501] loss: 1856.5478\n",
      "[iteration 0601] loss: 17183.5432\n",
      "[iteration 0701] loss: 33466.4077\n",
      "[iteration 0801] loss: 13029.8828\n",
      "[iteration 0901] loss: 941.1256\n",
      "[iteration 1001] loss: 36509.6532\n",
      "[iteration 1101] loss: 751.8986\n",
      "[iteration 1201] loss: 739.0350\n",
      "[iteration 1301] loss: 1171.4139\n",
      "[iteration 1401] loss: 1173.7314\n",
      "[iteration 1501] loss: 573.0558\n",
      "[iteration 1601] loss: 8600.1697\n",
      "[iteration 1701] loss: 1257.3273\n",
      "[iteration 1801] loss: 7313.2439\n",
      "[iteration 1901] loss: 8785.4983\n",
      "[iteration 2001] loss: 9776.6300\n",
      "[iteration 2101] loss: 552.1776\n",
      "[iteration 2201] loss: 4301.5365\n",
      "[iteration 2301] loss: 489.8945\n",
      "[iteration 2401] loss: 4159.3493\n",
      "[iteration 2501] loss: 1841.4872\n",
      "[iteration 2601] loss: 708.4217\n",
      "[iteration 2701] loss: 615.3478\n",
      "[iteration 2801] loss: 1015.5247\n",
      "[iteration 2901] loss: 1629.4304\n",
      "[iteration 3001] loss: 1059.8034\n",
      "[iteration 3101] loss: 749.8577\n",
      "[iteration 3201] loss: 4669.9527\n",
      "[iteration 3301] loss: 679.8164\n",
      "[iteration 3401] loss: 6526.8801\n",
      "[iteration 3501] loss: 2829.5179\n",
      "[iteration 3601] loss: 23361.4034\n",
      "[iteration 3701] loss: 1291.9225\n",
      "[iteration 3801] loss: 853.2326\n",
      "[iteration 3901] loss: 2644.9593\n",
      "[iteration 4001] loss: 4208.0176\n",
      "[iteration 4101] loss: 3357.5482\n",
      "[iteration 4201] loss: 1908.0248\n",
      "[iteration 4301] loss: 1177.0390\n",
      "[iteration 4401] loss: 609.4425\n",
      "[iteration 4501] loss: 740.9600\n",
      "[iteration 4601] loss: 584.0794\n",
      "[iteration 4701] loss: 528.7646\n",
      "[iteration 4801] loss: 2231.0495\n",
      "[iteration 4901] loss: 1946.8078\n",
      "[iteration 5001] loss: 1105.9500\n",
      "[iteration 5101] loss: 3411.0530\n",
      "[iteration 5201] loss: 1377.6095\n",
      "[iteration 5301] loss: 1900.7282\n",
      "[iteration 5401] loss: 511.8424\n",
      "[iteration 5501] loss: 824.0285\n",
      "[iteration 5601] loss: 422.3229\n",
      "[iteration 5701] loss: 656.3252\n",
      "[iteration 5801] loss: 1762.5941\n",
      "[iteration 5901] loss: 468.1130\n",
      "[iteration 6001] loss: 6502.5611\n",
      "[iteration 6101] loss: 1030.2500\n",
      "[iteration 6201] loss: 888.1292\n",
      "[iteration 6301] loss: 2282.7043\n",
      "[iteration 6401] loss: 3516.9134\n",
      "[iteration 6501] loss: 770.6912\n",
      "[iteration 6601] loss: 549.8539\n",
      "[iteration 6701] loss: 3111.0538\n",
      "[iteration 6801] loss: 641.6973\n",
      "[iteration 6901] loss: 630.1802\n",
      "[iteration 7001] loss: 990.6637\n",
      "[iteration 7101] loss: 1661.2292\n",
      "[iteration 7201] loss: 879.1808\n",
      "[iteration 7301] loss: 425.8445\n",
      "[iteration 7401] loss: 2015.7530\n",
      "[iteration 7501] loss: 434.0886\n",
      "[iteration 7601] loss: 700.8509\n",
      "[iteration 7701] loss: 995.3904\n",
      "[iteration 7801] loss: 1197.9805\n",
      "[iteration 7901] loss: 418.9178\n",
      "[iteration 8001] loss: 1879.8899\n",
      "[iteration 8101] loss: 982.2484\n",
      "[iteration 8201] loss: 752.9426\n",
      "[iteration 8301] loss: 475.1351\n",
      "[iteration 8401] loss: 658.9197\n",
      "[iteration 8501] loss: 428.8579\n",
      "[iteration 8601] loss: 907.9760\n",
      "[iteration 8701] loss: 468.8270\n",
      "[iteration 8801] loss: 515.3804\n",
      "[iteration 8901] loss: 660.1019\n",
      "[iteration 9001] loss: 376.6555\n",
      "[iteration 9101] loss: 476.5246\n",
      "[iteration 9201] loss: 415.3086\n",
      "[iteration 9301] loss: 1016.7116\n",
      "[iteration 9401] loss: 408.0326\n",
      "[iteration 9501] loss: 1652.7478\n",
      "[iteration 9601] loss: 455.0605\n",
      "[iteration 9701] loss: 454.6191\n",
      "[iteration 9801] loss: 400.8719\n",
      "[iteration 9901] loss: 941.6619\n"
     ]
    }
   ],
   "source": [
    "n_grid = 25\n",
    "\n",
    "# %%\n",
    "models = []\n",
    "sums = []\n",
    "means = []\n",
    "guides = []\n",
    "for state in [True, False]:\n",
    "    h, m, hyst_model = get_synthetic(n_grid)\n",
    "    train_h = h[:10]\n",
    "    train_m = m[:10]\n",
    "    hyst_model.set_data(train_h)\n",
    "    model = CorrelatedBayesianHysteresis(hyst_model,\n",
    "                                         n_grid,\n",
    "                                         0.001,\n",
    "                                         use_prior=state)\n",
    "\n",
    "    guide = AutoMultivariateNormal(model)\n",
    "    train(train_h, train_m, model, guide, 10000, 0.001)\n",
    "\n",
    "    models += [model]\n",
    "    guides += [guide]"
   ],
   "metadata": {
    "collapsed": false,
    "pycharm": {
     "name": "#%%\n"
    }
   }
  },
  {
   "cell_type": "code",
   "execution_count": 20,
   "outputs": [
    {
     "name": "stdout",
     "output_type": "stream",
     "text": [
      "torch.Size([325])\n"
     ]
    },
    {
     "name": "stderr",
     "output_type": "stream",
     "text": [
      "C:\\Users\\RYANRO~1\\AppData\\Local\\Temp/ipykernel_7400/3302666995.py:14: MatplotlibDeprecationWarning: shading='flat' when X and Y have the same dimensions as C is deprecated since 3.3.  Either specify the corners of the quadrilaterals with X and Y, or pass shading='auto', 'nearest' or 'gouraud', or set rcParams['pcolor.shading'].  This will become an error two minor releases later.\n",
      "  c = ax.pcolor(xx, yy, mean)\n",
      "C:\\Users\\RYANRO~1\\AppData\\Local\\Temp/ipykernel_7400/3302666995.py:18: MatplotlibDeprecationWarning: shading='flat' when X and Y have the same dimensions as C is deprecated since 3.3.  Either specify the corners of the quadrilaterals with X and Y, or pass shading='auto', 'nearest' or 'gouraud', or set rcParams['pcolor.shading'].  This will become an error two minor releases later.\n",
      "  c = ax.pcolor(xx, yy, std)\n"
     ]
    },
    {
     "data": {
      "text/plain": "<matplotlib.colorbar.Colorbar at 0x11bc8d57a60>"
     },
     "execution_count": 20,
     "metadata": {},
     "output_type": "execute_result"
    },
    {
     "data": {
      "text/plain": "<Figure size 432x288 with 2 Axes>",
      "image/png": "[encoded data removed]"
     },
     "metadata": {
      "needs_background": "light"
     },
     "output_type": "display_data"
    },
    {
     "data": {
      "text/plain": "<Figure size 432x288 with 2 Axes>",
      "image/png": "[encoded data removed]"
     },
     "metadata": {
      "needs_background": "light"
     },
     "output_type": "display_data"
    }
   ],
   "source": [
    "xx, yy = models[0].hysteresis_model.get_mesh()\n",
    "test_h = torch.linspace(-1, 1, 50)\n",
    "\n",
    "# look at priors\n",
    "prior_dist = models[0].get_prior_density_distribution()\n",
    "p_samples = torch.nn.Softplus()(prior_dist.sample([500]))\n",
    "mean = torch.mean(p_samples, 0)\n",
    "std = torch.std(p_samples, 0)\n",
    "print(mean.shape)\n",
    "mean = utils.vector_to_tril(mean, n_grid)\n",
    "std = utils.vector_to_tril(std, n_grid)\n",
    "\n",
    "fig, ax = plt.subplots()\n",
    "c = ax.pcolor(xx, yy, mean)\n",
    "fig.colorbar(c)\n",
    "\n",
    "fig, ax = plt.subplots()\n",
    "c = ax.pcolor(xx, yy, std)\n",
    "fig.colorbar(c)"
   ],
   "metadata": {
    "collapsed": false,
    "pycharm": {
     "name": "#%%\n"
    }
   }
  },
  {
   "cell_type": "code",
   "execution_count": 21,
   "outputs": [
    {
     "name": "stdout",
     "output_type": "stream",
     "text": [
      "calculating states\n"
     ]
    },
    {
     "name": "stderr",
     "output_type": "stream",
     "text": [
      "C:\\Users\\RYANRO~1\\AppData\\Local\\Temp/ipykernel_7400/2872079669.py:6: MatplotlibDeprecationWarning: shading='flat' when X and Y have the same dimensions as C is deprecated since 3.3.  Either specify the corners of the quadrilaterals with X and Y, or pass shading='auto', 'nearest' or 'gouraud', or set rcParams['pcolor.shading'].  This will become an error two minor releases later.\n",
      "  c = ax.pcolor(xx, yy, den.detach(), vmin=0, vmax=1.5)\n"
     ]
    },
    {
     "name": "stdout",
     "output_type": "stream",
     "text": [
      "calculating states\n"
     ]
    },
    {
     "name": "stderr",
     "output_type": "stream",
     "text": [
      "C:\\Users\\RYANRO~1\\AppData\\Local\\Temp/ipykernel_7400/2872079669.py:6: MatplotlibDeprecationWarning: shading='flat' when X and Y have the same dimensions as C is deprecated since 3.3.  Either specify the corners of the quadrilaterals with X and Y, or pass shading='auto', 'nearest' or 'gouraud', or set rcParams['pcolor.shading'].  This will become an error two minor releases later.\n",
      "  c = ax.pcolor(xx, yy, den.detach(), vmin=0, vmax=1.5)\n"
     ]
    },
    {
     "data": {
      "text/plain": "<Figure size 432x288 with 2 Axes>",
      "image/png": "[encoded data removed]"
     },
     "metadata": {
      "needs_background": "light"
     },
     "output_type": "display_data"
    },
    {
     "data": {
      "text/plain": "<Figure size 432x288 with 1 Axes>",
      "image/png": "[encoded data removed]"
     },
     "metadata": {
      "needs_background": "light"
     },
     "output_type": "display_data"
    },
    {
     "data": {
      "text/plain": "<Figure size 432x288 with 2 Axes>",
      "image/png": "[encoded data removed]"
     },
     "metadata": {
      "needs_background": "light"
     },
     "output_type": "display_data"
    },
    {
     "data": {
      "text/plain": "<Figure size 432x288 with 1 Axes>",
      "image/png": "[encoded data removed]"
     },
     "metadata": {
      "needs_background": "light"
     },
     "output_type": "display_data"
    }
   ],
   "source": [
    "for i in [0, 1]:\n",
    "    summary, samples = predict(test_h, models[i], guides[i])\n",
    "    den = utils.vector_to_tril(\n",
    "        torch.nn.Softplus()(summary['density']['mean'].flatten()), n_grid)\n",
    "    fig, ax = plt.subplots()\n",
    "    c = ax.pcolor(xx, yy, den.detach(), vmin=0, vmax=1.5)\n",
    "    fig.colorbar(c)\n",
    "\n",
    "    fig2,ax2 = plt.subplots()\n",
    "    y = summary['obs']\n",
    "    ax2.plot(h, m.detach(), 'o')\n",
    "    ax2.plot(test_h, y['mean'].detach())\n",
    "    ax2.fill_between(test_h,\n",
    "                    y['5%'],\n",
    "                    y['95%'],\n",
    "                    alpha=0.25)"
   ],
   "metadata": {
    "collapsed": false,
    "pycharm": {
     "name": "#%%\n"
    }
   }
  },
  {
   "cell_type": "code",
   "execution_count": 22,
   "outputs": [
    {
     "name": "stdout",
     "output_type": "stream",
     "text": [
      "tensor([-2.2770, -2.2770, -2.2770, -2.2770, -2.2770, -2.2770, -2.2770, -2.2770,\n",
      "        -2.2770, -2.2770, -2.2770, -2.2770, -2.2770, -2.2746, -2.2491, -2.2175,\n",
      "        -2.1644, -2.1222, -2.0709, -1.9941, -1.8989, -1.8203, -1.7629, -1.6496,\n",
      "        -1.5520, -1.3397, -1.2164, -1.0428, -0.8044, -0.6049, -0.3898, -0.1006,\n",
      "         0.0678,  0.2937,  0.5102,  0.7283,  0.9679,  1.2197,  1.2197,  1.2197,\n",
      "         1.2197,  1.2197,  1.2197,  1.2197,  1.2197,  1.2197,  1.2197,  1.2197,\n",
      "         1.2197,  1.2197])\n"
     ]
    }
   ],
   "source": [
    "#for name, item in pyro.get_param_store().items():\n",
    "#    print(f'{name}:{item}')\n",
    "\n",
    "out = model(test_h)\n",
    "print(out)"
   ],
   "metadata": {
    "collapsed": false,
    "pycharm": {
     "name": "#%%\n"
    }
   }
  },
  {
   "cell_type": "code",
   "execution_count": 23,
   "outputs": [
    {
     "ename": "ValueError",
     "evalue": "operands could not be broadcast together with shapes (30,) (50,) ",
     "output_type": "error",
     "traceback": [
      "\u001B[1;31m---------------------------------------------------------------------------\u001B[0m",
      "\u001B[1;31mValueError\u001B[0m                                Traceback (most recent call last)",
      "\u001B[1;32mC:\\Users\\RYANRO~1\\AppData\\Local\\Temp/ipykernel_7400/2838416395.py\u001B[0m in \u001B[0;36m<module>\u001B[1;34m\u001B[0m\n\u001B[0;32m      8\u001B[0m \u001B[0max\u001B[0m\u001B[1;33m.\u001B[0m\u001B[0mplot\u001B[0m\u001B[1;33m(\u001B[0m\u001B[0mm\u001B[0m\u001B[1;33m.\u001B[0m\u001B[0mdetach\u001B[0m\u001B[1;33m(\u001B[0m\u001B[1;33m)\u001B[0m\u001B[1;33m,\u001B[0m \u001B[1;34m'o'\u001B[0m\u001B[1;33m)\u001B[0m\u001B[1;33m\u001B[0m\u001B[1;33m\u001B[0m\u001B[0m\n\u001B[0;32m      9\u001B[0m \u001B[0max\u001B[0m\u001B[1;33m.\u001B[0m\u001B[0mplot\u001B[0m\u001B[1;33m(\u001B[0m\u001B[0my\u001B[0m\u001B[1;33m[\u001B[0m\u001B[1;34m'mean'\u001B[0m\u001B[1;33m]\u001B[0m\u001B[1;33m.\u001B[0m\u001B[0mdetach\u001B[0m\u001B[1;33m(\u001B[0m\u001B[1;33m)\u001B[0m\u001B[1;33m)\u001B[0m\u001B[1;33m\u001B[0m\u001B[1;33m\u001B[0m\u001B[0m\n\u001B[1;32m---> 10\u001B[1;33m ax.fill_between(range(len(h)),\n\u001B[0m\u001B[0;32m     11\u001B[0m                  \u001B[0my\u001B[0m\u001B[1;33m[\u001B[0m\u001B[1;34m'5%'\u001B[0m\u001B[1;33m]\u001B[0m\u001B[1;33m,\u001B[0m\u001B[1;33m\u001B[0m\u001B[1;33m\u001B[0m\u001B[0m\n\u001B[0;32m     12\u001B[0m                  \u001B[0my\u001B[0m\u001B[1;33m[\u001B[0m\u001B[1;34m'95%'\u001B[0m\u001B[1;33m]\u001B[0m\u001B[1;33m,\u001B[0m\u001B[1;33m\u001B[0m\u001B[1;33m\u001B[0m\u001B[0m\n",
      "\u001B[1;32mC:\\ProgramData\\Miniconda3\\envs\\bayesian_hysteresis\\lib\\site-packages\\matplotlib\\__init__.py\u001B[0m in \u001B[0;36minner\u001B[1;34m(ax, data, *args, **kwargs)\u001B[0m\n\u001B[0;32m   1359\u001B[0m     \u001B[1;32mdef\u001B[0m \u001B[0minner\u001B[0m\u001B[1;33m(\u001B[0m\u001B[0max\u001B[0m\u001B[1;33m,\u001B[0m \u001B[1;33m*\u001B[0m\u001B[0margs\u001B[0m\u001B[1;33m,\u001B[0m \u001B[0mdata\u001B[0m\u001B[1;33m=\u001B[0m\u001B[1;32mNone\u001B[0m\u001B[1;33m,\u001B[0m \u001B[1;33m**\u001B[0m\u001B[0mkwargs\u001B[0m\u001B[1;33m)\u001B[0m\u001B[1;33m:\u001B[0m\u001B[1;33m\u001B[0m\u001B[1;33m\u001B[0m\u001B[0m\n\u001B[0;32m   1360\u001B[0m         \u001B[1;32mif\u001B[0m \u001B[0mdata\u001B[0m \u001B[1;32mis\u001B[0m \u001B[1;32mNone\u001B[0m\u001B[1;33m:\u001B[0m\u001B[1;33m\u001B[0m\u001B[1;33m\u001B[0m\u001B[0m\n\u001B[1;32m-> 1361\u001B[1;33m             \u001B[1;32mreturn\u001B[0m \u001B[0mfunc\u001B[0m\u001B[1;33m(\u001B[0m\u001B[0max\u001B[0m\u001B[1;33m,\u001B[0m \u001B[1;33m*\u001B[0m\u001B[0mmap\u001B[0m\u001B[1;33m(\u001B[0m\u001B[0msanitize_sequence\u001B[0m\u001B[1;33m,\u001B[0m \u001B[0margs\u001B[0m\u001B[1;33m)\u001B[0m\u001B[1;33m,\u001B[0m \u001B[1;33m**\u001B[0m\u001B[0mkwargs\u001B[0m\u001B[1;33m)\u001B[0m\u001B[1;33m\u001B[0m\u001B[1;33m\u001B[0m\u001B[0m\n\u001B[0m\u001B[0;32m   1362\u001B[0m \u001B[1;33m\u001B[0m\u001B[0m\n\u001B[0;32m   1363\u001B[0m         \u001B[0mbound\u001B[0m \u001B[1;33m=\u001B[0m \u001B[0mnew_sig\u001B[0m\u001B[1;33m.\u001B[0m\u001B[0mbind\u001B[0m\u001B[1;33m(\u001B[0m\u001B[0max\u001B[0m\u001B[1;33m,\u001B[0m \u001B[1;33m*\u001B[0m\u001B[0margs\u001B[0m\u001B[1;33m,\u001B[0m \u001B[1;33m**\u001B[0m\u001B[0mkwargs\u001B[0m\u001B[1;33m)\u001B[0m\u001B[1;33m\u001B[0m\u001B[1;33m\u001B[0m\u001B[0m\n",
      "\u001B[1;32mC:\\ProgramData\\Miniconda3\\envs\\bayesian_hysteresis\\lib\\site-packages\\matplotlib\\axes\\_axes.py\u001B[0m in \u001B[0;36mfill_between\u001B[1;34m(self, x, y1, y2, where, interpolate, step, **kwargs)\u001B[0m\n\u001B[0;32m   5384\u001B[0m     def fill_between(self, x, y1, y2=0, where=None, interpolate=False,\n\u001B[0;32m   5385\u001B[0m                      step=None, **kwargs):\n\u001B[1;32m-> 5386\u001B[1;33m         return self._fill_between_x_or_y(\n\u001B[0m\u001B[0;32m   5387\u001B[0m             \u001B[1;34m\"x\"\u001B[0m\u001B[1;33m,\u001B[0m \u001B[0mx\u001B[0m\u001B[1;33m,\u001B[0m \u001B[0my1\u001B[0m\u001B[1;33m,\u001B[0m \u001B[0my2\u001B[0m\u001B[1;33m,\u001B[0m\u001B[1;33m\u001B[0m\u001B[1;33m\u001B[0m\u001B[0m\n\u001B[0;32m   5388\u001B[0m             where=where, interpolate=interpolate, step=step, **kwargs)\n",
      "\u001B[1;32mC:\\ProgramData\\Miniconda3\\envs\\bayesian_hysteresis\\lib\\site-packages\\matplotlib\\axes\\_axes.py\u001B[0m in \u001B[0;36m_fill_between_x_or_y\u001B[1;34m(self, ind_dir, ind, dep1, dep2, where, interpolate, step, **kwargs)\u001B[0m\n\u001B[0;32m   5306\u001B[0m                 raise ValueError(f\"where size ({where.size}) does not match \"\n\u001B[0;32m   5307\u001B[0m                                  f\"{ind_dir} size ({ind.size})\")\n\u001B[1;32m-> 5308\u001B[1;33m         where = where & ~functools.reduce(\n\u001B[0m\u001B[0;32m   5309\u001B[0m             np.logical_or, map(np.ma.getmask, [ind, dep1, dep2]))\n\u001B[0;32m   5310\u001B[0m \u001B[1;33m\u001B[0m\u001B[0m\n",
      "\u001B[1;31mValueError\u001B[0m: operands could not be broadcast together with shapes (30,) (50,) "
     ]
    },
    {
     "data": {
      "text/plain": "<Figure size 432x288 with 1 Axes>",
      "image/png": "[encoded data removed]"
     },
     "metadata": {
      "needs_background": "light"
     },
     "output_type": "display_data"
    }
   ],
   "source": [
    "loc = pyro.param('AutoMultivariateNormal.loc')[:-2].double()\n",
    "raw_den = utils.vector_to_tril(loc, n_grid)\n",
    "den = utils.vector_to_tril(torch.nn.Softplus()(loc),\n",
    "                           n_grid)\n",
    "\n",
    "y = summary['obs']\n",
    "fig, ax = plt.subplots()\n",
    "ax.plot(m.detach(), 'o')\n",
    "ax.plot(y['mean'].detach())\n",
    "ax.fill_between(range(len(h)),\n",
    "                 y['5%'],\n",
    "                 y['95%'],\n",
    "                 alpha=0.25)\n",
    "\n",
    "fig, ax = plt.subplots()\n",
    "ax.plot(h, m.detach(), 'o')\n",
    "\n",
    "fig, ax = plt.subplots()\n",
    "c = ax.pcolor(xx, yy, den.detach())\n",
    "fig.colorbar(c)\n",
    "\n",
    "fig, ax = plt.subplots()\n",
    "c = ax.pcolor(xx, yy, raw_den.detach())\n",
    "fig.colorbar(c)"
   ],
   "metadata": {
    "collapsed": false,
    "pycharm": {
     "name": "#%%\n"
    }
   }
  },
  {
   "cell_type": "code",
   "execution_count": null,
   "outputs": [],
   "source": [],
   "metadata": {
    "collapsed": false,
    "pycharm": {
     "name": "#%%\n"
    }
   }
  }
 ],
 "metadata": {
  "kernelspec": {
   "name": "python3",
   "language": "python",
   "display_name": "Python 3 (ipykernel)"
  },
  "language_info": {
   "codemirror_mode": {
    "name": "ipython",
    "version": 2
   },
   "file_extension": ".py",
   "mimetype": "text/x-python",
   "name": "python",
   "nbconvert_exporter": "python",
   "pygments_lexer": "ipython2",
   "version": "2.7.6"
  }
 },
 "nbformat": 4,
 "nbformat_minor": 0
}