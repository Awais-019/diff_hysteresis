{
 "cells": [
  {
   "cell_type": "code",
   "execution_count": null,
   "metadata": {},
   "outputs": [],
   "source": [
    "import numpy as np\n",
    "import pandas as pd\n",
    "import matplotlib.pyplot as plt\n",
    "import torch\n",
    "\n",
    "import fit\n",
    "import hysteresis\n",
    "import synthetic\n",
    "import utils"
   ]
  },
  {
   "cell_type": "code",
   "execution_count": null,
   "metadata": {},
   "outputs": [],
   "source": [
    "def main(dataset_generator):\n",
    "    n_grid = 50\n",
    "\n",
    "    h_max = 0.5\n",
    "    h_min = -0.25\n",
    "    b_sat = 1.0\n",
    "\n",
    "    # get synthetic training h_data\n",
    "    h, m = dataset_generator(25, n_grid, h_max, b_sat)\n",
    "\n",
    "    H = hysteresis.Hysteresis(h, h_min, h_max, b_sat, n_grid)\n",
    "\n",
    "    # dummy predict\n",
    "    m_pred = H.predict_magnetization().detach()\n",
    "\n",
    "    fig, ax = plt.subplots()\n",
    "    ax.plot(h, m_pred)\n",
    "    ax.plot(h, m.detach(), 'o')\n",
    "\n",
    "    # optimize\n",
    "    l = train(H, m, 2000)\n",
    "    m_star = H.predict_magnetization().detach()\n",
    "\n",
    "    ax.plot(h, m_star)\n",
    "\n",
    "    fig2, ax2 = plt.subplots()\n",
    "    ax2.plot(l.detach())\n",
    "\n",
    "    xx, yy = H.get_mesh()\n",
    "    dens = H.get_density_matrix().detach()\n",
    "\n",
    "    fig3, ax3 = plt.subplots()\n",
    "    c = ax3.pcolor(xx, yy, dens)\n",
    "    fig3.colorbar(c)"
   ]
  }
 ],
 "metadata": {
  "kernelspec": {
   "display_name": "Python 3",
   "language": "python",
   "name": "python3"
  },
  "language_info": {
   "codemirror_mode": {
    "name": "ipython",
    "version": 3
   },
   "file_extension": ".py",
   "mimetype": "text/x-python",
   "name": "python",
   "nbconvert_exporter": "python",
   "pygments_lexer": "ipython3",
   "version": "3.8.3"
  }
 },
 "nbformat": 4,
 "nbformat_minor": 4
}
