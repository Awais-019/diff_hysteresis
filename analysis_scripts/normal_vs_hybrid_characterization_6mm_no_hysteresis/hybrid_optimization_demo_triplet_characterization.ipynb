{
 "cells": [
  {
   "cell_type": "code",
   "execution_count": 1,
   "metadata": {
    "collapsed": true
   },
   "outputs": [],
   "source": [
    "from copy import deepcopy\n",
    "\n",
    "import matplotlib.pyplot as plt\n",
    "import torch\n",
    "from botorch.acquisition import UpperConfidenceBound\n",
    "from botorch.optim import optimize_acqf\n",
    "\n",
    "from hysteresis.base import TorchHysteresis\n",
    "from hysteresis.hybrid import HybridGP\n",
    "from torchAccelerator.first_order import TorchDrift\n",
    "from torchAccelerator.hysteresis import HysteresisAccelerator, HysteresisQuad\n",
    "from botorch.models.transforms.input import Normalize\n",
    "\n",
    "def density_function(mesh_pts):\n",
    "    x = mesh_pts[:, 0]\n",
    "    y = mesh_pts[:, 1]\n",
    "    return torch.exp(-(y - x) / 0.5)\n",
    "\n",
    "def objective(R):\n",
    "    #return (torch.sqrt(R[0,0]) - 2.0e-3)**2 + (torch.sqrt(R[2,2]) - 2.0e-3)**2\n",
    "    return torch.log(torch.sqrt(\n",
    "        (torch.sqrt(R[0,0]) - 6e-3)**2 +\n",
    "        (torch.sqrt(R[2,2]) - 6e-3)**2)\n",
    "    )\n",
    "\n",
    "\n",
    "def get_best(input):\n",
    "    result = torch.empty((len(input), len(input[0])-1))\n",
    "    for ii in range(len(input)):\n",
    "        for jj in range(1, len(input[0])):\n",
    "            result[ii][jj-1] = torch.min(input[ii][:jj])\n",
    "    return result\n",
    "\n",
    "def get_model(train_X, train_Y, use_hybrid = False, h_models = None):\n",
    "    if use_hybrid:\n",
    "        gpmodel = HybridGP(train_X.clone().detach(),\n",
    "                           train_Y.clone().detach(), h_models)\n",
    "        #print(gpmodel.gp.train_inputs)\n",
    "    else:\n",
    "        b = torch.cat(\n",
    "                (\n",
    "                    torch.min(train_X, dim=0)[0].unsqueeze(1),\n",
    "                    torch.max(train_X, dim=0)[0].unsqueeze(1),\n",
    "                ),\n",
    "                dim=1,\n",
    "            ).T\n",
    "\n",
    "        norm_x = Normalize(3, b)\n",
    "\n",
    "        std_trans = Standardize(1)\n",
    "\n",
    "        gpmodel = SingleTaskGP(\n",
    "            train_X.clone().detach(),\n",
    "            train_Y.clone().detach(),\n",
    "            input_transform=norm_x,\n",
    "            outcome_transform=std_trans\n",
    "        )\n",
    "        mll = ExactMarginalLogLikelihood(gpmodel.likelihood, gpmodel)\n",
    "        fit_gpytorch_model(mll)\n",
    "        #print(gpmodel.train_inputs)\n",
    "    return gpmodel"
   ]
  },
  {
   "cell_type": "code",
   "execution_count": 2,
   "outputs": [],
   "source": [
    "from gpytorch.utils.errors import NotPSDError\n",
    "from botorch import fit_gpytorch_model\n",
    "from gpytorch import ExactMarginalLogLikelihood\n",
    "from botorch.models import SingleTaskGP\n",
    "from botorch.models.transforms import Standardize\n",
    "from tqdm.notebook import trange\n",
    "\n",
    "\n",
    "def optimize(\n",
    "        accelerator_model,\n",
    "        initial_beam_matrix,\n",
    "        h_models,\n",
    "        steps=50,\n",
    "        use_hybrid = True\n",
    "):\n",
    "    iterations = steps\n",
    "\n",
    "    # initialize with a couple of points\n",
    "    train_X = torch.ones((3, 3)) * 0.25\n",
    "    train_X[0] = train_X[0] * 0.0\n",
    "    train_X[2] = torch.tensor((0.15,-0.36, 0.36))\n",
    "    train_Y = torch.empty((3, 1))\n",
    "\n",
    "    for j in range(3):\n",
    "        accelerator_model.apply_fields({'q1': train_X[j, 0],\n",
    "                                        'q2': train_X[j, 1],\n",
    "                                        'q3': train_X[j, 2],})\n",
    "\n",
    "        train_Y[j] = objective(\n",
    "            accelerator_model.forward(initial_beam_matrix)\n",
    "        )\n",
    "\n",
    "    #print(train_X)\n",
    "    #print(train_Y)\n",
    "\n",
    "    gpmodel = get_model(train_X, train_Y, use_hybrid, h_models)\n",
    "\n",
    "    for i in range(iterations):\n",
    "        UCB = UpperConfidenceBound(gpmodel, beta=2.0, maximize=False)\n",
    "\n",
    "        bounds = torch.stack([-1.0 * torch.ones(3), torch.ones(3)])\n",
    "        candidate, acq_value = optimize_acqf(\n",
    "            UCB,\n",
    "            bounds=bounds,\n",
    "            q=1,\n",
    "            num_restarts=5,\n",
    "            raw_samples=20,\n",
    "        )\n",
    "        train_X = torch.cat((train_X, candidate))\n",
    "\n",
    "        # apply candidate\n",
    "        accelerator_model.apply_fields({'q1': candidate[0,0],\n",
    "                                        'q2': candidate[0,1],\n",
    "                                        'q3': candidate[0,2]})\n",
    "\n",
    "        # make next measurement\n",
    "        bs = objective(\n",
    "            accelerator_model.forward(initial_beam_matrix)\n",
    "        ).reshape(1, 1)\n",
    "        train_Y = torch.cat((train_Y.clone(), bs.clone()))\n",
    "\n",
    "        #print(torch.cat((candidate, bs), dim=1))\n",
    "\n",
    "\n",
    "        # train new model\n",
    "        try:\n",
    "            gpmodel = get_model(train_X, train_Y, use_hybrid, h_models)\n",
    "        except NotPSDError:\n",
    "            print('handling training issues')\n",
    "\n",
    "    return train_X, train_Y, accelerator_model, gpmodel"
   ],
   "metadata": {
    "collapsed": false,
    "pycharm": {
     "name": "#%%\n"
    }
   }
  },
  {
   "cell_type": "code",
   "execution_count": 3,
   "outputs": [
    {
     "data": {
      "text/plain": "[<matplotlib.lines.Line2D at 0x2557ab09910>]"
     },
     "execution_count": 3,
     "metadata": {},
     "output_type": "execute_result"
    },
    {
     "data": {
      "text/plain": "<Figure size 432x288 with 1 Axes>",
      "image/png": "[encoded data removed]"
     },
     "metadata": {
      "needs_background": "light"
     },
     "output_type": "display_data"
    }
   ],
   "source": [
    "# hysteresis model\n",
    "H = TorchHysteresis(mesh_scale=0.1, trainable=False)\n",
    "dens = density_function(H.mesh_points)\n",
    "H.h_min = -1.0\n",
    "H.hysterion_density = dens\n",
    "H.scale = torch.tensor(500.0)#*14.0)\n",
    "\n",
    "test_H = deepcopy(H)\n",
    "test_applied_fields = torch.cat(\n",
    "    (torch.linspace(-1,1,11) , torch.flipud(torch.linspace(-1,1,11)))\n",
    ")\n",
    "test_H.applied_fields = test_applied_fields\n",
    "with torch.no_grad():\n",
    "    M = test_H.predict_magnetization_from_applied_fields()\n",
    "\n",
    "fig,ax = plt.subplots()\n",
    "ax.plot(test_applied_fields, M)"
   ],
   "metadata": {
    "collapsed": false,
    "pycharm": {
     "name": "#%%\n"
    }
   }
  },
  {
   "cell_type": "code",
   "execution_count": 4,
   "outputs": [],
   "source": [
    "# accelerator model\n",
    "hmodels = [deepcopy(H), deepcopy(H), deepcopy(H)]\n",
    "\n",
    "# define quadrupoles\n",
    "q1 = HysteresisQuad(\"q1\", torch.tensor(0.01), hmodels[0])\n",
    "d1 = TorchDrift(\"d1\", torch.tensor(1.0))\n",
    "d2 = TorchDrift(\"d2\", torch.tensor(1.0))\n",
    "q2 = HysteresisQuad(\"q2\", torch.tensor(0.01), hmodels[1])\n",
    "d3 = TorchDrift(\"d3\", torch.tensor(1.0))\n",
    "q3 = HysteresisQuad(\"q3\", torch.tensor(0.01), hmodels[2])\n",
    "\n",
    "HA = HysteresisAccelerator([q1, d1, q2, d2, q3, d3])\n",
    "\n",
    "init_beam_matrix = torch.eye(6) * 1.0e-8\n",
    "\n",
    "# set x_rms beam size to 1 mm and rms divergence to 0.1 mrad\n",
    "init_beam_matrix[0, 0] = 5.0e-3 ** 2\n",
    "init_beam_matrix[1, 1] = 1.0e-4 ** 2\n",
    "init_beam_matrix[2, 2] = 5.0e-3 ** 2\n",
    "init_beam_matrix[3, 3] = 1.0e-4 ** 2\n",
    "R = init_beam_matrix"
   ],
   "metadata": {
    "collapsed": false,
    "pycharm": {
     "name": "#%%\n"
    }
   }
  },
  {
   "cell_type": "code",
   "execution_count": 5,
   "outputs": [
    {
     "data": {
      "text/plain": "  0%|          | 0/25 [00:00<?, ?it/s]",
      "application/vnd.jupyter.widget-view+json": {
       "version_major": 2,
       "version_minor": 0,
       "model_id": "c703e88f9cfa4a0b9762983948e65439"
      }
     },
     "metadata": {},
     "output_type": "display_data"
    },
    {
     "name": "stdout",
     "output_type": "stream",
     "text": [
      "handling training issues\n",
      "handling training issues\n",
      "handling training issues\n",
      "handling training issues\n",
      "handling training issues\n",
      "handling training issues\n",
      "handling training issues\n",
      "handling training issues\n"
     ]
    },
    {
     "data": {
      "text/plain": "  0%|          | 0/25 [00:00<?, ?it/s]",
      "application/vnd.jupyter.widget-view+json": {
       "version_major": 2,
       "version_minor": 0,
       "model_id": "5c0c77924eea493ab1f3ccc5da1677a6"
      }
     },
     "metadata": {},
     "output_type": "display_data"
    }
   ],
   "source": [
    "# run optimization trials\n",
    "X = []\n",
    "Y = []\n",
    "for ele in [False, True]:\n",
    "    trace_x = []\n",
    "    trace_y = []\n",
    "    for k in trange(25):\n",
    "        p, l, accelerator_model, gp_hybrid = optimize(\n",
    "            deepcopy(HA),\n",
    "            R,\n",
    "            [deepcopy(H), deepcopy(H), deepcopy(H)],\n",
    "            steps=100,\n",
    "            use_hybrid=ele\n",
    "        )\n",
    "        trace_x += [p.clone()]\n",
    "        trace_y += [l.squeeze().detach().clone()]\n",
    "\n",
    "    X += [torch.vstack([ele.unsqueeze(0) for ele in trace_x])]\n",
    "    Y += [torch.vstack([ele.unsqueeze(0) for ele in trace_y])]\n",
    "\n",
    "X = torch.cat([ele.unsqueeze(0) for ele in X])\n",
    "Y = torch.cat([ele.unsqueeze(0) for ele in Y])\n",
    "\n",
    "# plot the optimizer trace"
   ],
   "metadata": {
    "collapsed": false,
    "pycharm": {
     "name": "#%%\n"
    }
   }
  },
  {
   "cell_type": "code",
   "execution_count": 6,
   "outputs": [],
   "source": [
    "torch.save(X, 'normal_vs_hybrid_x.pt')\n",
    "torch.save(Y, 'normal_vs_hybrid_y.pt')"
   ],
   "metadata": {
    "collapsed": false,
    "pycharm": {
     "name": "#%%\n"
    }
   }
  },
  {
   "cell_type": "code",
   "execution_count": 11,
   "outputs": [
    {
     "data": {
      "text/plain": "<Figure size 432x288 with 1 Axes>",
      "image/png": "[encoded data removed]"
     },
     "metadata": {
      "needs_background": "light"
     },
     "output_type": "display_data"
    }
   ],
   "source": [
    "fig2, ax2 = plt.subplots()\n",
    "\n",
    "c = ['C0','C1']\n",
    "labels = ['Normal','Hybrid']\n",
    "for idx, ele in enumerate(Y):\n",
    "    best = get_best(ele)\n",
    "    mean = torch.mean(best, dim=0)\n",
    "    u = torch.quantile(best, 0.9, dim=0)\n",
    "    l = torch.quantile(best, 0.1, dim=0)\n",
    "    ax2.plot(mean, c[idx], label=labels[idx])\n",
    "    ax2.fill_between(range(len(mean)), l, u, fc=c[idx], alpha=0.25)\n",
    "\n",
    "    #for k in best:\n",
    "    #    ax2.plot(k,c=c[idx],alpha=0.25)\n",
    "ax2.axvline(2)\n",
    "ax2.set_xlabel('Iteration')\n",
    "ax2.set_ylabel('log(Objective)')\n",
    "ax2.legend()\n",
    "fig2.savefig('normal_vs_hybrid.png')"
   ],
   "metadata": {
    "collapsed": false,
    "pycharm": {
     "name": "#%%\n"
    }
   }
  },
  {
   "cell_type": "code",
   "execution_count": 8,
   "outputs": [
    {
     "data": {
      "text/plain": "[<matplotlib.lines.Line2D at 0x255066da670>]"
     },
     "execution_count": 8,
     "metadata": {},
     "output_type": "execute_result"
    },
    {
     "data": {
      "text/plain": "<Figure size 432x288 with 1 Axes>",
      "image/png": "[encoded data removed]"
     },
     "metadata": {
      "needs_background": "light"
     },
     "output_type": "display_data"
    }
   ],
   "source": [
    "fig,ax = plt.subplots()\n",
    "best = get_best(l.reshape(1,-1))\n",
    "ax.plot(best.detach().flatten())"
   ],
   "metadata": {
    "collapsed": false,
    "pycharm": {
     "name": "#%%\n"
    }
   }
  },
  {
   "cell_type": "code",
   "execution_count": 9,
   "outputs": [
    {
     "name": "stdout",
     "output_type": "stream",
     "text": [
      "tensor(-8.3388, grad_fn=<LogBackward>)\n",
      "tensor([-0.1351, -0.3042,  0.3972])\n"
     ]
    },
    {
     "data": {
      "text/plain": "<matplotlib.lines.Line2D at 0x25506590f40>"
     },
     "execution_count": 9,
     "metadata": {},
     "output_type": "execute_result"
    },
    {
     "data": {
      "text/plain": "<Figure size 432x288 with 1 Axes>",
      "image/png": "[encoded data removed]"
     },
     "metadata": {
      "needs_background": "light"
     },
     "output_type": "display_data"
    }
   ],
   "source": [
    "# plot beam size along beamline\n",
    "#accelerator_model.apply_fields(\n",
    "#    {\"q1\": torch.tensor(0.0),\"q2\": torch.tensor(0.0),\"q3\": torch.tensor(0.0),}\n",
    "#)\n",
    "beam_matrix = accelerator_model.forward(init_beam_matrix, full=False)\n",
    "print(objective(beam_matrix[-1]))\n",
    "print(p[-1])\n",
    "\n",
    "fig,ax = plt.subplots()\n",
    "ax.plot(torch.sqrt(beam_matrix[:, 0, 0]).detach())\n",
    "ax.plot(torch.sqrt(beam_matrix[:, 2, 2]).detach())\n",
    "\n",
    "ax.axhline(2.0e-3)\n"
   ],
   "metadata": {
    "collapsed": false,
    "pycharm": {
     "name": "#%%\n"
    }
   }
  },
  {
   "cell_type": "code",
   "execution_count": 10,
   "outputs": [
    {
     "name": "stdout",
     "output_type": "stream",
     "text": [
      "tensor([[-0.1167, -0.3037,  0.3985]])\n",
      "final setpoint:tensor([-0.1167, -0.3037,  0.3985])\n",
      "objective value : -8.406655311584473\n",
      "best candidate from optimization: tensor([ 0.0035, -0.3250,  0.0911])\n",
      "objective value : -10.197855949401855\n"
     ]
    },
    {
     "data": {
      "text/plain": "<matplotlib.lines.Line2D at 0x2550664f0d0>"
     },
     "execution_count": 10,
     "metadata": {},
     "output_type": "execute_result"
    },
    {
     "data": {
      "text/plain": "<Figure size 432x288 with 1 Axes>",
      "image/png": "[encoded data removed]"
     },
     "metadata": {
      "needs_background": "light"
     },
     "output_type": "display_data"
    }
   ],
   "source": [
    "# now use the Hybrid GP model to recover the best observed point by using the\n",
    "# posterior mean acquisition function\n",
    "\n",
    "acq = UpperConfidenceBound(gp_hybrid, beta = 0.01, maximize=False)\n",
    "\n",
    "bounds = torch.stack([-1.0 * torch.ones(3), torch.ones(3)])\n",
    "final_candidate, acq_value = optimize_acqf(\n",
    "    acq,\n",
    "    bounds=bounds,\n",
    "    q=1,\n",
    "    num_restarts=50,\n",
    "    raw_samples=1,\n",
    "    batch_initial_conditions=p.unsqueeze(1)\n",
    "\n",
    ")\n",
    "\n",
    "\n",
    "print(final_candidate)\n",
    "final_candidate = final_candidate.flatten()\n",
    "\n",
    "# apply final candidate to accelerator\n",
    "accelerator_model.apply_fields(\n",
    "    {\n",
    "        \"q1\": final_candidate[0],\n",
    "        \"q2\": final_candidate[1],\n",
    "        \"q3\": final_candidate[2]\n",
    "    }\n",
    ")\n",
    "\n",
    "\n",
    "\n",
    "# plot beam size along beamline\n",
    "beam_matrix = accelerator_model.forward(init_beam_matrix, full=False)\n",
    "\n",
    "print(f'final setpoint:{final_candidate}')\n",
    "print(f'objective value : {objective(beam_matrix[-1])}')\n",
    "best_candidate_from_optimization = p[torch.argmin(l)]\n",
    "print(f\"best candidate from optimization: {best_candidate_from_optimization}\")\n",
    "print(f'objective value : {torch.min(l)}')\n",
    "\n",
    "fig,ax = plt.subplots()\n",
    "ax.plot(torch.sqrt(beam_matrix[:, 0, 0]).detach())\n",
    "ax.plot(torch.sqrt(beam_matrix[:, 2, 2]).detach())\n",
    "\n",
    "ax.axhline(2.0e-3)\n"
   ],
   "metadata": {
    "collapsed": false,
    "pycharm": {
     "name": "#%%\n"
    }
   }
  },
  {
   "cell_type": "code",
   "execution_count": 10,
   "outputs": [],
   "source": [],
   "metadata": {
    "collapsed": false,
    "pycharm": {
     "name": "#%%\n"
    }
   }
  },
  {
   "cell_type": "code",
   "execution_count": 10,
   "outputs": [],
   "source": [],
   "metadata": {
    "collapsed": false,
    "pycharm": {
     "name": "#%%\n"
    }
   }
  }
 ],
 "metadata": {
  "kernelspec": {
   "name": "python3",
   "language": "python",
   "display_name": "Python 3 (ipykernel)"
  },
  "language_info": {
   "codemirror_mode": {
    "name": "ipython",
    "version": 2
   },
   "file_extension": ".py",
   "mimetype": "text/x-python",
   "name": "python",
   "nbconvert_exporter": "python",
   "pygments_lexer": "ipython2",
   "version": "2.7.6"
  }
 },
 "nbformat": 4,
 "nbformat_minor": 0
}