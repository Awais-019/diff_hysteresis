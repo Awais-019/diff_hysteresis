{
 "cells": [
  {
   "cell_type": "code",
   "execution_count": 15,
   "metadata": {
    "collapsed": true
   },
   "outputs": [],
   "source": [
    "from copy import deepcopy\n",
    "\n",
    "import matplotlib.pyplot as plt\n",
    "import torch\n",
    "from botorch.acquisition import UpperConfidenceBound\n",
    "from botorch.optim import optimize_acqf\n",
    "\n",
    "from hysteresis.base import TorchHysteresis\n",
    "from hysteresis.hybrid import HybridGP\n",
    "from torchAccelerator.first_order import TorchDrift\n",
    "from torchAccelerator.hysteresis import HysteresisAccelerator, HysteresisQuad\n",
    "\n",
    "\n",
    "def density_function(mesh_pts):\n",
    "    x = mesh_pts[:, 0]\n",
    "    y = mesh_pts[:, 1]\n",
    "    return torch.exp(-(y - x) / 0.5)\n",
    "\n",
    "def objective(R):\n",
    "    #return (torch.sqrt(R[0,0]) - 2.0e-3)**2 + (torch.sqrt(R[2,2]) - 2.0e-3)**2\n",
    "    return torch.log(torch.sqrt(\n",
    "        (torch.sqrt(R[0,0]) - 2e-3)**2 +\n",
    "        (torch.sqrt(R[2,2]) - 2e-3)**2)\n",
    "    )\n",
    "\n",
    "\n",
    "def get_best(input):\n",
    "    result = torch.empty((len(input), len(input[0])-1))\n",
    "    for ii in range(len(input)):\n",
    "        for jj in range(1, len(input[0])):\n",
    "            result[ii][jj-1] = torch.min(input[ii][:jj])\n",
    "    return result"
   ]
  },
  {
   "cell_type": "code",
   "execution_count": 16,
   "outputs": [],
   "source": [
    "from tqdm.notebook import trange\n",
    "\n",
    "\n",
    "def optimize(\n",
    "        accelerator_model,\n",
    "        initial_beam_matrix,\n",
    "        h_models,\n",
    "        steps=50,\n",
    "):\n",
    "    iterations = steps\n",
    "\n",
    "    # initialize with a couple of points\n",
    "    train_X = torch.ones((3, 3)) * 0.25\n",
    "    train_X[0] = train_X[0] * 0.0\n",
    "    train_X[2] = torch.tensor((0.3,-0.6, 0.3))\n",
    "    train_Y = torch.empty((3, 1))\n",
    "\n",
    "    for j in range(3):\n",
    "        accelerator_model.apply_fields({'q1': train_X[j, 0],\n",
    "                                        'q2': train_X[j, 1],\n",
    "                                        'q3': train_X[j, 2],})\n",
    "\n",
    "        train_Y[j] = objective(\n",
    "            accelerator_model.forward(initial_beam_matrix)\n",
    "        )\n",
    "\n",
    "    print(train_X)\n",
    "    print(train_Y)\n",
    "\n",
    "    gpmodel = HybridGP(train_X.clone().detach(),\n",
    "                       train_Y.clone().detach(), h_models)\n",
    "\n",
    "    for i in trange(iterations):\n",
    "        UCB = UpperConfidenceBound(gpmodel, beta=2.0, maximize=False)\n",
    "\n",
    "        bounds = torch.stack([-1.0 * torch.ones(3), torch.ones(3)])\n",
    "        candidate, acq_value = optimize_acqf(\n",
    "            UCB,\n",
    "            bounds=bounds,\n",
    "            q=1,\n",
    "            num_restarts=5,\n",
    "            raw_samples=20,\n",
    "        )\n",
    "        train_X = torch.cat((train_X, candidate))\n",
    "\n",
    "        # apply candidate\n",
    "        accelerator_model.apply_fields({'q1': candidate[0,0],\n",
    "                                        'q2': candidate[0,1],\n",
    "                                        'q3': candidate[0,2]})\n",
    "\n",
    "        # make next measurement\n",
    "        bs = objective(\n",
    "            accelerator_model.forward(initial_beam_matrix)\n",
    "        ).reshape(1, 1)\n",
    "        train_Y = torch.cat((train_Y.clone(), bs.clone()))\n",
    "\n",
    "        print(torch.cat((candidate, bs), dim=1))\n",
    "\n",
    "\n",
    "        # train new model\n",
    "        gpmodel = HybridGP(\n",
    "            train_X.clone().detach(),\n",
    "            train_Y.clone().detach(), h_models\n",
    "        )\n",
    "\n",
    "    return train_X, train_Y, accelerator_model, gpmodel"
   ],
   "metadata": {
    "collapsed": false,
    "pycharm": {
     "name": "#%%\n"
    }
   }
  },
  {
   "cell_type": "code",
   "execution_count": 17,
   "outputs": [
    {
     "data": {
      "text/plain": "[<matplotlib.lines.Line2D at 0x2a58dcfad30>]"
     },
     "execution_count": 17,
     "metadata": {},
     "output_type": "execute_result"
    },
    {
     "data": {
      "text/plain": "<Figure size 432x288 with 1 Axes>",
      "image/png": "[encoded data removed]"
     },
     "metadata": {
      "needs_background": "light"
     },
     "output_type": "display_data"
    }
   ],
   "source": [
    "# hysteresis model\n",
    "H = TorchHysteresis(mesh_scale=0.1, trainable=False)\n",
    "dens = density_function(H.mesh_points)\n",
    "H.h_min = -1.0\n",
    "H.hysterion_density = dens\n",
    "H.scale = torch.tensor(500.0)\n",
    "\n",
    "test_H = deepcopy(H)\n",
    "test_applied_fields = torch.cat(\n",
    "    (torch.linspace(-1,1,11) , torch.flipud(torch.linspace(-1,1,11)))\n",
    ")\n",
    "test_H.applied_fields = test_applied_fields\n",
    "with torch.no_grad():\n",
    "    M = test_H.predict_magnetization_from_applied_fields()\n",
    "\n",
    "fig,ax = plt.subplots()\n",
    "ax.plot(test_applied_fields, M)"
   ],
   "metadata": {
    "collapsed": false,
    "pycharm": {
     "name": "#%%\n"
    }
   }
  },
  {
   "cell_type": "code",
   "execution_count": 18,
   "outputs": [
    {
     "name": "stdout",
     "output_type": "stream",
     "text": [
      "tensor([[ 0.0000,  0.0000,  0.0000],\n",
      "        [ 0.2500,  0.2500,  0.2500],\n",
      "        [ 0.3000, -0.6000,  0.3000]])\n",
      "tensor([[-3.3900],\n",
      "        [-3.8605],\n",
      "        [-3.8800]], grad_fn=<CopySlices>)\n"
     ]
    },
    {
     "data": {
      "text/plain": "  0%|          | 0/100 [00:00<?, ?it/s]",
      "application/vnd.jupyter.widget-view+json": {
       "version_major": 2,
       "version_minor": 0,
       "model_id": "d17c3c9b210e40a298535ceec0847baf"
      }
     },
     "metadata": {},
     "output_type": "display_data"
    },
    {
     "name": "stdout",
     "output_type": "stream",
     "text": [
      "tensor([[ 0.2245, -0.0783,  0.2244, -6.4575]], grad_fn=<CatBackward>)\n",
      "tensor([[ 0.3346, -0.0460,  0.3345, -4.9031]], grad_fn=<CatBackward>)\n",
      "tensor([[ 0.0879, -0.1998,  0.0882, -6.2894]], grad_fn=<CatBackward>)\n",
      "tensor([[ 0.2927, -0.2072,  0.0527, -7.3174]], grad_fn=<CatBackward>)\n",
      "tensor([[ 0.3314, -0.0753, -0.0221, -5.6913]], grad_fn=<CatBackward>)\n",
      "tensor([[-0.8161,  0.9903,  0.9644, -1.1192]], grad_fn=<CatBackward>)\n",
      "tensor([[ 0.2190, -0.4124, -0.1048, -5.0789]], grad_fn=<CatBackward>)\n",
      "tensor([[ 0.4405, -0.2849, -0.1241, -4.2959]], grad_fn=<CatBackward>)\n",
      "tensor([[ 0.0554, -0.1130,  0.0153, -6.0490]], grad_fn=<CatBackward>)\n",
      "tensor([[-0.4769, -0.1638, -0.4378, -2.5474]], grad_fn=<CatBackward>)\n",
      "tensor([[ 0.2069, -0.2611,  0.2834, -7.3508]], grad_fn=<CatBackward>)\n",
      "tensor([[-0.0257, -0.2611,  0.3994, -7.6037]], grad_fn=<CatBackward>)\n",
      "tensor([[-0.1451, -0.2800,  0.5300, -5.1789]], grad_fn=<CatBackward>)\n",
      "tensor([[ 0.0802, -0.1455,  0.1222, -5.8045]], grad_fn=<CatBackward>)\n",
      "tensor([[ 0.2080, -0.3255,  0.4125, -6.0852]], grad_fn=<CatBackward>)\n",
      "tensor([[ 0.0812, -0.2744,  0.1571, -6.8175]], grad_fn=<CatBackward>)\n",
      "tensor([[ 0.1348, -0.1368,  0.2249, -6.6936]], grad_fn=<CatBackward>)\n",
      "tensor([[ 0.0674, -0.3421,  0.1589, -6.5291]], grad_fn=<CatBackward>)\n",
      "tensor([[ 0.1327, -0.1265,  0.2002, -6.6383]], grad_fn=<CatBackward>)\n",
      "tensor([[ 0.0998, -0.3078,  0.1426, -6.6301]], grad_fn=<CatBackward>)\n",
      "tensor([[ 0.1268, -0.1338,  0.1908, -7.0827]], grad_fn=<CatBackward>)\n",
      "tensor([[ 0.1136, -0.1115,  0.2732, -6.1089]], grad_fn=<CatBackward>)\n",
      "tensor([[ 0.0701, -0.3295,  0.1344, -6.4557]], grad_fn=<CatBackward>)\n",
      "tensor([[ 0.1300, -0.1844,  0.0966, -6.3125]], grad_fn=<CatBackward>)\n",
      "tensor([[ 0.1643, -0.3170,  0.2674, -6.7684]], grad_fn=<CatBackward>)\n",
      "tensor([[ 0.1628, -0.3038,  0.2590, -6.7229]], grad_fn=<CatBackward>)\n",
      "tensor([[ 0.0509, -0.3280,  0.3083, -7.2618]], grad_fn=<CatBackward>)\n",
      "tensor([[ 0.0135, -0.3679,  0.3378, -5.8180]], grad_fn=<CatBackward>)\n",
      "tensor([[ 0.1907, -0.1698,  0.1526, -8.0393]], grad_fn=<CatBackward>)\n",
      "tensor([[ 0.1907, -0.1482,  0.3006, -6.1938]], grad_fn=<CatBackward>)\n",
      "tensor([[ 0.1451, -0.2036,  0.0952, -7.5486]], grad_fn=<CatBackward>)\n",
      "tensor([[ 0.1327, -0.1661,  0.0830, -7.1809]], grad_fn=<CatBackward>)\n",
      "tensor([[ 0.2077, -0.2074,  0.1122, -7.9239]], grad_fn=<CatBackward>)\n",
      "tensor([[ 1.0393e-01, -2.4879e-01, -1.9939e-03, -5.6900e+00]],\n",
      "       grad_fn=<CatBackward>)\n",
      "tensor([[ 0.2100, -0.1560,  0.2486, -6.6350]], grad_fn=<CatBackward>)\n",
      "tensor([[ 0.2100, -0.1605,  0.2445, -6.6570]], grad_fn=<CatBackward>)\n",
      "tensor([[ 0.2100, -0.2213,  0.2426, -7.2687]], grad_fn=<CatBackward>)\n",
      "tensor([[ 0.2135, -0.2643,  0.2223, -7.4530]], grad_fn=<CatBackward>)\n",
      "tensor([[ 0.2228, -0.2877,  0.1919, -6.8840]], grad_fn=<CatBackward>)\n",
      "tensor([[ 0.2228, -0.2555,  0.1857, -7.0616]], grad_fn=<CatBackward>)\n",
      "tensor([[ 0.2228, -0.2571,  0.1735, -7.0610]], grad_fn=<CatBackward>)\n",
      "tensor([[ 0.2228, -0.2761,  0.1623, -6.9759]], grad_fn=<CatBackward>)\n",
      "tensor([[ 0.2228, -0.2748,  0.1625, -6.9764]], grad_fn=<CatBackward>)\n",
      "tensor([[ 0.2185, -0.1640,  0.1456, -6.5317]], grad_fn=<CatBackward>)\n",
      "tensor([[ 0.0251, -0.2467,  0.3652, -6.3858]], grad_fn=<CatBackward>)\n",
      "tensor([[ 0.2229, -0.3096,  0.1147, -6.3731]], grad_fn=<CatBackward>)\n",
      "tensor([[ 0.1603, -0.1543,  0.1153, -6.6904]], grad_fn=<CatBackward>)\n",
      "tensor([[ 0.1603, -0.2361,  0.1623, -7.8164]], grad_fn=<CatBackward>)\n",
      "tensor([[ 0.1727, -0.1915,  0.1394, -7.2665]], grad_fn=<CatBackward>)\n",
      "tensor([[ 0.1091, -0.2430,  0.2489, -7.5505]], grad_fn=<CatBackward>)\n",
      "tensor([[ 0.1041, -0.2428,  0.2551, -7.4389]], grad_fn=<CatBackward>)\n",
      "tensor([[ 0.1087, -0.2374,  0.2422, -7.4569]], grad_fn=<CatBackward>)\n",
      "tensor([[ 0.0969, -0.2374,  0.2569, -7.2433]], grad_fn=<CatBackward>)\n",
      "tensor([[ 0.0945, -0.2374,  0.2426, -7.1685]], grad_fn=<CatBackward>)\n",
      "tensor([[ 0.1337, -0.2374,  0.2133, -7.4149]], grad_fn=<CatBackward>)\n",
      "tensor([[ 0.1244, -0.2374,  0.2448, -7.4358]], grad_fn=<CatBackward>)\n",
      "tensor([[ 0.1072, -0.2335,  0.2448, -7.3105]], grad_fn=<CatBackward>)\n",
      "tensor([[ 0.3062, -0.3579, -0.0408, -6.4542]], grad_fn=<CatBackward>)\n",
      "tensor([[ 0.0315, -0.1858,  0.2933, -7.1331]], grad_fn=<CatBackward>)\n",
      "tensor([[ 0.0244, -0.1858,  0.2940, -6.8678]], grad_fn=<CatBackward>)\n",
      "tensor([[ 0.0901, -0.1858,  0.2930, -7.4828]], grad_fn=<CatBackward>)\n",
      "tensor([[ 0.0988, -0.1858,  0.2625, -7.6289]], grad_fn=<CatBackward>)\n",
      "tensor([[ 0.0913, -0.1858,  0.2630, -7.6023]], grad_fn=<CatBackward>)\n",
      "tensor([[-0.0588, -0.2715,  0.3627, -6.6245]], grad_fn=<CatBackward>)\n",
      "tensor([[ 0.1006, -0.3192,  0.4141, -6.6817]], grad_fn=<CatBackward>)\n",
      "tensor([[ 0.1595, -0.1886,  0.1637, -7.6084]], grad_fn=<CatBackward>)\n",
      "tensor([[-0.0671, -0.1737,  0.4317, -6.6520]], grad_fn=<CatBackward>)\n",
      "tensor([[ 0.1640, -0.2231,  0.1605, -7.6150]], grad_fn=<CatBackward>)\n",
      "tensor([[ 0.1600, -0.2221,  0.1705, -7.6123]], grad_fn=<CatBackward>)\n",
      "tensor([[ 0.0986, -0.1632,  0.1621, -7.9699]], grad_fn=<CatBackward>)\n",
      "tensor([[ 0.1623, -0.2336,  0.1621, -7.6461]], grad_fn=<CatBackward>)\n",
      "tensor([[ 0.2732, -0.3128, -0.0380, -6.3167]], grad_fn=<CatBackward>)\n",
      "tensor([[ 0.0639, -0.1917,  0.3028, -7.3147]], grad_fn=<CatBackward>)\n",
      "tensor([[ 0.2930, -0.3256, -0.1079, -6.4803]], grad_fn=<CatBackward>)\n",
      "tensor([[ 0.0732, -0.1863,  0.3065, -6.8846]], grad_fn=<CatBackward>)\n",
      "tensor([[ 0.0472, -0.1996,  0.3065, -7.6962]], grad_fn=<CatBackward>)\n",
      "tensor([[ 0.0500, -0.2063,  0.3065, -7.6239]], grad_fn=<CatBackward>)\n",
      "tensor([[-0.0524, -0.1771,  0.3532, -6.7080]], grad_fn=<CatBackward>)\n",
      "tensor([[ 0.1713, -0.1549,  0.0434, -7.4494]], grad_fn=<CatBackward>)\n",
      "tensor([[ 0.1196, -0.1614,  0.1868, -7.7137]], grad_fn=<CatBackward>)\n",
      "tensor([[-0.0841, -0.2400,  0.3683, -6.4194]], grad_fn=<CatBackward>)\n",
      "tensor([[ 0.2055, -0.2006,  0.0316, -8.4326]], grad_fn=<CatBackward>)\n",
      "tensor([[ 1.3596e-01, -1.3804e-01, -6.2964e-03, -7.2517e+00]],\n",
      "       grad_fn=<CatBackward>)\n",
      "tensor([[-0.0570,  0.6450,  0.9920, -2.4724]], grad_fn=<CatBackward>)\n",
      "tensor([[ 0.0868, -0.3009,  0.0576, -6.6642]], grad_fn=<CatBackward>)\n",
      "tensor([[ 0.1003, -0.2157,  0.0576, -6.8470]], grad_fn=<CatBackward>)\n",
      "tensor([[ 0.0215, -0.3527,  0.2904, -9.5568]], grad_fn=<CatBackward>)\n",
      "tensor([[ 0.0215, -0.2905,  0.3510, -6.4006]], grad_fn=<CatBackward>)\n",
      "tensor([[ 0.1115, -0.2505,  0.1216, -6.4281]], grad_fn=<CatBackward>)\n",
      "tensor([[ 0.1771, -0.2295,  0.0248, -9.0873]], grad_fn=<CatBackward>)\n",
      "tensor([[ 0.1605, -0.2295,  0.0092, -7.5749]], grad_fn=<CatBackward>)\n",
      "tensor([[ 0.1552, -0.2378,  0.0290, -7.5085]], grad_fn=<CatBackward>)\n",
      "tensor([[ 0.1740, -0.2378,  0.0150, -7.7109]], grad_fn=<CatBackward>)\n",
      "tensor([[ 0.1801, -0.2346,  0.0150, -8.1569]], grad_fn=<CatBackward>)\n",
      "tensor([[ 1.8802e-01, -2.3214e-01,  1.8785e-03, -9.1176e+00]],\n",
      "       grad_fn=<CatBackward>)\n",
      "tensor([[ 0.1971, -0.2321, -0.0114, -9.2789]], grad_fn=<CatBackward>)\n",
      "tensor([[ 0.1319, -0.3818, -0.5274, -4.3523]], grad_fn=<CatBackward>)\n",
      "tensor([[ 0.0912, -0.5718,  0.7298, -3.7606]], grad_fn=<CatBackward>)\n",
      "tensor([[ 0.4988, -0.9921, -0.4157, -2.7216]], grad_fn=<CatBackward>)\n",
      "tensor([[-0.0729, -0.0717,  0.4075, -7.6121]], grad_fn=<CatBackward>)\n"
     ]
    }
   ],
   "source": [
    "# accelerator model\n",
    "hmodels = [deepcopy(H), deepcopy(H), deepcopy(H)]\n",
    "\n",
    "# define quadrupoles\n",
    "q1 = HysteresisQuad(\"q1\", torch.tensor(0.01), hmodels[0])\n",
    "d1 = TorchDrift(\"d1\", torch.tensor(1.0))\n",
    "d2 = TorchDrift(\"d2\", torch.tensor(1.0))\n",
    "q2 = HysteresisQuad(\"q2\", torch.tensor(0.01), hmodels[1])\n",
    "d3 = TorchDrift(\"d3\", torch.tensor(1.0))\n",
    "q3 = HysteresisQuad(\"q3\", torch.tensor(0.01), hmodels[2])\n",
    "\n",
    "HA = HysteresisAccelerator([q1, d1, q2, d2, q3, d3])\n",
    "\n",
    "init_beam_matrix = torch.eye(6) * 1.0e-8\n",
    "\n",
    "# set x_rms beam size to 1 mm and rms divergence to 0.1 mrad\n",
    "init_beam_matrix[0, 0] = 5.0e-3 ** 2\n",
    "init_beam_matrix[1, 1] = 1.0e-4 ** 2\n",
    "init_beam_matrix[2, 2] = 5.0e-3 ** 2\n",
    "init_beam_matrix[3, 3] = 1.0e-4 ** 2\n",
    "R = init_beam_matrix"
   ],
   "metadata": {
    "collapsed": false,
    "pycharm": {
     "name": "#%%\n"
    }
   }
  },
  {
   "cell_type": "code",
   "execution_count": null,
   "outputs": [],
   "source": [
    "# do optimization\n",
    "p, l, accelerator_model, gp_hybrid = optimize(\n",
    "    deepcopy(HA),\n",
    "    R,\n",
    "    [deepcopy(H), deepcopy(H), deepcopy(H)],\n",
    "    steps=100,\n",
    ")\n",
    "\n",
    "# plot the optimizer trace"
   ],
   "metadata": {
    "collapsed": false,
    "pycharm": {
     "name": "#%%\n"
    }
   }
  },
  {
   "cell_type": "code",
   "execution_count": 19,
   "outputs": [
    {
     "data": {
      "text/plain": "[<matplotlib.lines.Line2D at 0x2a58dd707f0>]"
     },
     "execution_count": 19,
     "metadata": {},
     "output_type": "execute_result"
    },
    {
     "data": {
      "text/plain": "<Figure size 432x288 with 1 Axes>",
      "image/png": "[encoded data removed]"
     },
     "metadata": {
      "needs_background": "light"
     },
     "output_type": "display_data"
    }
   ],
   "source": [
    "fig,ax = plt.subplots()\n",
    "best = get_best(l.reshape(1,-1))\n",
    "ax.plot(best.detach().flatten())"
   ],
   "metadata": {
    "collapsed": false,
    "pycharm": {
     "name": "#%%\n"
    }
   }
  },
  {
   "cell_type": "code",
   "execution_count": 20,
   "outputs": [
    {
     "name": "stdout",
     "output_type": "stream",
     "text": [
      "tensor(-7.6121, grad_fn=<LogBackward>)\n",
      "tensor([-0.0729, -0.0717,  0.4075])\n"
     ]
    },
    {
     "data": {
      "text/plain": "<matplotlib.lines.Line2D at 0x2a58da202e0>"
     },
     "execution_count": 20,
     "metadata": {},
     "output_type": "execute_result"
    },
    {
     "data": {
      "text/plain": "<Figure size 432x288 with 1 Axes>",
      "image/png": "[encoded data removed]"
     },
     "metadata": {
      "needs_background": "light"
     },
     "output_type": "display_data"
    }
   ],
   "source": [
    "# plot beam size along beamline\n",
    "#accelerator_model.apply_fields(\n",
    "#    {\"q1\": torch.tensor(0.0),\"q2\": torch.tensor(0.0),\"q3\": torch.tensor(0.0),}\n",
    "#)\n",
    "beam_matrix = accelerator_model.forward(init_beam_matrix, full=False)\n",
    "print(objective(beam_matrix[-1]))\n",
    "print(p[-1])\n",
    "\n",
    "fig,ax = plt.subplots()\n",
    "ax.plot(torch.sqrt(beam_matrix[:, 0, 0]).detach())\n",
    "ax.plot(torch.sqrt(beam_matrix[:, 2, 2]).detach())\n",
    "\n",
    "ax.axhline(2.0e-3)\n"
   ],
   "metadata": {
    "collapsed": false,
    "pycharm": {
     "name": "#%%\n"
    }
   }
  },
  {
   "cell_type": "code",
   "execution_count": 21,
   "outputs": [
    {
     "name": "stdout",
     "output_type": "stream",
     "text": [
      "tensor([[-0.0210, -0.0714,  0.3495]])\n",
      "final setpoint:tensor([-0.0210, -0.0714,  0.3495])\n",
      "objective value : -9.383929252624512\n",
      "best candidate from optimization: tensor([ 0.0215, -0.3527,  0.2904])\n",
      "objective value : -9.556832313537598\n"
     ]
    },
    {
     "data": {
      "text/plain": "<matplotlib.lines.Line2D at 0x2a58d7ff670>"
     },
     "execution_count": 21,
     "metadata": {},
     "output_type": "execute_result"
    },
    {
     "data": {
      "text/plain": "<Figure size 432x288 with 1 Axes>",
      "image/png": "[encoded data removed]"
     },
     "metadata": {
      "needs_background": "light"
     },
     "output_type": "display_data"
    }
   ],
   "source": [
    "# now use the Hybrid GP model to recover the best observed point by using the\n",
    "# posterior mean acquisition function\n",
    "\n",
    "acq = UpperConfidenceBound(gp_hybrid, beta = 0.01, maximize=False)\n",
    "\n",
    "bounds = torch.stack([-1.0 * torch.ones(3), torch.ones(3)])\n",
    "final_candidate, acq_value = optimize_acqf(\n",
    "    acq,\n",
    "    bounds=bounds,\n",
    "    q=1,\n",
    "    num_restarts=50,\n",
    "    raw_samples=1,\n",
    "    batch_initial_conditions=p.unsqueeze(1)\n",
    "\n",
    ")\n",
    "\n",
    "\n",
    "print(final_candidate)\n",
    "final_candidate = final_candidate.flatten()\n",
    "\n",
    "# apply final candidate to accelerator\n",
    "accelerator_model.apply_fields(\n",
    "    {\n",
    "        \"q1\": final_candidate[0],\n",
    "        \"q2\": final_candidate[1],\n",
    "        \"q3\": final_candidate[2]\n",
    "    }\n",
    ")\n",
    "\n",
    "\n",
    "\n",
    "# plot beam size along beamline\n",
    "beam_matrix = accelerator_model.forward(init_beam_matrix, full=False)\n",
    "\n",
    "print(f'final setpoint:{final_candidate}')\n",
    "print(f'objective value : {objective(beam_matrix[-1])}')\n",
    "best_candidate_from_optimization = p[torch.argmin(l)]\n",
    "print(f\"best candidate from optimization: {best_candidate_from_optimization}\")\n",
    "print(f'objective value : {torch.min(l)}')\n",
    "\n",
    "fig,ax = plt.subplots()\n",
    "ax.plot(torch.sqrt(beam_matrix[:, 0, 0]).detach())\n",
    "ax.plot(torch.sqrt(beam_matrix[:, 2, 2]).detach())\n",
    "\n",
    "ax.axhline(2.0e-3)\n"
   ],
   "metadata": {
    "collapsed": false,
    "pycharm": {
     "name": "#%%\n"
    }
   }
  },
  {
   "cell_type": "code",
   "execution_count": 21,
   "outputs": [],
   "source": [],
   "metadata": {
    "collapsed": false,
    "pycharm": {
     "name": "#%%\n"
    }
   }
  },
  {
   "cell_type": "code",
   "execution_count": 21,
   "outputs": [],
   "source": [],
   "metadata": {
    "collapsed": false,
    "pycharm": {
     "name": "#%%\n"
    }
   }
  }
 ],
 "metadata": {
  "kernelspec": {
   "name": "python3",
   "language": "python",
   "display_name": "Python 3 (ipykernel)"
  },
  "language_info": {
   "codemirror_mode": {
    "name": "ipython",
    "version": 2
   },
   "file_extension": ".py",
   "mimetype": "text/x-python",
   "name": "python",
   "nbconvert_exporter": "python",
   "pygments_lexer": "ipython2",
   "version": "2.7.6"
  }
 },
 "nbformat": 4,
 "nbformat_minor": 0
}