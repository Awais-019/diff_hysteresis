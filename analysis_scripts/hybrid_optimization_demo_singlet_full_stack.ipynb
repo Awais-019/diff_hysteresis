{
 "cells": [
  {
   "cell_type": "code",
   "execution_count": 51,
   "metadata": {
    "collapsed": true
   },
   "outputs": [],
   "source": [
    "from copy import deepcopy\n",
    "\n",
    "import matplotlib.pyplot as plt\n",
    "import torch\n",
    "from botorch.acquisition import UpperConfidenceBound\n",
    "from botorch.optim import optimize_acqf\n",
    "\n",
    "from hysteresis.base import TorchHysteresis\n",
    "from hysteresis.hybrid import HybridGP\n",
    "from torchAccelerator.first_order import TorchDrift\n",
    "from torchAccelerator.hysteresis import HysteresisAccelerator, HysteresisQuad\n",
    "\n",
    "\n",
    "def density_function(mesh_pts):\n",
    "    x = mesh_pts[:, 0]\n",
    "    y = mesh_pts[:, 1]\n",
    "    return torch.exp(-(y - x) / 0.5)\n",
    "\n",
    "def objective(R):\n",
    "    return R[0,0]#(torch.sqrt(R[0,0]) - 2.0e-3)**2\n",
    "\n",
    "def get_best(input):\n",
    "    result = torch.empty((len(input), len(input[0])-1))\n",
    "    for ii in range(len(input)):\n",
    "        for jj in range(1, len(input[0])):\n",
    "            result[ii][jj-1] = torch.min(input[ii][:jj])\n",
    "    return result"
   ]
  },
  {
   "cell_type": "code",
   "execution_count": 52,
   "outputs": [],
   "source": [
    "from tqdm.notebook import trange\n",
    "\n",
    "\n",
    "def optimize(\n",
    "        accelerator_model,\n",
    "        initial_beam_matrix,\n",
    "        h_models,\n",
    "        steps=50,\n",
    "):\n",
    "    iterations = steps\n",
    "\n",
    "    # initialize with a couple of points\n",
    "    train_X = torch.ones((3, 1)) * 0.75\n",
    "    train_X[0] = train_X[0] * 0.0\n",
    "    train_X[2] = train_X[2] * -1.0\n",
    "    train_Y = torch.empty((3, 1))\n",
    "\n",
    "    for j in range(3):\n",
    "        accelerator_model.apply_fields({'q1': train_X[j, 0]})\n",
    "\n",
    "        train_Y[j] = objective(\n",
    "            accelerator_model.forward(initial_beam_matrix)\n",
    "        )\n",
    "\n",
    "    gpmodel = HybridGP(train_X.detach(), train_Y.detach(), h_models)\n",
    "\n",
    "    for i in trange(iterations):\n",
    "        UCB = UpperConfidenceBound(gpmodel, beta=2.1, maximize=False)\n",
    "\n",
    "        bounds = torch.stack([-1.0 * torch.ones(1), torch.ones(1)])\n",
    "        candidate, acq_value = optimize_acqf(\n",
    "            UCB,\n",
    "            bounds=bounds,\n",
    "            q=1,\n",
    "            num_restarts=5,\n",
    "            raw_samples=20,\n",
    "        )\n",
    "        train_X = torch.cat((train_X, candidate))\n",
    "\n",
    "        # apply candidate\n",
    "        accelerator_model.apply_fields({'q1': candidate[0]})\n",
    "\n",
    "        # make next measurement\n",
    "        bs = objective(\n",
    "            accelerator_model.forward(initial_beam_matrix)\n",
    "        ).reshape(1, 1)\n",
    "        train_Y = torch.cat((train_Y.clone(), bs.clone()))\n",
    "\n",
    "        # train new model\n",
    "        gpmodel = HybridGP(train_X.detach(), train_Y.detach(), h_models)\n",
    "\n",
    "    return train_X, train_Y, accelerator_model, gpmodel"
   ],
   "metadata": {
    "collapsed": false,
    "pycharm": {
     "name": "#%%\n"
    }
   }
  },
  {
   "cell_type": "code",
   "execution_count": 53,
   "outputs": [
    {
     "data": {
      "text/plain": "[<matplotlib.lines.Line2D at 0x18476e20130>]"
     },
     "execution_count": 53,
     "metadata": {},
     "output_type": "execute_result"
    },
    {
     "data": {
      "text/plain": "<Figure size 432x288 with 1 Axes>",
      "image/png": "[encoded data removed]"
     },
     "metadata": {
      "needs_background": "light"
     },
     "output_type": "display_data"
    }
   ],
   "source": [
    "# hysteresis model\n",
    "H = TorchHysteresis(mesh_scale=0.1, trainable=False)\n",
    "dens = density_function(H.mesh_points)\n",
    "H.h_min = -1.0\n",
    "H.hysterion_density = dens\n",
    "H.scale = torch.tensor(500.0)\n",
    "\n",
    "test_H = deepcopy(H)\n",
    "test_applied_fields = torch.cat(\n",
    "    (torch.linspace(-1,1,11) , torch.flipud(torch.linspace(-1,1,11)))\n",
    ")\n",
    "test_H.applied_fields = test_applied_fields\n",
    "with torch.no_grad():\n",
    "    M = test_H.predict_magnetization_from_applied_fields()\n",
    "\n",
    "fig,ax = plt.subplots()\n",
    "ax.plot(test_applied_fields, M)"
   ],
   "metadata": {
    "collapsed": false,
    "pycharm": {
     "name": "#%%\n"
    }
   }
  },
  {
   "cell_type": "code",
   "execution_count": 54,
   "outputs": [
    {
     "data": {
      "text/plain": "  0%|          | 0/10 [00:00<?, ?it/s]",
      "application/vnd.jupyter.widget-view+json": {
       "version_major": 2,
       "version_minor": 0,
       "model_id": "9de2e2919f9f4b1bb17fc39e46728f1c"
      }
     },
     "metadata": {},
     "output_type": "display_data"
    },
    {
     "data": {
      "text/plain": "[<matplotlib.lines.Line2D at 0x1847704a160>]"
     },
     "execution_count": 54,
     "metadata": {},
     "output_type": "execute_result"
    },
    {
     "data": {
      "text/plain": "<Figure size 432x288 with 1 Axes>",
      "image/png": "[encoded data removed]"
     },
     "metadata": {
      "needs_background": "light"
     },
     "output_type": "display_data"
    }
   ],
   "source": [
    "# accelerator model\n",
    "hmodels = [deepcopy(H)] * 1\n",
    "\n",
    "# define quadrupoles\n",
    "d0 = TorchDrift(\"d0\", torch.tensor(1.0))\n",
    "q1 = HysteresisQuad(\"q1\", torch.tensor(0.1), hmodels[0])\n",
    "d1 = TorchDrift(\"d1\", torch.tensor(0.1))\n",
    "D = [d1] * 10\n",
    "\n",
    "HA = HysteresisAccelerator([d0, q1] + D, allow_duplicates=True)\n",
    "\n",
    "init_beam_matrix = torch.eye(6) * 1.0e-8\n",
    "\n",
    "# set x_rms beam size to 1 mm and rms divergence to 0.1 mrad\n",
    "init_beam_matrix[0, 0] = 1.0e-3 ** 2\n",
    "init_beam_matrix[1, 1] = 1.0e-4 ** 2\n",
    "init_beam_matrix[2, 2] = 1.0e-3 ** 2\n",
    "init_beam_matrix[3, 3] = 1.0e-4 ** 2\n",
    "R = init_beam_matrix\n",
    "\n",
    "# do optimization\n",
    "p, l, accelerator_model, gp_hybrid = optimize(\n",
    "    deepcopy(HA),\n",
    "    R,\n",
    "    hmodels,\n",
    "    steps=10,\n",
    ")\n",
    "\n",
    "\n",
    "# plot the optimizer trace\n",
    "\n",
    "fig,ax = plt.subplots()\n",
    "best = get_best(l.reshape(1,-1))\n",
    "ax.plot(l.detach())\n",
    "ax.plot(best.detach().flatten())"
   ],
   "metadata": {
    "collapsed": false,
    "pycharm": {
     "name": "#%%\n"
    }
   }
  },
  {
   "cell_type": "code",
   "execution_count": 55,
   "outputs": [
    {
     "name": "stdout",
     "output_type": "stream",
     "text": [
      "tensor(4.6156e-09, grad_fn=<SelectBackward>)\n",
      "tensor([0.0399])\n"
     ]
    },
    {
     "data": {
      "text/plain": "<matplotlib.lines.Line2D at 0x184770e1730>"
     },
     "execution_count": 55,
     "metadata": {},
     "output_type": "execute_result"
    },
    {
     "data": {
      "text/plain": "<Figure size 432x288 with 1 Axes>",
      "image/png": "[encoded data removed]"
     },
     "metadata": {
      "needs_background": "light"
     },
     "output_type": "display_data"
    }
   ],
   "source": [
    "# plot beam size along beamline\n",
    "#accelerator_model.apply_fields({'q1': torch.zeros(1)})\n",
    "beam_matrix = accelerator_model.forward(init_beam_matrix, full=False)\n",
    "print(objective(beam_matrix[-1]))\n",
    "print(p[-1])\n",
    "\n",
    "fig,ax = plt.subplots()\n",
    "ax.plot(torch.sqrt(beam_matrix[:, 0, 0]).detach())\n",
    "ax.axhline(2e-3)"
   ],
   "metadata": {
    "collapsed": false,
    "pycharm": {
     "name": "#%%\n"
    }
   }
  },
  {
   "cell_type": "code",
   "execution_count": 59,
   "outputs": [
    {
     "data": {
      "text/plain": "<matplotlib.collections.PolyCollection at 0x18477525e20>"
     },
     "execution_count": 59,
     "metadata": {},
     "output_type": "execute_result"
    },
    {
     "data": {
      "text/plain": "<Figure size 432x288 with 1 Axes>",
      "image/png": "[encoded data removed]"
     },
     "metadata": {
      "needs_background": "light"
     },
     "output_type": "display_data"
    }
   ],
   "source": [
    "# now use the Hybrid GP model to recover the best observed point by using the\n",
    "# posterior mean acquisition function\n",
    "acq = UpperConfidenceBound(gp_hybrid, beta = 0.00001, maximize=False)\n",
    "\n",
    "# plot model and acq at this state\n",
    "test_x = torch.linspace(-1,1,50)\n",
    "with torch.no_grad():\n",
    "    post = gp_hybrid(test_x.unsqueeze(1), untransform_posterior=True)\n",
    "    mean = post.mean.flatten()\n",
    "    std = torch.sqrt(post.variance.flatten())\n",
    "\n",
    "fig, ax = plt.subplots()\n",
    "ax.plot(test_x, mean)\n",
    "ax.plot(p, l.detach(),'.')\n",
    "ax.fill_between(test_x, mean - std, mean + std, alpha=0.25)"
   ],
   "metadata": {
    "collapsed": false,
    "pycharm": {
     "name": "#%%\n"
    }
   }
  },
  {
   "cell_type": "code",
   "execution_count": 57,
   "outputs": [
    {
     "name": "stdout",
     "output_type": "stream",
     "text": [
      "final setpoint:tensor([0.1318])\n",
      "objective value : 4.615574589195148e-09\n",
      "best candidate from optimization: tensor([0.0710])\n",
      "objective value : 1.2228515977596999e-09\n"
     ]
    },
    {
     "data": {
      "text/plain": "<matplotlib.lines.Line2D at 0x18476a0ce50>"
     },
     "execution_count": 57,
     "metadata": {},
     "output_type": "execute_result"
    },
    {
     "data": {
      "text/plain": "<Figure size 432x288 with 1 Axes>",
      "image/png": "[encoded data removed]"
     },
     "metadata": {
      "needs_background": "light"
     },
     "output_type": "display_data"
    }
   ],
   "source": [
    "\n",
    "\n",
    "\n",
    "bounds = torch.stack([-1.0 * torch.ones(1), torch.ones(1)])\n",
    "final_candidate, acq_value = optimize_acqf(\n",
    "    acq,\n",
    "    bounds=bounds,\n",
    "    q=1,\n",
    "    num_restarts=20,\n",
    "    raw_samples=100,\n",
    "    batch_initial_conditions=p[torch.argmin(l)].reshape(1,-1)\n",
    ")\n",
    "print(f'final setpoint:{final_candidate}')\n",
    "print(f'objective value : {objective(beam_matrix[-1])}')\n",
    "best_candidate_from_optimization = p[torch.argmin(l)]\n",
    "print(f\"best candidate from optimization: {best_candidate_from_optimization}\")\n",
    "print(f'objective value : {torch.min(l)}')\n",
    "\n",
    "# apply final candidate to accelerator\n",
    "accelerator_model.apply_fields(\n",
    "    {\n",
    "        \"q1\": final_candidate[0]\n",
    "    }\n",
    ")\n",
    "\n",
    "# plot beam size along beamline\n",
    "beam_matrix = accelerator_model.forward(init_beam_matrix, full=False)\n",
    "\n",
    "fig,ax = plt.subplots()\n",
    "ax.plot(torch.sqrt(beam_matrix[:, 0, 0]).detach())\n",
    "ax.axhline(2e-3)\n"
   ],
   "metadata": {
    "collapsed": false,
    "pycharm": {
     "name": "#%%\n"
    }
   }
  },
  {
   "cell_type": "code",
   "execution_count": 57,
   "outputs": [],
   "source": [],
   "metadata": {
    "collapsed": false,
    "pycharm": {
     "name": "#%%\n"
    }
   }
  }
 ],
 "metadata": {
  "kernelspec": {
   "name": "python3",
   "language": "python",
   "display_name": "Python 3 (ipykernel)"
  },
  "language_info": {
   "codemirror_mode": {
    "name": "ipython",
    "version": 2
   },
   "file_extension": ".py",
   "mimetype": "text/x-python",
   "name": "python",
   "nbconvert_exporter": "python",
   "pygments_lexer": "ipython2",
   "version": "2.7.6"
  }
 },
 "nbformat": 4,
 "nbformat_minor": 0
}