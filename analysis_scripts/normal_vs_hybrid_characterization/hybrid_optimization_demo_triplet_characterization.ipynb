{
 "cells": [
  {
   "cell_type": "code",
   "execution_count": 1,
   "metadata": {
    "collapsed": true,
    "jupyter": {
     "outputs_hidden": true
    }
   },
   "outputs": [],
   "source": [
    "from copy import deepcopy\n",
    "\n",
    "import matplotlib.pyplot as plt\n",
    "import torch\n",
    "from botorch.acquisition import UpperConfidenceBound\n",
    "from botorch.optim import optimize_acqf\n",
    "\n",
    "from hysteresis.base import TorchHysteresis\n",
    "from hysteresis.hybrid import HybridGP\n",
    "from torchAccelerator.first_order import TorchDrift\n",
    "from torchAccelerator.hysteresis import HysteresisAccelerator, HysteresisQuad\n",
    "\n",
    "\n",
    "def density_function(mesh_pts):\n",
    "    x = mesh_pts[:, 0]\n",
    "    y = mesh_pts[:, 1]\n",
    "    return torch.exp(-(y - x) / 0.5)\n",
    "\n",
    "def objective(R):\n",
    "    #return (torch.sqrt(R[0,0]) - 2.0e-3)**2 + (torch.sqrt(R[2,2]) - 2.0e-3)**2\n",
    "    return torch.log(torch.sqrt(\n",
    "        (torch.sqrt(R[0,0]) - 2e-3)**2 +\n",
    "        (torch.sqrt(R[2,2]) - 2e-3)**2)\n",
    "    )\n",
    "\n",
    "\n",
    "def get_best(input):\n",
    "    result = torch.empty((len(input), len(input[0])-1))\n",
    "    for ii in range(len(input)):\n",
    "        for jj in range(1, len(input[0])):\n",
    "            result[ii][jj-1] = torch.min(input[ii][:jj])\n",
    "    return result\n",
    "\n",
    "def get_model(train_X, train_Y, use_hybrid = False, h_models = None):\n",
    "    if use_hybrid:\n",
    "        gpmodel = HybridGP(train_X.clone().detach(),\n",
    "                           train_Y.clone().detach(), h_models)\n",
    "    else:\n",
    "        std_trans = Standardize(1)\n",
    "        gpmodel = SingleTaskGP(\n",
    "            train_X.clone().detach(),\n",
    "            train_Y.clone().detach(),\n",
    "            outcome_transform=std_trans\n",
    "        )\n",
    "        mll = ExactMarginalLogLikelihood(gpmodel.likelihood, gpmodel)\n",
    "        fit_gpytorch_model(mll)\n",
    "    return gpmodel"
   ]
  },
  {
   "cell_type": "code",
   "execution_count": 2,
   "metadata": {
    "collapsed": false,
    "jupyter": {
     "outputs_hidden": false
    },
    "pycharm": {
     "name": "#%%\n"
    }
   },
   "outputs": [],
   "source": [
    "from gpytorch.utils.errors import NotPSDError\n",
    "from botorch import fit_gpytorch_model\n",
    "from gpytorch import ExactMarginalLogLikelihood\n",
    "from botorch.models import SingleTaskGP\n",
    "from botorch.models.transforms import Standardize\n",
    "from tqdm.notebook import trange\n",
    "\n",
    "\n",
    "def optimize(\n",
    "        accelerator_model,\n",
    "        initial_beam_matrix,\n",
    "        h_models,\n",
    "        steps=50,\n",
    "        use_hybrid = True\n",
    "):\n",
    "    iterations = steps\n",
    "\n",
    "    # initialize with a couple of points\n",
    "    train_X = torch.ones((3, 3)) * 0.25\n",
    "    train_X[0] = train_X[0] * 0.0\n",
    "    train_X[2] = torch.tensor((0.3,-0.6, 0.3))\n",
    "    train_Y = torch.empty((3, 1))\n",
    "\n",
    "    for j in range(3):\n",
    "        accelerator_model.apply_fields({'q1': train_X[j, 0],\n",
    "                                        'q2': train_X[j, 1],\n",
    "                                        'q3': train_X[j, 2],})\n",
    "\n",
    "        train_Y[j] = objective(\n",
    "            accelerator_model.forward(initial_beam_matrix)\n",
    "        )\n",
    "\n",
    "    print(train_X)\n",
    "    print(train_Y)\n",
    "\n",
    "    gpmodel = get_model(train_X, train_Y, use_hybrid, h_models)\n",
    "\n",
    "    for i in range(iterations):\n",
    "        UCB = UpperConfidenceBound(gpmodel, beta=2.0, maximize=False)\n",
    "\n",
    "        bounds = torch.stack([-1.0 * torch.ones(3), torch.ones(3)])\n",
    "        candidate, acq_value = optimize_acqf(\n",
    "            UCB,\n",
    "            bounds=bounds,\n",
    "            q=1,\n",
    "            num_restarts=5,\n",
    "            raw_samples=20,\n",
    "        )\n",
    "        train_X = torch.cat((train_X, candidate))\n",
    "\n",
    "        # apply candidate\n",
    "        accelerator_model.apply_fields({'q1': candidate[0,0],\n",
    "                                        'q2': candidate[0,1],\n",
    "                                        'q3': candidate[0,2]})\n",
    "\n",
    "        # make next measurement\n",
    "        bs = objective(\n",
    "            accelerator_model.forward(initial_beam_matrix)\n",
    "        ).reshape(1, 1)\n",
    "        train_Y = torch.cat((train_Y.clone(), bs.clone()))\n",
    "\n",
    "        #print(torch.cat((candidate, bs), dim=1))\n",
    "\n",
    "\n",
    "        # train new model\n",
    "        try:\n",
    "            gpmodel = get_model(train_X, train_Y, use_hybrid, h_models)\n",
    "        except NotPSDError:\n",
    "            pass\n",
    "\n",
    "    return train_X, train_Y, accelerator_model, gpmodel"
   ]
  },
  {
   "cell_type": "code",
   "execution_count": 3,
   "metadata": {
    "collapsed": false,
    "jupyter": {
     "outputs_hidden": false
    },
    "pycharm": {
     "name": "#%%\n"
    }
   },
   "outputs": [
    {
     "data": {
      "text/plain": [
       "[<matplotlib.lines.Line2D at 0x13f9c6d78e0>]"
      ]
     },
     "execution_count": 3,
     "metadata": {},
     "output_type": "execute_result"
    },
    {
     "data": {
      "image/png": "[encoded data removed]",
      "text/plain": [
       "<Figure size 432x288 with 1 Axes>"
      ]
     },
     "metadata": {
      "needs_background": "light"
     },
     "output_type": "display_data"
    }
   ],
   "source": [
    "# hysteresis model\n",
    "H = TorchHysteresis(mesh_scale=0.1, trainable=False)\n",
    "dens = density_function(H.mesh_points)\n",
    "H.h_min = -1.0\n",
    "H.hysterion_density = dens\n",
    "H.scale = torch.tensor(500.0)\n",
    "\n",
    "test_H = deepcopy(H)\n",
    "test_applied_fields = torch.cat(\n",
    "    (torch.linspace(-1,1,11) , torch.flipud(torch.linspace(-1,1,11)))\n",
    ")\n",
    "test_H.applied_fields = test_applied_fields\n",
    "with torch.no_grad():\n",
    "    M = test_H.predict_magnetization_from_applied_fields()\n",
    "\n",
    "fig,ax = plt.subplots()\n",
    "ax.plot(test_applied_fields, M)"
   ]
  },
  {
   "cell_type": "code",
   "execution_count": 4,
   "metadata": {
    "collapsed": false,
    "jupyter": {
     "outputs_hidden": false
    },
    "pycharm": {
     "name": "#%%\n"
    }
   },
   "outputs": [],
   "source": [
    "# accelerator model\n",
    "hmodels = [deepcopy(H), deepcopy(H), deepcopy(H)]\n",
    "\n",
    "# define quadrupoles\n",
    "q1 = HysteresisQuad(\"q1\", torch.tensor(0.01), hmodels[0])\n",
    "d1 = TorchDrift(\"d1\", torch.tensor(1.0))\n",
    "d2 = TorchDrift(\"d2\", torch.tensor(1.0))\n",
    "q2 = HysteresisQuad(\"q2\", torch.tensor(0.01), hmodels[1])\n",
    "d3 = TorchDrift(\"d3\", torch.tensor(1.0))\n",
    "q3 = HysteresisQuad(\"q3\", torch.tensor(0.01), hmodels[2])\n",
    "\n",
    "HA = HysteresisAccelerator([q1, d1, q2, d2, q3, d3])\n",
    "\n",
    "init_beam_matrix = torch.eye(6) * 1.0e-8\n",
    "\n",
    "# set x_rms beam size to 1 mm and rms divergence to 0.1 mrad\n",
    "init_beam_matrix[0, 0] = 5.0e-3 ** 2\n",
    "init_beam_matrix[1, 1] = 1.0e-4 ** 2\n",
    "init_beam_matrix[2, 2] = 5.0e-3 ** 2\n",
    "init_beam_matrix[3, 3] = 1.0e-4 ** 2\n",
    "R = init_beam_matrix"
   ]
  },
  {
   "cell_type": "code",
   "execution_count": 5,
   "metadata": {
    "collapsed": false,
    "jupyter": {
     "outputs_hidden": false
    },
    "pycharm": {
     "name": "#%%\n"
    }
   },
   "outputs": [
    {
     "data": {
      "application/vnd.jupyter.widget-view+json": {
       "model_id": "8226a1c4d2074e5a894ab8e2797a4802",
       "version_major": 2,
       "version_minor": 0
      },
      "text/plain": [
       "  0%|          | 0/25 [00:00<?, ?it/s]"
      ]
     },
     "metadata": {},
     "output_type": "display_data"
    },
    {
     "name": "stdout",
     "output_type": "stream",
     "text": [
      "tensor([[ 0.0000,  0.0000,  0.0000],\n",
      "        [ 0.2500,  0.2500,  0.2500],\n",
      "        [ 0.3000, -0.6000,  0.3000]])\n",
      "tensor([[-3.3900],\n",
      "        [-3.8605],\n",
      "        [-3.8800]], grad_fn=<CopySlices>)\n"
     ]
    },
    {
     "data": {
      "application/vnd.jupyter.widget-view+json": {
       "model_id": "108cd88206324dc2a1d2eb06d7ecbc04",
       "version_major": 2,
       "version_minor": 0
      },
      "text/plain": [
       "  0%|          | 0/50 [00:00<?, ?it/s]"
      ]
     },
     "metadata": {},
     "output_type": "display_data"
    },
    {
     "name": "stdout",
     "output_type": "stream",
     "text": [
      "tensor([[ 0.0000,  0.0000,  0.0000],\n",
      "        [ 0.2500,  0.2500,  0.2500],\n",
      "        [ 0.3000, -0.6000,  0.3000]])\n",
      "tensor([[-3.3900],\n",
      "        [-3.8605],\n",
      "        [-3.8800]], grad_fn=<CopySlices>)\n"
     ]
    },
    {
     "data": {
      "application/vnd.jupyter.widget-view+json": {
       "model_id": "15eeecf9159f4d889a6d7c32082b9123",
       "version_major": 2,
       "version_minor": 0
      },
      "text/plain": [
       "  0%|          | 0/50 [00:00<?, ?it/s]"
      ]
     },
     "metadata": {},
     "output_type": "display_data"
    },
    {
     "name": "stdout",
     "output_type": "stream",
     "text": [
      "tensor([[ 0.0000,  0.0000,  0.0000],\n",
      "        [ 0.2500,  0.2500,  0.2500],\n",
      "        [ 0.3000, -0.6000,  0.3000]])\n",
      "tensor([[-3.3900],\n",
      "        [-3.8605],\n",
      "        [-3.8800]], grad_fn=<CopySlices>)\n"
     ]
    },
    {
     "data": {
      "application/vnd.jupyter.widget-view+json": {
       "model_id": "ec267110d05f4605a11e01684a7a03e5",
       "version_major": 2,
       "version_minor": 0
      },
      "text/plain": [
       "  0%|          | 0/50 [00:00<?, ?it/s]"
      ]
     },
     "metadata": {},
     "output_type": "display_data"
    },
    {
     "name": "stdout",
     "output_type": "stream",
     "text": [
      "tensor([[ 0.0000,  0.0000,  0.0000],\n",
      "        [ 0.2500,  0.2500,  0.2500],\n",
      "        [ 0.3000, -0.6000,  0.3000]])\n",
      "tensor([[-3.3900],\n",
      "        [-3.8605],\n",
      "        [-3.8800]], grad_fn=<CopySlices>)\n"
     ]
    },
    {
     "data": {
      "application/vnd.jupyter.widget-view+json": {
       "model_id": "509bd1694f904749bc8b60753c13e428",
       "version_major": 2,
       "version_minor": 0
      },
      "text/plain": [
       "  0%|          | 0/50 [00:00<?, ?it/s]"
      ]
     },
     "metadata": {},
     "output_type": "display_data"
    },
    {
     "name": "stdout",
     "output_type": "stream",
     "text": [
      "tensor([[ 0.0000,  0.0000,  0.0000],\n",
      "        [ 0.2500,  0.2500,  0.2500],\n",
      "        [ 0.3000, -0.6000,  0.3000]])\n",
      "tensor([[-3.3900],\n",
      "        [-3.8605],\n",
      "        [-3.8800]], grad_fn=<CopySlices>)\n"
     ]
    },
    {
     "data": {
      "application/vnd.jupyter.widget-view+json": {
       "model_id": "ce6e2d48ae83423097ffff44b476faa6",
       "version_major": 2,
       "version_minor": 0
      },
      "text/plain": [
       "  0%|          | 0/50 [00:00<?, ?it/s]"
      ]
     },
     "metadata": {},
     "output_type": "display_data"
    },
    {
     "name": "stdout",
     "output_type": "stream",
     "text": [
      "tensor([[ 0.0000,  0.0000,  0.0000],\n",
      "        [ 0.2500,  0.2500,  0.2500],\n",
      "        [ 0.3000, -0.6000,  0.3000]])\n",
      "tensor([[-3.3900],\n",
      "        [-3.8605],\n",
      "        [-3.8800]], grad_fn=<CopySlices>)\n"
     ]
    },
    {
     "data": {
      "application/vnd.jupyter.widget-view+json": {
       "model_id": "1f05337d95244f319d5a018915959e24",
       "version_major": 2,
       "version_minor": 0
      },
      "text/plain": [
       "  0%|          | 0/50 [00:00<?, ?it/s]"
      ]
     },
     "metadata": {},
     "output_type": "display_data"
    },
    {
     "name": "stdout",
     "output_type": "stream",
     "text": [
      "tensor([[ 0.0000,  0.0000,  0.0000],\n",
      "        [ 0.2500,  0.2500,  0.2500],\n",
      "        [ 0.3000, -0.6000,  0.3000]])\n",
      "tensor([[-3.3900],\n",
      "        [-3.8605],\n",
      "        [-3.8800]], grad_fn=<CopySlices>)\n"
     ]
    },
    {
     "data": {
      "application/vnd.jupyter.widget-view+json": {
       "model_id": "a0c84894ef1b4d6a99b441fb9033acf8",
       "version_major": 2,
       "version_minor": 0
      },
      "text/plain": [
       "  0%|          | 0/50 [00:00<?, ?it/s]"
      ]
     },
     "metadata": {},
     "output_type": "display_data"
    },
    {
     "name": "stdout",
     "output_type": "stream",
     "text": [
      "tensor([[ 0.0000,  0.0000,  0.0000],\n",
      "        [ 0.2500,  0.2500,  0.2500],\n",
      "        [ 0.3000, -0.6000,  0.3000]])\n",
      "tensor([[-3.3900],\n",
      "        [-3.8605],\n",
      "        [-3.8800]], grad_fn=<CopySlices>)\n"
     ]
    },
    {
     "data": {
      "application/vnd.jupyter.widget-view+json": {
       "model_id": "5c6c5646de9f498693c633f13dca919b",
       "version_major": 2,
       "version_minor": 0
      },
      "text/plain": [
       "  0%|          | 0/50 [00:00<?, ?it/s]"
      ]
     },
     "metadata": {},
     "output_type": "display_data"
    },
    {
     "name": "stdout",
     "output_type": "stream",
     "text": [
      "tensor([[ 0.0000,  0.0000,  0.0000],\n",
      "        [ 0.2500,  0.2500,  0.2500],\n",
      "        [ 0.3000, -0.6000,  0.3000]])\n",
      "tensor([[-3.3900],\n",
      "        [-3.8605],\n",
      "        [-3.8800]], grad_fn=<CopySlices>)\n"
     ]
    },
    {
     "data": {
      "application/vnd.jupyter.widget-view+json": {
       "model_id": "d3cb1782228a4e6d965c4fefa3a65904",
       "version_major": 2,
       "version_minor": 0
      },
      "text/plain": [
       "  0%|          | 0/50 [00:00<?, ?it/s]"
      ]
     },
     "metadata": {},
     "output_type": "display_data"
    },
    {
     "name": "stdout",
     "output_type": "stream",
     "text": [
      "tensor([[ 0.0000,  0.0000,  0.0000],\n",
      "        [ 0.2500,  0.2500,  0.2500],\n",
      "        [ 0.3000, -0.6000,  0.3000]])\n",
      "tensor([[-3.3900],\n",
      "        [-3.8605],\n",
      "        [-3.8800]], grad_fn=<CopySlices>)\n"
     ]
    },
    {
     "data": {
      "application/vnd.jupyter.widget-view+json": {
       "model_id": "9fa1f8951d7c4e13bda2f454e71935b8",
       "version_major": 2,
       "version_minor": 0
      },
      "text/plain": [
       "  0%|          | 0/50 [00:00<?, ?it/s]"
      ]
     },
     "metadata": {},
     "output_type": "display_data"
    },
    {
     "name": "stdout",
     "output_type": "stream",
     "text": [
      "tensor([[ 0.0000,  0.0000,  0.0000],\n",
      "        [ 0.2500,  0.2500,  0.2500],\n",
      "        [ 0.3000, -0.6000,  0.3000]])\n",
      "tensor([[-3.3900],\n",
      "        [-3.8605],\n",
      "        [-3.8800]], grad_fn=<CopySlices>)\n"
     ]
    },
    {
     "data": {
      "application/vnd.jupyter.widget-view+json": {
       "model_id": "c7da562d607d4c67b1f775973bb167ec",
       "version_major": 2,
       "version_minor": 0
      },
      "text/plain": [
       "  0%|          | 0/50 [00:00<?, ?it/s]"
      ]
     },
     "metadata": {},
     "output_type": "display_data"
    },
    {
     "name": "stdout",
     "output_type": "stream",
     "text": [
      "tensor([[ 0.0000,  0.0000,  0.0000],\n",
      "        [ 0.2500,  0.2500,  0.2500],\n",
      "        [ 0.3000, -0.6000,  0.3000]])\n",
      "tensor([[-3.3900],\n",
      "        [-3.8605],\n",
      "        [-3.8800]], grad_fn=<CopySlices>)\n"
     ]
    },
    {
     "data": {
      "application/vnd.jupyter.widget-view+json": {
       "model_id": "0a4d6140fe884342a40ef87f007d0934",
       "version_major": 2,
       "version_minor": 0
      },
      "text/plain": [
       "  0%|          | 0/50 [00:00<?, ?it/s]"
      ]
     },
     "metadata": {},
     "output_type": "display_data"
    },
    {
     "name": "stdout",
     "output_type": "stream",
     "text": [
      "tensor([[ 0.0000,  0.0000,  0.0000],\n",
      "        [ 0.2500,  0.2500,  0.2500],\n",
      "        [ 0.3000, -0.6000,  0.3000]])\n",
      "tensor([[-3.3900],\n",
      "        [-3.8605],\n",
      "        [-3.8800]], grad_fn=<CopySlices>)\n"
     ]
    },
    {
     "data": {
      "application/vnd.jupyter.widget-view+json": {
       "model_id": "ad75933cf8514a79945eaccce0321c7c",
       "version_major": 2,
       "version_minor": 0
      },
      "text/plain": [
       "  0%|          | 0/50 [00:00<?, ?it/s]"
      ]
     },
     "metadata": {},
     "output_type": "display_data"
    },
    {
     "name": "stdout",
     "output_type": "stream",
     "text": [
      "tensor([[ 0.0000,  0.0000,  0.0000],\n",
      "        [ 0.2500,  0.2500,  0.2500],\n",
      "        [ 0.3000, -0.6000,  0.3000]])\n",
      "tensor([[-3.3900],\n",
      "        [-3.8605],\n",
      "        [-3.8800]], grad_fn=<CopySlices>)\n"
     ]
    },
    {
     "data": {
      "application/vnd.jupyter.widget-view+json": {
       "model_id": "8e491c4ec6844b42acb78991ad0da0ec",
       "version_major": 2,
       "version_minor": 0
      },
      "text/plain": [
       "  0%|          | 0/50 [00:00<?, ?it/s]"
      ]
     },
     "metadata": {},
     "output_type": "display_data"
    },
    {
     "name": "stdout",
     "output_type": "stream",
     "text": [
      "tensor([[ 0.0000,  0.0000,  0.0000],\n",
      "        [ 0.2500,  0.2500,  0.2500],\n",
      "        [ 0.3000, -0.6000,  0.3000]])\n",
      "tensor([[-3.3900],\n",
      "        [-3.8605],\n",
      "        [-3.8800]], grad_fn=<CopySlices>)\n"
     ]
    },
    {
     "data": {
      "application/vnd.jupyter.widget-view+json": {
       "model_id": "345be51de48d4549be2bc6010c2338e2",
       "version_major": 2,
       "version_minor": 0
      },
      "text/plain": [
       "  0%|          | 0/50 [00:00<?, ?it/s]"
      ]
     },
     "metadata": {},
     "output_type": "display_data"
    },
    {
     "name": "stdout",
     "output_type": "stream",
     "text": [
      "tensor([[ 0.0000,  0.0000,  0.0000],\n",
      "        [ 0.2500,  0.2500,  0.2500],\n",
      "        [ 0.3000, -0.6000,  0.3000]])\n",
      "tensor([[-3.3900],\n",
      "        [-3.8605],\n",
      "        [-3.8800]], grad_fn=<CopySlices>)\n"
     ]
    },
    {
     "data": {
      "application/vnd.jupyter.widget-view+json": {
       "model_id": "70ae6a4ed47b448eb72835c82622364d",
       "version_major": 2,
       "version_minor": 0
      },
      "text/plain": [
       "  0%|          | 0/50 [00:00<?, ?it/s]"
      ]
     },
     "metadata": {},
     "output_type": "display_data"
    },
    {
     "name": "stdout",
     "output_type": "stream",
     "text": [
      "tensor([[ 0.0000,  0.0000,  0.0000],\n",
      "        [ 0.2500,  0.2500,  0.2500],\n",
      "        [ 0.3000, -0.6000,  0.3000]])\n",
      "tensor([[-3.3900],\n",
      "        [-3.8605],\n",
      "        [-3.8800]], grad_fn=<CopySlices>)\n"
     ]
    },
    {
     "data": {
      "application/vnd.jupyter.widget-view+json": {
       "model_id": "0b2a330039044697b988a973e241b7ff",
       "version_major": 2,
       "version_minor": 0
      },
      "text/plain": [
       "  0%|          | 0/50 [00:00<?, ?it/s]"
      ]
     },
     "metadata": {},
     "output_type": "display_data"
    },
    {
     "name": "stdout",
     "output_type": "stream",
     "text": [
      "tensor([[ 0.0000,  0.0000,  0.0000],\n",
      "        [ 0.2500,  0.2500,  0.2500],\n",
      "        [ 0.3000, -0.6000,  0.3000]])\n",
      "tensor([[-3.3900],\n",
      "        [-3.8605],\n",
      "        [-3.8800]], grad_fn=<CopySlices>)\n"
     ]
    },
    {
     "data": {
      "application/vnd.jupyter.widget-view+json": {
       "model_id": "26fbbda01d8a468cb23f3b1524580626",
       "version_major": 2,
       "version_minor": 0
      },
      "text/plain": [
       "  0%|          | 0/50 [00:00<?, ?it/s]"
      ]
     },
     "metadata": {},
     "output_type": "display_data"
    },
    {
     "name": "stdout",
     "output_type": "stream",
     "text": [
      "tensor([[ 0.0000,  0.0000,  0.0000],\n",
      "        [ 0.2500,  0.2500,  0.2500],\n",
      "        [ 0.3000, -0.6000,  0.3000]])\n",
      "tensor([[-3.3900],\n",
      "        [-3.8605],\n",
      "        [-3.8800]], grad_fn=<CopySlices>)\n"
     ]
    },
    {
     "data": {
      "application/vnd.jupyter.widget-view+json": {
       "model_id": "62fd06dddabf48a68043cbe61c796103",
       "version_major": 2,
       "version_minor": 0
      },
      "text/plain": [
       "  0%|          | 0/50 [00:00<?, ?it/s]"
      ]
     },
     "metadata": {},
     "output_type": "display_data"
    },
    {
     "name": "stdout",
     "output_type": "stream",
     "text": [
      "tensor([[ 0.0000,  0.0000,  0.0000],\n",
      "        [ 0.2500,  0.2500,  0.2500],\n",
      "        [ 0.3000, -0.6000,  0.3000]])\n",
      "tensor([[-3.3900],\n",
      "        [-3.8605],\n",
      "        [-3.8800]], grad_fn=<CopySlices>)\n"
     ]
    },
    {
     "data": {
      "application/vnd.jupyter.widget-view+json": {
       "model_id": "3337f63314764bce923c9cfea1f5e17a",
       "version_major": 2,
       "version_minor": 0
      },
      "text/plain": [
       "  0%|          | 0/50 [00:00<?, ?it/s]"
      ]
     },
     "metadata": {},
     "output_type": "display_data"
    },
    {
     "name": "stdout",
     "output_type": "stream",
     "text": [
      "tensor([[ 0.0000,  0.0000,  0.0000],\n",
      "        [ 0.2500,  0.2500,  0.2500],\n",
      "        [ 0.3000, -0.6000,  0.3000]])\n",
      "tensor([[-3.3900],\n",
      "        [-3.8605],\n",
      "        [-3.8800]], grad_fn=<CopySlices>)\n"
     ]
    },
    {
     "data": {
      "application/vnd.jupyter.widget-view+json": {
       "model_id": "611ee170c67a4072a1adeca6a0388360",
       "version_major": 2,
       "version_minor": 0
      },
      "text/plain": [
       "  0%|          | 0/50 [00:00<?, ?it/s]"
      ]
     },
     "metadata": {},
     "output_type": "display_data"
    },
    {
     "name": "stdout",
     "output_type": "stream",
     "text": [
      "tensor([[ 0.0000,  0.0000,  0.0000],\n",
      "        [ 0.2500,  0.2500,  0.2500],\n",
      "        [ 0.3000, -0.6000,  0.3000]])\n",
      "tensor([[-3.3900],\n",
      "        [-3.8605],\n",
      "        [-3.8800]], grad_fn=<CopySlices>)\n"
     ]
    },
    {
     "data": {
      "application/vnd.jupyter.widget-view+json": {
       "model_id": "2424ba36d9ad4f1eb0fd6b1ddd6afc4e",
       "version_major": 2,
       "version_minor": 0
      },
      "text/plain": [
       "  0%|          | 0/50 [00:00<?, ?it/s]"
      ]
     },
     "metadata": {},
     "output_type": "display_data"
    },
    {
     "name": "stdout",
     "output_type": "stream",
     "text": [
      "tensor([[ 0.0000,  0.0000,  0.0000],\n",
      "        [ 0.2500,  0.2500,  0.2500],\n",
      "        [ 0.3000, -0.6000,  0.3000]])\n",
      "tensor([[-3.3900],\n",
      "        [-3.8605],\n",
      "        [-3.8800]], grad_fn=<CopySlices>)\n"
     ]
    },
    {
     "data": {
      "application/vnd.jupyter.widget-view+json": {
       "model_id": "61ea2d0b202b4187b449096cc9f61551",
       "version_major": 2,
       "version_minor": 0
      },
      "text/plain": [
       "  0%|          | 0/50 [00:00<?, ?it/s]"
      ]
     },
     "metadata": {},
     "output_type": "display_data"
    },
    {
     "name": "stdout",
     "output_type": "stream",
     "text": [
      "tensor([[ 0.0000,  0.0000,  0.0000],\n",
      "        [ 0.2500,  0.2500,  0.2500],\n",
      "        [ 0.3000, -0.6000,  0.3000]])\n",
      "tensor([[-3.3900],\n",
      "        [-3.8605],\n",
      "        [-3.8800]], grad_fn=<CopySlices>)\n"
     ]
    },
    {
     "data": {
      "application/vnd.jupyter.widget-view+json": {
       "model_id": "612bf754299d43f192f12df3be2c2217",
       "version_major": 2,
       "version_minor": 0
      },
      "text/plain": [
       "  0%|          | 0/50 [00:00<?, ?it/s]"
      ]
     },
     "metadata": {},
     "output_type": "display_data"
    },
    {
     "name": "stdout",
     "output_type": "stream",
     "text": [
      "tensor([[ 0.0000,  0.0000,  0.0000],\n",
      "        [ 0.2500,  0.2500,  0.2500],\n",
      "        [ 0.3000, -0.6000,  0.3000]])\n",
      "tensor([[-3.3900],\n",
      "        [-3.8605],\n",
      "        [-3.8800]], grad_fn=<CopySlices>)\n"
     ]
    },
    {
     "data": {
      "application/vnd.jupyter.widget-view+json": {
       "model_id": "7006f17872eb4c4a99043fa6ece940a0",
       "version_major": 2,
       "version_minor": 0
      },
      "text/plain": [
       "  0%|          | 0/50 [00:00<?, ?it/s]"
      ]
     },
     "metadata": {},
     "output_type": "display_data"
    },
    {
     "data": {
      "application/vnd.jupyter.widget-view+json": {
       "model_id": "eb1feeab82c24cd98a2a1a2fba50938c",
       "version_major": 2,
       "version_minor": 0
      },
      "text/plain": [
       "  0%|          | 0/25 [00:00<?, ?it/s]"
      ]
     },
     "metadata": {},
     "output_type": "display_data"
    },
    {
     "name": "stdout",
     "output_type": "stream",
     "text": [
      "tensor([[ 0.0000,  0.0000,  0.0000],\n",
      "        [ 0.2500,  0.2500,  0.2500],\n",
      "        [ 0.3000, -0.6000,  0.3000]])\n",
      "tensor([[-3.3900],\n",
      "        [-3.8605],\n",
      "        [-3.8800]], grad_fn=<CopySlices>)\n"
     ]
    },
    {
     "data": {
      "application/vnd.jupyter.widget-view+json": {
       "model_id": "dc6c3f829ede47b88c8573b6e7d21d54",
       "version_major": 2,
       "version_minor": 0
      },
      "text/plain": [
       "  0%|          | 0/50 [00:00<?, ?it/s]"
      ]
     },
     "metadata": {},
     "output_type": "display_data"
    },
    {
     "name": "stdout",
     "output_type": "stream",
     "text": [
      "tensor([[ 0.0000,  0.0000,  0.0000],\n",
      "        [ 0.2500,  0.2500,  0.2500],\n",
      "        [ 0.3000, -0.6000,  0.3000]])\n",
      "tensor([[-3.3900],\n",
      "        [-3.8605],\n",
      "        [-3.8800]], grad_fn=<CopySlices>)\n"
     ]
    },
    {
     "data": {
      "application/vnd.jupyter.widget-view+json": {
       "model_id": "6b5aa83f6f034f8a93bf3b3c81db8351",
       "version_major": 2,
       "version_minor": 0
      },
      "text/plain": [
       "  0%|          | 0/50 [00:00<?, ?it/s]"
      ]
     },
     "metadata": {},
     "output_type": "display_data"
    },
    {
     "name": "stdout",
     "output_type": "stream",
     "text": [
      "tensor([[ 0.0000,  0.0000,  0.0000],\n",
      "        [ 0.2500,  0.2500,  0.2500],\n",
      "        [ 0.3000, -0.6000,  0.3000]])\n",
      "tensor([[-3.3900],\n",
      "        [-3.8605],\n",
      "        [-3.8800]], grad_fn=<CopySlices>)\n"
     ]
    },
    {
     "data": {
      "application/vnd.jupyter.widget-view+json": {
       "model_id": "b867b5fad9214ba7bcd7be96ebfbf271",
       "version_major": 2,
       "version_minor": 0
      },
      "text/plain": [
       "  0%|          | 0/50 [00:00<?, ?it/s]"
      ]
     },
     "metadata": {},
     "output_type": "display_data"
    },
    {
     "name": "stdout",
     "output_type": "stream",
     "text": [
      "tensor([[ 0.0000,  0.0000,  0.0000],\n",
      "        [ 0.2500,  0.2500,  0.2500],\n",
      "        [ 0.3000, -0.6000,  0.3000]])\n",
      "tensor([[-3.3900],\n",
      "        [-3.8605],\n",
      "        [-3.8800]], grad_fn=<CopySlices>)\n"
     ]
    },
    {
     "data": {
      "application/vnd.jupyter.widget-view+json": {
       "model_id": "93d42b450a4344a6afcb763973dbd915",
       "version_major": 2,
       "version_minor": 0
      },
      "text/plain": [
       "  0%|          | 0/50 [00:00<?, ?it/s]"
      ]
     },
     "metadata": {},
     "output_type": "display_data"
    },
    {
     "name": "stdout",
     "output_type": "stream",
     "text": [
      "tensor([[ 0.0000,  0.0000,  0.0000],\n",
      "        [ 0.2500,  0.2500,  0.2500],\n",
      "        [ 0.3000, -0.6000,  0.3000]])\n",
      "tensor([[-3.3900],\n",
      "        [-3.8605],\n",
      "        [-3.8800]], grad_fn=<CopySlices>)\n"
     ]
    },
    {
     "data": {
      "application/vnd.jupyter.widget-view+json": {
       "model_id": "8ea384a21b2a4971b17d1bd2815e28c3",
       "version_major": 2,
       "version_minor": 0
      },
      "text/plain": [
       "  0%|          | 0/50 [00:00<?, ?it/s]"
      ]
     },
     "metadata": {},
     "output_type": "display_data"
    },
    {
     "name": "stdout",
     "output_type": "stream",
     "text": [
      "tensor([[ 0.0000,  0.0000,  0.0000],\n",
      "        [ 0.2500,  0.2500,  0.2500],\n",
      "        [ 0.3000, -0.6000,  0.3000]])\n",
      "tensor([[-3.3900],\n",
      "        [-3.8605],\n",
      "        [-3.8800]], grad_fn=<CopySlices>)\n"
     ]
    },
    {
     "data": {
      "application/vnd.jupyter.widget-view+json": {
       "model_id": "6b812bf6466b456fa1078beac12c0a8c",
       "version_major": 2,
       "version_minor": 0
      },
      "text/plain": [
       "  0%|          | 0/50 [00:00<?, ?it/s]"
      ]
     },
     "metadata": {},
     "output_type": "display_data"
    },
    {
     "name": "stdout",
     "output_type": "stream",
     "text": [
      "tensor([[ 0.0000,  0.0000,  0.0000],\n",
      "        [ 0.2500,  0.2500,  0.2500],\n",
      "        [ 0.3000, -0.6000,  0.3000]])\n",
      "tensor([[-3.3900],\n",
      "        [-3.8605],\n",
      "        [-3.8800]], grad_fn=<CopySlices>)\n"
     ]
    },
    {
     "data": {
      "application/vnd.jupyter.widget-view+json": {
       "model_id": "1b86de6729884f79956da015e5210f5d",
       "version_major": 2,
       "version_minor": 0
      },
      "text/plain": [
       "  0%|          | 0/50 [00:00<?, ?it/s]"
      ]
     },
     "metadata": {},
     "output_type": "display_data"
    },
    {
     "name": "stdout",
     "output_type": "stream",
     "text": [
      "tensor([[ 0.0000,  0.0000,  0.0000],\n",
      "        [ 0.2500,  0.2500,  0.2500],\n",
      "        [ 0.3000, -0.6000,  0.3000]])\n",
      "tensor([[-3.3900],\n",
      "        [-3.8605],\n",
      "        [-3.8800]], grad_fn=<CopySlices>)\n"
     ]
    },
    {
     "data": {
      "application/vnd.jupyter.widget-view+json": {
       "model_id": "329aa8cef0b24afba95c485f1b86941f",
       "version_major": 2,
       "version_minor": 0
      },
      "text/plain": [
       "  0%|          | 0/50 [00:00<?, ?it/s]"
      ]
     },
     "metadata": {},
     "output_type": "display_data"
    },
    {
     "name": "stdout",
     "output_type": "stream",
     "text": [
      "tensor([[ 0.0000,  0.0000,  0.0000],\n",
      "        [ 0.2500,  0.2500,  0.2500],\n",
      "        [ 0.3000, -0.6000,  0.3000]])\n",
      "tensor([[-3.3900],\n",
      "        [-3.8605],\n",
      "        [-3.8800]], grad_fn=<CopySlices>)\n"
     ]
    },
    {
     "data": {
      "application/vnd.jupyter.widget-view+json": {
       "model_id": "a411d34cbca34dea8e59908267150b49",
       "version_major": 2,
       "version_minor": 0
      },
      "text/plain": [
       "  0%|          | 0/50 [00:00<?, ?it/s]"
      ]
     },
     "metadata": {},
     "output_type": "display_data"
    },
    {
     "name": "stdout",
     "output_type": "stream",
     "text": [
      "tensor([[ 0.0000,  0.0000,  0.0000],\n",
      "        [ 0.2500,  0.2500,  0.2500],\n",
      "        [ 0.3000, -0.6000,  0.3000]])\n",
      "tensor([[-3.3900],\n",
      "        [-3.8605],\n",
      "        [-3.8800]], grad_fn=<CopySlices>)\n"
     ]
    },
    {
     "data": {
      "application/vnd.jupyter.widget-view+json": {
       "model_id": "c4266a5ccae74856a7fc4d5c64fd21e4",
       "version_major": 2,
       "version_minor": 0
      },
      "text/plain": [
       "  0%|          | 0/50 [00:00<?, ?it/s]"
      ]
     },
     "metadata": {},
     "output_type": "display_data"
    },
    {
     "name": "stdout",
     "output_type": "stream",
     "text": [
      "tensor([[ 0.0000,  0.0000,  0.0000],\n",
      "        [ 0.2500,  0.2500,  0.2500],\n",
      "        [ 0.3000, -0.6000,  0.3000]])\n",
      "tensor([[-3.3900],\n",
      "        [-3.8605],\n",
      "        [-3.8800]], grad_fn=<CopySlices>)\n"
     ]
    },
    {
     "data": {
      "application/vnd.jupyter.widget-view+json": {
       "model_id": "f50d7c412f154e4e9be13692be16b581",
       "version_major": 2,
       "version_minor": 0
      },
      "text/plain": [
       "  0%|          | 0/50 [00:00<?, ?it/s]"
      ]
     },
     "metadata": {},
     "output_type": "display_data"
    },
    {
     "name": "stdout",
     "output_type": "stream",
     "text": [
      "tensor([[ 0.0000,  0.0000,  0.0000],\n",
      "        [ 0.2500,  0.2500,  0.2500],\n",
      "        [ 0.3000, -0.6000,  0.3000]])\n",
      "tensor([[-3.3900],\n",
      "        [-3.8605],\n",
      "        [-3.8800]], grad_fn=<CopySlices>)\n"
     ]
    },
    {
     "data": {
      "application/vnd.jupyter.widget-view+json": {
       "model_id": "177abb86549b47c9a96396dfa7a2d11b",
       "version_major": 2,
       "version_minor": 0
      },
      "text/plain": [
       "  0%|          | 0/50 [00:00<?, ?it/s]"
      ]
     },
     "metadata": {},
     "output_type": "display_data"
    },
    {
     "name": "stdout",
     "output_type": "stream",
     "text": [
      "tensor([[ 0.0000,  0.0000,  0.0000],\n",
      "        [ 0.2500,  0.2500,  0.2500],\n",
      "        [ 0.3000, -0.6000,  0.3000]])\n",
      "tensor([[-3.3900],\n",
      "        [-3.8605],\n",
      "        [-3.8800]], grad_fn=<CopySlices>)\n"
     ]
    },
    {
     "data": {
      "application/vnd.jupyter.widget-view+json": {
       "model_id": "7ab2101f2c9e4d7490f47c36e70c2fa1",
       "version_major": 2,
       "version_minor": 0
      },
      "text/plain": [
       "  0%|          | 0/50 [00:00<?, ?it/s]"
      ]
     },
     "metadata": {},
     "output_type": "display_data"
    },
    {
     "name": "stdout",
     "output_type": "stream",
     "text": [
      "tensor([[ 0.0000,  0.0000,  0.0000],\n",
      "        [ 0.2500,  0.2500,  0.2500],\n",
      "        [ 0.3000, -0.6000,  0.3000]])\n",
      "tensor([[-3.3900],\n",
      "        [-3.8605],\n",
      "        [-3.8800]], grad_fn=<CopySlices>)\n"
     ]
    },
    {
     "data": {
      "application/vnd.jupyter.widget-view+json": {
       "model_id": "26098fbefee041d7bffcfe630daec359",
       "version_major": 2,
       "version_minor": 0
      },
      "text/plain": [
       "  0%|          | 0/50 [00:00<?, ?it/s]"
      ]
     },
     "metadata": {},
     "output_type": "display_data"
    },
    {
     "name": "stdout",
     "output_type": "stream",
     "text": [
      "tensor([[ 0.0000,  0.0000,  0.0000],\n",
      "        [ 0.2500,  0.2500,  0.2500],\n",
      "        [ 0.3000, -0.6000,  0.3000]])\n",
      "tensor([[-3.3900],\n",
      "        [-3.8605],\n",
      "        [-3.8800]], grad_fn=<CopySlices>)\n"
     ]
    },
    {
     "data": {
      "application/vnd.jupyter.widget-view+json": {
       "model_id": "9d6410a63dc94969833dc97782d99621",
       "version_major": 2,
       "version_minor": 0
      },
      "text/plain": [
       "  0%|          | 0/50 [00:00<?, ?it/s]"
      ]
     },
     "metadata": {},
     "output_type": "display_data"
    },
    {
     "name": "stdout",
     "output_type": "stream",
     "text": [
      "tensor([[ 0.0000,  0.0000,  0.0000],\n",
      "        [ 0.2500,  0.2500,  0.2500],\n",
      "        [ 0.3000, -0.6000,  0.3000]])\n",
      "tensor([[-3.3900],\n",
      "        [-3.8605],\n",
      "        [-3.8800]], grad_fn=<CopySlices>)\n"
     ]
    },
    {
     "data": {
      "application/vnd.jupyter.widget-view+json": {
       "model_id": "ae78e4889c2f437ea41b1adf57207105",
       "version_major": 2,
       "version_minor": 0
      },
      "text/plain": [
       "  0%|          | 0/50 [00:00<?, ?it/s]"
      ]
     },
     "metadata": {},
     "output_type": "display_data"
    },
    {
     "name": "stdout",
     "output_type": "stream",
     "text": [
      "tensor([[ 0.0000,  0.0000,  0.0000],\n",
      "        [ 0.2500,  0.2500,  0.2500],\n",
      "        [ 0.3000, -0.6000,  0.3000]])\n",
      "tensor([[-3.3900],\n",
      "        [-3.8605],\n",
      "        [-3.8800]], grad_fn=<CopySlices>)\n"
     ]
    },
    {
     "data": {
      "application/vnd.jupyter.widget-view+json": {
       "model_id": "55bee53692f44c75941f4df145c35e77",
       "version_major": 2,
       "version_minor": 0
      },
      "text/plain": [
       "  0%|          | 0/50 [00:00<?, ?it/s]"
      ]
     },
     "metadata": {},
     "output_type": "display_data"
    },
    {
     "name": "stdout",
     "output_type": "stream",
     "text": [
      "tensor([[ 0.0000,  0.0000,  0.0000],\n",
      "        [ 0.2500,  0.2500,  0.2500],\n",
      "        [ 0.3000, -0.6000,  0.3000]])\n",
      "tensor([[-3.3900],\n",
      "        [-3.8605],\n",
      "        [-3.8800]], grad_fn=<CopySlices>)\n"
     ]
    },
    {
     "data": {
      "application/vnd.jupyter.widget-view+json": {
       "model_id": "575e20f532664e54ad7ff70da7640e7a",
       "version_major": 2,
       "version_minor": 0
      },
      "text/plain": [
       "  0%|          | 0/50 [00:00<?, ?it/s]"
      ]
     },
     "metadata": {},
     "output_type": "display_data"
    },
    {
     "name": "stdout",
     "output_type": "stream",
     "text": [
      "tensor([[ 0.0000,  0.0000,  0.0000],\n",
      "        [ 0.2500,  0.2500,  0.2500],\n",
      "        [ 0.3000, -0.6000,  0.3000]])\n",
      "tensor([[-3.3900],\n",
      "        [-3.8605],\n",
      "        [-3.8800]], grad_fn=<CopySlices>)\n"
     ]
    },
    {
     "data": {
      "application/vnd.jupyter.widget-view+json": {
       "model_id": "ebafca1d4ca54e0286ad0042eb6215ef",
       "version_major": 2,
       "version_minor": 0
      },
      "text/plain": [
       "  0%|          | 0/50 [00:00<?, ?it/s]"
      ]
     },
     "metadata": {},
     "output_type": "display_data"
    },
    {
     "name": "stdout",
     "output_type": "stream",
     "text": [
      "tensor([[ 0.0000,  0.0000,  0.0000],\n",
      "        [ 0.2500,  0.2500,  0.2500],\n",
      "        [ 0.3000, -0.6000,  0.3000]])\n",
      "tensor([[-3.3900],\n",
      "        [-3.8605],\n",
      "        [-3.8800]], grad_fn=<CopySlices>)\n"
     ]
    },
    {
     "data": {
      "application/vnd.jupyter.widget-view+json": {
       "model_id": "710ee976ab354b40b8ad36f57c3650f6",
       "version_major": 2,
       "version_minor": 0
      },
      "text/plain": [
       "  0%|          | 0/50 [00:00<?, ?it/s]"
      ]
     },
     "metadata": {},
     "output_type": "display_data"
    },
    {
     "name": "stdout",
     "output_type": "stream",
     "text": [
      "tensor([[ 0.0000,  0.0000,  0.0000],\n",
      "        [ 0.2500,  0.2500,  0.2500],\n",
      "        [ 0.3000, -0.6000,  0.3000]])\n",
      "tensor([[-3.3900],\n",
      "        [-3.8605],\n",
      "        [-3.8800]], grad_fn=<CopySlices>)\n"
     ]
    },
    {
     "data": {
      "application/vnd.jupyter.widget-view+json": {
       "model_id": "5a069fae3af04377996b091202b5df29",
       "version_major": 2,
       "version_minor": 0
      },
      "text/plain": [
       "  0%|          | 0/50 [00:00<?, ?it/s]"
      ]
     },
     "metadata": {},
     "output_type": "display_data"
    },
    {
     "name": "stdout",
     "output_type": "stream",
     "text": [
      "tensor([[ 0.0000,  0.0000,  0.0000],\n",
      "        [ 0.2500,  0.2500,  0.2500],\n",
      "        [ 0.3000, -0.6000,  0.3000]])\n",
      "tensor([[-3.3900],\n",
      "        [-3.8605],\n",
      "        [-3.8800]], grad_fn=<CopySlices>)\n"
     ]
    },
    {
     "data": {
      "application/vnd.jupyter.widget-view+json": {
       "model_id": "8305c3b2d0fd4108b333d08432664c00",
       "version_major": 2,
       "version_minor": 0
      },
      "text/plain": [
       "  0%|          | 0/50 [00:00<?, ?it/s]"
      ]
     },
     "metadata": {},
     "output_type": "display_data"
    },
    {
     "name": "stdout",
     "output_type": "stream",
     "text": [
      "tensor([[ 0.0000,  0.0000,  0.0000],\n",
      "        [ 0.2500,  0.2500,  0.2500],\n",
      "        [ 0.3000, -0.6000,  0.3000]])\n",
      "tensor([[-3.3900],\n",
      "        [-3.8605],\n",
      "        [-3.8800]], grad_fn=<CopySlices>)\n"
     ]
    },
    {
     "data": {
      "application/vnd.jupyter.widget-view+json": {
       "model_id": "e26f4b8dc9c64791b382830347975794",
       "version_major": 2,
       "version_minor": 0
      },
      "text/plain": [
       "  0%|          | 0/50 [00:00<?, ?it/s]"
      ]
     },
     "metadata": {},
     "output_type": "display_data"
    },
    {
     "name": "stdout",
     "output_type": "stream",
     "text": [
      "tensor([[ 0.0000,  0.0000,  0.0000],\n",
      "        [ 0.2500,  0.2500,  0.2500],\n",
      "        [ 0.3000, -0.6000,  0.3000]])\n",
      "tensor([[-3.3900],\n",
      "        [-3.8605],\n",
      "        [-3.8800]], grad_fn=<CopySlices>)\n"
     ]
    },
    {
     "data": {
      "application/vnd.jupyter.widget-view+json": {
       "model_id": "addfa1bc02ee477da05743fb0fa18dc9",
       "version_major": 2,
       "version_minor": 0
      },
      "text/plain": [
       "  0%|          | 0/50 [00:00<?, ?it/s]"
      ]
     },
     "metadata": {},
     "output_type": "display_data"
    },
    {
     "name": "stdout",
     "output_type": "stream",
     "text": [
      "tensor([[ 0.0000,  0.0000,  0.0000],\n",
      "        [ 0.2500,  0.2500,  0.2500],\n",
      "        [ 0.3000, -0.6000,  0.3000]])\n",
      "tensor([[-3.3900],\n",
      "        [-3.8605],\n",
      "        [-3.8800]], grad_fn=<CopySlices>)\n"
     ]
    },
    {
     "data": {
      "application/vnd.jupyter.widget-view+json": {
       "model_id": "b6c507e872584b05959d92dadaa405b2",
       "version_major": 2,
       "version_minor": 0
      },
      "text/plain": [
       "  0%|          | 0/50 [00:00<?, ?it/s]"
      ]
     },
     "metadata": {},
     "output_type": "display_data"
    }
   ],
   "source": [
    "# run optimization trials\n",
    "X = []\n",
    "Y = []\n",
    "for ele in [False, True]:\n",
    "    trace_x = []\n",
    "    trace_y = []\n",
    "    for k in trange(25):\n",
    "        p, l, accelerator_model, gp_hybrid = optimize(\n",
    "            deepcopy(HA),\n",
    "            R,\n",
    "            [deepcopy(H), deepcopy(H), deepcopy(H)],\n",
    "            steps=50,\n",
    "            use_hybrid=ele\n",
    "        )\n",
    "        trace_x += [p.clone()]\n",
    "        trace_y += [l.squeeze().detach().clone()]\n",
    "\n",
    "    X += [torch.vstack([ele.unsqueeze(0) for ele in trace_x])]\n",
    "    Y += [torch.vstack([ele.unsqueeze(0) for ele in trace_y])]\n",
    "\n",
    "X = torch.cat([ele.unsqueeze(0) for ele in X])\n",
    "Y = torch.cat([ele.unsqueeze(0) for ele in Y])\n",
    "# plot the optimizer trace"
   ]
  },
  {
   "cell_type": "code",
   "execution_count": 8,
   "metadata": {
    "collapsed": false,
    "jupyter": {
     "outputs_hidden": false
    },
    "pycharm": {
     "name": "#%%\n"
    }
   },
   "outputs": [],
   "source": [
    "torch.save(X, 'normal_vs_hybrid_x.pt')\n",
    "torch.save(Y, 'normal_vs_hybrid_y.pt')"
   ]
  },
  {
   "cell_type": "code",
   "execution_count": 7,
   "metadata": {
    "collapsed": false,
    "jupyter": {
     "outputs_hidden": false
    },
    "pycharm": {
     "name": "#%%\n"
    }
   },
   "outputs": [
    {
     "data": {
      "text/plain": [
       "<matplotlib.legend.Legend at 0x13fa44d8a60>"
      ]
     },
     "execution_count": 7,
     "metadata": {},
     "output_type": "execute_result"
    },
    {
     "data": {
      "image/png": "[encoded data removed]",
      "text/plain": [
       "<Figure size 432x288 with 1 Axes>"
      ]
     },
     "metadata": {
      "needs_background": "light"
     },
     "output_type": "display_data"
    }
   ],
   "source": [
    "fig2, ax2 = plt.subplots()\n",
    "\n",
    "c = ['C0','C1']\n",
    "labels = ['Normal','Hybrid']\n",
    "for idx, ele in enumerate(Y):\n",
    "    best = get_best(ele)\n",
    "    mean = torch.mean(best, dim=0)\n",
    "    std = torch.std(best, dim=0)\n",
    "    ax2.plot(mean, c[idx], label=labels[idx])\n",
    "    ax2.fill_between(range(len(std)), mean-std, mean+std, fc=c[idx], alpha=0.25)\n",
    "\n",
    "    for k in best:\n",
    "        ax2.plot(k,c=c[idx],alpha=0.25)\n",
    "\n",
    "ax2.set_xlabel('Iteration')\n",
    "ax2.set_ylabel('Objective')\n",
    "ax2.legend()"
   ]
  },
  {
   "cell_type": "code",
   "execution_count": null,
   "metadata": {
    "collapsed": false,
    "jupyter": {
     "outputs_hidden": false
    },
    "pycharm": {
     "name": "#%%\n"
    }
   },
   "outputs": [],
   "source": [
    "fig,ax = plt.subplots()\n",
    "best = get_best(l.reshape(1,-1))\n",
    "ax.plot(best.detach().flatten())"
   ]
  },
  {
   "cell_type": "code",
   "execution_count": null,
   "metadata": {
    "collapsed": false,
    "jupyter": {
     "outputs_hidden": false
    },
    "pycharm": {
     "name": "#%%\n"
    }
   },
   "outputs": [],
   "source": [
    "# plot beam size along beamline\n",
    "#accelerator_model.apply_fields(\n",
    "#    {\"q1\": torch.tensor(0.0),\"q2\": torch.tensor(0.0),\"q3\": torch.tensor(0.0),}\n",
    "#)\n",
    "beam_matrix = accelerator_model.forward(init_beam_matrix, full=False)\n",
    "print(objective(beam_matrix[-1]))\n",
    "print(p[-1])\n",
    "\n",
    "fig,ax = plt.subplots()\n",
    "ax.plot(torch.sqrt(beam_matrix[:, 0, 0]).detach())\n",
    "ax.plot(torch.sqrt(beam_matrix[:, 2, 2]).detach())\n",
    "\n",
    "ax.axhline(2.0e-3)\n"
   ]
  },
  {
   "cell_type": "code",
   "execution_count": null,
   "metadata": {
    "collapsed": false,
    "jupyter": {
     "outputs_hidden": false
    },
    "pycharm": {
     "name": "#%%\n"
    }
   },
   "outputs": [],
   "source": [
    "# now use the Hybrid GP model to recover the best observed point by using the\n",
    "# posterior mean acquisition function\n",
    "\n",
    "acq = UpperConfidenceBound(gp_hybrid, beta = 0.01, maximize=False)\n",
    "\n",
    "bounds = torch.stack([-1.0 * torch.ones(3), torch.ones(3)])\n",
    "final_candidate, acq_value = optimize_acqf(\n",
    "    acq,\n",
    "    bounds=bounds,\n",
    "    q=1,\n",
    "    num_restarts=50,\n",
    "    raw_samples=1,\n",
    "    batch_initial_conditions=p.unsqueeze(1)\n",
    "\n",
    ")\n",
    "\n",
    "\n",
    "print(final_candidate)\n",
    "final_candidate = final_candidate.flatten()\n",
    "\n",
    "# apply final candidate to accelerator\n",
    "accelerator_model.apply_fields(\n",
    "    {\n",
    "        \"q1\": final_candidate[0],\n",
    "        \"q2\": final_candidate[1],\n",
    "        \"q3\": final_candidate[2]\n",
    "    }\n",
    ")\n",
    "\n",
    "\n",
    "\n",
    "# plot beam size along beamline\n",
    "beam_matrix = accelerator_model.forward(init_beam_matrix, full=False)\n",
    "\n",
    "print(f'final setpoint:{final_candidate}')\n",
    "print(f'objective value : {objective(beam_matrix[-1])}')\n",
    "best_candidate_from_optimization = p[torch.argmin(l)]\n",
    "print(f\"best candidate from optimization: {best_candidate_from_optimization}\")\n",
    "print(f'objective value : {torch.min(l)}')\n",
    "\n",
    "fig,ax = plt.subplots()\n",
    "ax.plot(torch.sqrt(beam_matrix[:, 0, 0]).detach())\n",
    "ax.plot(torch.sqrt(beam_matrix[:, 2, 2]).detach())\n",
    "\n",
    "ax.axhline(2.0e-3)\n"
   ]
  },
  {
   "cell_type": "code",
   "execution_count": null,
   "metadata": {
    "collapsed": false,
    "jupyter": {
     "outputs_hidden": false
    },
    "pycharm": {
     "name": "#%%\n"
    }
   },
   "outputs": [],
   "source": []
  },
  {
   "cell_type": "code",
   "execution_count": null,
   "metadata": {
    "collapsed": false,
    "jupyter": {
     "outputs_hidden": false
    },
    "pycharm": {
     "name": "#%%\n"
    }
   },
   "outputs": [],
   "source": []
  }
 ],
 "metadata": {
  "kernelspec": {
   "display_name": "Python 3 (ipykernel)",
   "language": "python",
   "name": "python3"
  },
  "language_info": {
   "codemirror_mode": {
    "name": "ipython",
    "version": 3
   },
   "file_extension": ".py",
   "mimetype": "text/x-python",
   "name": "python",
   "nbconvert_exporter": "python",
   "pygments_lexer": "ipython3",
   "version": "3.9.7"
  }
 },
 "nbformat": 4,
 "nbformat_minor": 4
}
