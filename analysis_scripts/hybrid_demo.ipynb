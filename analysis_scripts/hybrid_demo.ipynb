{
 "cells": [
  {
   "cell_type": "code",
   "execution_count": 1,
   "outputs": [],
   "source": [
    "import matplotlib.pyplot as plt\n",
    "import torch\n",
    "\n",
    "from hysteresis.base import TorchHysteresis\n",
    "from hysteresis.hybrid import HybridGP\n",
    "\n",
    "def density_function(mesh_pts):\n",
    "    x = mesh_pts[:, 0]\n",
    "    y = mesh_pts[:, 1]\n",
    "    return torch.exp(-(y - x) / 0.1)"
   ],
   "metadata": {
    "collapsed": false,
    "pycharm": {
     "name": "#%%\n"
    }
   }
  },
  {
   "cell_type": "code",
   "execution_count": 2,
   "outputs": [],
   "source": [
    "# generate a diagonal scan across 2D input space\n",
    "train_x = torch.cat([torch.linspace(-1.0, 1.0, 10).reshape(-1, 1)] * 2, dim=1)\n",
    "\n",
    "# create hysteresis models and set densities\n",
    "H1 = TorchHysteresis(trainable=False, mesh_scale=0.1, h_min=-1.0)\n",
    "H2 = TorchHysteresis(trainable=False, mesh_scale=0.1, h_min=-1.0)\n",
    "H1.hysterion_density = density_function(H1.mesh_points)\n",
    "H2.hysterion_density = density_function(H2.mesh_points)\n",
    "\n",
    "# generate training data (magnetization)\n",
    "hmodels = [H1, H2]\n",
    "train_m = []\n",
    "for idx, hyst_model in enumerate(hmodels):\n",
    "    hyst_model.applied_fields = train_x[:, idx]\n",
    "    train_m += [hyst_model.predict_magnetization()]\n",
    "train_m = torch.cat([ele.unsqueeze(1) for ele in train_m], dim=1)\n",
    "\n",
    "# generate training data (output)\n",
    "train_y = train_m[:, 0] ** 2 + train_m[:, 1] ** 2\n",
    "\n",
    "# create and train hybrid model\n",
    "hgp = HybridGP(train_x, train_y.reshape(-1, 1), hmodels)\n",
    "hgp.train_model()\n",
    "\n",
    "# for name, item in hgp.named_parameters():\n",
    "#     print(f'{name}:{item}')"
   ],
   "metadata": {
    "collapsed": false,
    "pycharm": {
     "name": "#%%\n"
    }
   }
  },
  {
   "cell_type": "code",
   "execution_count": 3,
   "outputs": [
    {
     "data": {
      "text/plain": "<Figure size 432x288 with 1 Axes>",
      "image/png": "[encoded data removed]"
     },
     "metadata": {
      "needs_background": "light"
     },
     "output_type": "display_data"
    }
   ],
   "source": [
    "test_x = torch.cat([torch.linspace(-1.0, 1.0, 50).reshape(-1, 1)] * 2, dim=1)\n",
    "with torch.no_grad():\n",
    "    post = hgp(test_x)\n",
    "    mean = post.mean.flatten()\n",
    "    std = torch.sqrt(post.variance).flatten()\n",
    "\n",
    "fig, ax = plt.subplots()\n",
    "ax.plot(train_x[:, 0], train_y.detach(), 'o')\n",
    "ax.plot(test_x[:, 0], mean, 'C1')\n",
    "plt.show()\n",
    "\n"
   ],
   "metadata": {
    "collapsed": false,
    "pycharm": {
     "name": "#%%\n"
    }
   }
  },
  {
   "cell_type": "code",
   "execution_count": null,
   "outputs": [],
   "source": [],
   "metadata": {
    "collapsed": false,
    "pycharm": {
     "name": "#%%\n"
    }
   }
  }
 ],
 "metadata": {
  "kernelspec": {
   "name": "python3",
   "language": "python",
   "display_name": "Python 3 (ipykernel)"
  },
  "language_info": {
   "codemirror_mode": {
    "name": "ipython",
    "version": 2
   },
   "file_extension": ".py",
   "mimetype": "text/x-python",
   "name": "python",
   "nbconvert_exporter": "python",
   "pygments_lexer": "ipython2",
   "version": "2.7.6"
  }
 },
 "nbformat": 4,
 "nbformat_minor": 0
}